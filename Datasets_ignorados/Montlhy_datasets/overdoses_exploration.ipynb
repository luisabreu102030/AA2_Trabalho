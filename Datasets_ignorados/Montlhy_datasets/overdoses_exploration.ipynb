{
 "cells": [
  {
   "cell_type": "markdown",
   "metadata": {
    "id": "tHbZO5su36o7"
   },
   "source": [
    "# Covid data exploration\n",
    "\n"
   ]
  },
  {
   "cell_type": "code",
   "execution_count": 7,
   "metadata": {
    "id": "94VMwh7D4BHp"
   },
   "outputs": [],
   "source": [
    "import pandas as pd\n",
    "import numpy as np\n",
    "import matplotlib.pyplot as plt\n",
    "from sklearn.feature_selection import f_classif\n",
    "from sklearn import preprocessing\n",
    "from sklearn.model_selection import train_test_split\n",
    "from sklearn.tree import DecisionTreeClassifier\n",
    "from sklearn.linear_model import LogisticRegression\n",
    "from sklearn.metrics import classification_report, confusion_matrix\n",
    "from sklearn import metrics\n",
    "from sklearn.feature_selection import SelectKBest, chi2, f_regression\n",
    "import seaborn as sns\n",
    "from sklearn.feature_selection import RFE\n",
    "from sklearn.ensemble import RandomForestRegressor\n",
    "from matplotlib import pyplot"
   ]
  },
  {
   "cell_type": "code",
   "execution_count": 8,
   "metadata": {
    "colab": {
     "base_uri": "https://localhost:8080/",
     "height": 686
    },
    "id": "Tjvy83nT4BDR",
    "outputId": "5c251112-e18a-4013-e345-1c32ca64dff6"
   },
   "outputs": [
    {
     "data": {
      "text/html": [
       "<div>\n",
       "<style scoped>\n",
       "    .dataframe tbody tr th:only-of-type {\n",
       "        vertical-align: middle;\n",
       "    }\n",
       "\n",
       "    .dataframe tbody tr th {\n",
       "        vertical-align: top;\n",
       "    }\n",
       "\n",
       "    .dataframe thead th {\n",
       "        text-align: right;\n",
       "    }\n",
       "</style>\n",
       "<table border=\"1\" class=\"dataframe\">\n",
       "  <thead>\n",
       "    <tr style=\"text-align: right;\">\n",
       "      <th></th>\n",
       "      <th>Cocaine (T40.5)</th>\n",
       "      <th>Heroin (T40.1)</th>\n",
       "      <th>Methadone (T40.3)</th>\n",
       "      <th>Natural &amp; semi-synthetic opioids (T40.2)</th>\n",
       "      <th>Natural &amp; semi-synthetic opioids, incl. methadone (T40.2, T40.3)</th>\n",
       "      <th>Natural, semi-synthetic, &amp; synthetic opioids, incl. methadone (T40.2-T40.4)</th>\n",
       "      <th>Number of Drug Overdose Deaths</th>\n",
       "      <th>Opioids (T40.0-T40.4,T40.6)</th>\n",
       "      <th>Psychostimulants with abuse potential (T43.6)</th>\n",
       "      <th>Synthetic opioids, excl. methadone (T40.4)</th>\n",
       "    </tr>\n",
       "    <tr>\n",
       "      <th>Date</th>\n",
       "      <th></th>\n",
       "      <th></th>\n",
       "      <th></th>\n",
       "      <th></th>\n",
       "      <th></th>\n",
       "      <th></th>\n",
       "      <th></th>\n",
       "      <th></th>\n",
       "      <th></th>\n",
       "      <th></th>\n",
       "    </tr>\n",
       "  </thead>\n",
       "  <tbody>\n",
       "    <tr>\n",
       "      <th>2015-01-01</th>\n",
       "      <td>5496</td>\n",
       "      <td>10788</td>\n",
       "      <td>3413</td>\n",
       "      <td>12269</td>\n",
       "      <td>14944</td>\n",
       "      <td>19161</td>\n",
       "      <td>47523</td>\n",
       "      <td>28986</td>\n",
       "      <td>4402</td>\n",
       "      <td>5766</td>\n",
       "    </tr>\n",
       "    <tr>\n",
       "      <th>2015-02-01</th>\n",
       "      <td>5592</td>\n",
       "      <td>11002</td>\n",
       "      <td>3372</td>\n",
       "      <td>12237</td>\n",
       "      <td>14885</td>\n",
       "      <td>19358</td>\n",
       "      <td>47725</td>\n",
       "      <td>29269</td>\n",
       "      <td>4449</td>\n",
       "      <td>6079</td>\n",
       "    </tr>\n",
       "    <tr>\n",
       "      <th>2015-03-01</th>\n",
       "      <td>5729</td>\n",
       "      <td>11167</td>\n",
       "      <td>3387</td>\n",
       "      <td>12267</td>\n",
       "      <td>14929</td>\n",
       "      <td>19640</td>\n",
       "      <td>48198</td>\n",
       "      <td>29609</td>\n",
       "      <td>4586</td>\n",
       "      <td>6390</td>\n",
       "    </tr>\n",
       "    <tr>\n",
       "      <th>2015-04-01</th>\n",
       "      <td>5908</td>\n",
       "      <td>11471</td>\n",
       "      <td>3401</td>\n",
       "      <td>12356</td>\n",
       "      <td>15022</td>\n",
       "      <td>20124</td>\n",
       "      <td>48748</td>\n",
       "      <td>30240</td>\n",
       "      <td>4675</td>\n",
       "      <td>6868</td>\n",
       "    </tr>\n",
       "    <tr>\n",
       "      <th>2015-05-01</th>\n",
       "      <td>5987</td>\n",
       "      <td>11675</td>\n",
       "      <td>3421</td>\n",
       "      <td>12474</td>\n",
       "      <td>15133</td>\n",
       "      <td>20539</td>\n",
       "      <td>49293</td>\n",
       "      <td>30745</td>\n",
       "      <td>4785</td>\n",
       "      <td>7254</td>\n",
       "    </tr>\n",
       "    <tr>\n",
       "      <th>...</th>\n",
       "      <td>...</td>\n",
       "      <td>...</td>\n",
       "      <td>...</td>\n",
       "      <td>...</td>\n",
       "      <td>...</td>\n",
       "      <td>...</td>\n",
       "      <td>...</td>\n",
       "      <td>...</td>\n",
       "      <td>...</td>\n",
       "      <td>...</td>\n",
       "    </tr>\n",
       "    <tr>\n",
       "      <th>2020-04-01</th>\n",
       "      <td>17765</td>\n",
       "      <td>13977</td>\n",
       "      <td>2895</td>\n",
       "      <td>12272</td>\n",
       "      <td>14689</td>\n",
       "      <td>49966</td>\n",
       "      <td>76624</td>\n",
       "      <td>54879</td>\n",
       "      <td>18374</td>\n",
       "      <td>41932</td>\n",
       "    </tr>\n",
       "    <tr>\n",
       "      <th>2020-05-01</th>\n",
       "      <td>18476</td>\n",
       "      <td>14254</td>\n",
       "      <td>3053</td>\n",
       "      <td>12687</td>\n",
       "      <td>15227</td>\n",
       "      <td>53137</td>\n",
       "      <td>79974</td>\n",
       "      <td>57982</td>\n",
       "      <td>19243</td>\n",
       "      <td>45066</td>\n",
       "    </tr>\n",
       "    <tr>\n",
       "      <th>2020-06-01</th>\n",
       "      <td>18832</td>\n",
       "      <td>14241</td>\n",
       "      <td>3142</td>\n",
       "      <td>12767</td>\n",
       "      <td>15383</td>\n",
       "      <td>55169</td>\n",
       "      <td>82068</td>\n",
       "      <td>59935</td>\n",
       "      <td>19892</td>\n",
       "      <td>47199</td>\n",
       "    </tr>\n",
       "    <tr>\n",
       "      <th>2020-07-01</th>\n",
       "      <td>18997</td>\n",
       "      <td>14145</td>\n",
       "      <td>3234</td>\n",
       "      <td>12894</td>\n",
       "      <td>15593</td>\n",
       "      <td>56943</td>\n",
       "      <td>83989</td>\n",
       "      <td>61626</td>\n",
       "      <td>20539</td>\n",
       "      <td>48987</td>\n",
       "    </tr>\n",
       "    <tr>\n",
       "      <th>2020-08-01</th>\n",
       "      <td>19021</td>\n",
       "      <td>13905</td>\n",
       "      <td>3313</td>\n",
       "      <td>12986</td>\n",
       "      <td>15750</td>\n",
       "      <td>58414</td>\n",
       "      <td>85516</td>\n",
       "      <td>62972</td>\n",
       "      <td>21405</td>\n",
       "      <td>50492</td>\n",
       "    </tr>\n",
       "  </tbody>\n",
       "</table>\n",
       "<p>68 rows × 10 columns</p>\n",
       "</div>"
      ],
      "text/plain": [
       "            Cocaine (T40.5)  Heroin (T40.1)  Methadone (T40.3)  \\\n",
       "Date                                                             \n",
       "2015-01-01             5496           10788               3413   \n",
       "2015-02-01             5592           11002               3372   \n",
       "2015-03-01             5729           11167               3387   \n",
       "2015-04-01             5908           11471               3401   \n",
       "2015-05-01             5987           11675               3421   \n",
       "...                     ...             ...                ...   \n",
       "2020-04-01            17765           13977               2895   \n",
       "2020-05-01            18476           14254               3053   \n",
       "2020-06-01            18832           14241               3142   \n",
       "2020-07-01            18997           14145               3234   \n",
       "2020-08-01            19021           13905               3313   \n",
       "\n",
       "            Natural & semi-synthetic opioids (T40.2)  \\\n",
       "Date                                                   \n",
       "2015-01-01                                     12269   \n",
       "2015-02-01                                     12237   \n",
       "2015-03-01                                     12267   \n",
       "2015-04-01                                     12356   \n",
       "2015-05-01                                     12474   \n",
       "...                                              ...   \n",
       "2020-04-01                                     12272   \n",
       "2020-05-01                                     12687   \n",
       "2020-06-01                                     12767   \n",
       "2020-07-01                                     12894   \n",
       "2020-08-01                                     12986   \n",
       "\n",
       "            Natural & semi-synthetic opioids, incl. methadone (T40.2, T40.3)  \\\n",
       "Date                                                                           \n",
       "2015-01-01                                              14944                  \n",
       "2015-02-01                                              14885                  \n",
       "2015-03-01                                              14929                  \n",
       "2015-04-01                                              15022                  \n",
       "2015-05-01                                              15133                  \n",
       "...                                                       ...                  \n",
       "2020-04-01                                              14689                  \n",
       "2020-05-01                                              15227                  \n",
       "2020-06-01                                              15383                  \n",
       "2020-07-01                                              15593                  \n",
       "2020-08-01                                              15750                  \n",
       "\n",
       "            Natural, semi-synthetic, & synthetic opioids, incl. methadone (T40.2-T40.4)  \\\n",
       "Date                                                                                      \n",
       "2015-01-01                                              19161                             \n",
       "2015-02-01                                              19358                             \n",
       "2015-03-01                                              19640                             \n",
       "2015-04-01                                              20124                             \n",
       "2015-05-01                                              20539                             \n",
       "...                                                       ...                             \n",
       "2020-04-01                                              49966                             \n",
       "2020-05-01                                              53137                             \n",
       "2020-06-01                                              55169                             \n",
       "2020-07-01                                              56943                             \n",
       "2020-08-01                                              58414                             \n",
       "\n",
       "            Number of Drug Overdose Deaths  Opioids (T40.0-T40.4,T40.6)  \\\n",
       "Date                                                                      \n",
       "2015-01-01                           47523                        28986   \n",
       "2015-02-01                           47725                        29269   \n",
       "2015-03-01                           48198                        29609   \n",
       "2015-04-01                           48748                        30240   \n",
       "2015-05-01                           49293                        30745   \n",
       "...                                    ...                          ...   \n",
       "2020-04-01                           76624                        54879   \n",
       "2020-05-01                           79974                        57982   \n",
       "2020-06-01                           82068                        59935   \n",
       "2020-07-01                           83989                        61626   \n",
       "2020-08-01                           85516                        62972   \n",
       "\n",
       "            Psychostimulants with abuse potential (T43.6)  \\\n",
       "Date                                                        \n",
       "2015-01-01                                           4402   \n",
       "2015-02-01                                           4449   \n",
       "2015-03-01                                           4586   \n",
       "2015-04-01                                           4675   \n",
       "2015-05-01                                           4785   \n",
       "...                                                   ...   \n",
       "2020-04-01                                          18374   \n",
       "2020-05-01                                          19243   \n",
       "2020-06-01                                          19892   \n",
       "2020-07-01                                          20539   \n",
       "2020-08-01                                          21405   \n",
       "\n",
       "            Synthetic opioids, excl. methadone (T40.4)  \n",
       "Date                                                    \n",
       "2015-01-01                                        5766  \n",
       "2015-02-01                                        6079  \n",
       "2015-03-01                                        6390  \n",
       "2015-04-01                                        6868  \n",
       "2015-05-01                                        7254  \n",
       "...                                                ...  \n",
       "2020-04-01                                       41932  \n",
       "2020-05-01                                       45066  \n",
       "2020-06-01                                       47199  \n",
       "2020-07-01                                       48987  \n",
       "2020-08-01                                       50492  \n",
       "\n",
       "[68 rows x 10 columns]"
      ]
     },
     "execution_count": 8,
     "metadata": {},
     "output_type": "execute_result"
    }
   ],
   "source": [
    "dataset = pd.read_csv('overdoses.csv', index_col=0)\n",
    "dataset"
   ]
  },
  {
   "cell_type": "code",
   "execution_count": 9,
   "metadata": {
    "colab": {
     "base_uri": "https://localhost:8080/"
    },
    "id": "wKh5P3JYndFO",
    "outputId": "6144cd86-b6c6-49fb-be32-f6cf1bedfa0d"
   },
   "outputs": [
    {
     "data": {
      "text/plain": [
       "(68, 10)"
      ]
     },
     "execution_count": 9,
     "metadata": {},
     "output_type": "execute_result"
    }
   ],
   "source": [
    "dataset.shape"
   ]
  },
  {
   "cell_type": "code",
   "execution_count": 10,
   "metadata": {
    "colab": {
     "base_uri": "https://localhost:8080/",
     "height": 396
    },
    "id": "C0mVUPZ833ZL",
    "outputId": "d868f6e3-d0ee-4447-ea63-6ce7a488587f"
   },
   "outputs": [
    {
     "data": {
      "text/html": [
       "<div>\n",
       "<style scoped>\n",
       "    .dataframe tbody tr th:only-of-type {\n",
       "        vertical-align: middle;\n",
       "    }\n",
       "\n",
       "    .dataframe tbody tr th {\n",
       "        vertical-align: top;\n",
       "    }\n",
       "\n",
       "    .dataframe thead th {\n",
       "        text-align: right;\n",
       "    }\n",
       "</style>\n",
       "<table border=\"1\" class=\"dataframe\">\n",
       "  <thead>\n",
       "    <tr style=\"text-align: right;\">\n",
       "      <th></th>\n",
       "      <th>Cocaine (T40.5)</th>\n",
       "      <th>Heroin (T40.1)</th>\n",
       "      <th>Methadone (T40.3)</th>\n",
       "      <th>Natural &amp; semi-synthetic opioids (T40.2)</th>\n",
       "      <th>Natural &amp; semi-synthetic opioids, incl. methadone (T40.2, T40.3)</th>\n",
       "      <th>Natural, semi-synthetic, &amp; synthetic opioids, incl. methadone (T40.2-T40.4)</th>\n",
       "      <th>Number of Drug Overdose Deaths</th>\n",
       "      <th>Opioids (T40.0-T40.4,T40.6)</th>\n",
       "      <th>Psychostimulants with abuse potential (T43.6)</th>\n",
       "      <th>Synthetic opioids, excl. methadone (T40.4)</th>\n",
       "    </tr>\n",
       "    <tr>\n",
       "      <th>Date</th>\n",
       "      <th></th>\n",
       "      <th></th>\n",
       "      <th></th>\n",
       "      <th></th>\n",
       "      <th></th>\n",
       "      <th></th>\n",
       "      <th></th>\n",
       "      <th></th>\n",
       "      <th></th>\n",
       "      <th></th>\n",
       "    </tr>\n",
       "  </thead>\n",
       "  <tbody>\n",
       "    <tr>\n",
       "      <th>2015-01-01</th>\n",
       "      <td>5496</td>\n",
       "      <td>10788</td>\n",
       "      <td>3413</td>\n",
       "      <td>12269</td>\n",
       "      <td>14944</td>\n",
       "      <td>19161</td>\n",
       "      <td>47523</td>\n",
       "      <td>28986</td>\n",
       "      <td>4402</td>\n",
       "      <td>5766</td>\n",
       "    </tr>\n",
       "    <tr>\n",
       "      <th>2015-02-01</th>\n",
       "      <td>5592</td>\n",
       "      <td>11002</td>\n",
       "      <td>3372</td>\n",
       "      <td>12237</td>\n",
       "      <td>14885</td>\n",
       "      <td>19358</td>\n",
       "      <td>47725</td>\n",
       "      <td>29269</td>\n",
       "      <td>4449</td>\n",
       "      <td>6079</td>\n",
       "    </tr>\n",
       "    <tr>\n",
       "      <th>2015-03-01</th>\n",
       "      <td>5729</td>\n",
       "      <td>11167</td>\n",
       "      <td>3387</td>\n",
       "      <td>12267</td>\n",
       "      <td>14929</td>\n",
       "      <td>19640</td>\n",
       "      <td>48198</td>\n",
       "      <td>29609</td>\n",
       "      <td>4586</td>\n",
       "      <td>6390</td>\n",
       "    </tr>\n",
       "    <tr>\n",
       "      <th>2015-04-01</th>\n",
       "      <td>5908</td>\n",
       "      <td>11471</td>\n",
       "      <td>3401</td>\n",
       "      <td>12356</td>\n",
       "      <td>15022</td>\n",
       "      <td>20124</td>\n",
       "      <td>48748</td>\n",
       "      <td>30240</td>\n",
       "      <td>4675</td>\n",
       "      <td>6868</td>\n",
       "    </tr>\n",
       "    <tr>\n",
       "      <th>2015-05-01</th>\n",
       "      <td>5987</td>\n",
       "      <td>11675</td>\n",
       "      <td>3421</td>\n",
       "      <td>12474</td>\n",
       "      <td>15133</td>\n",
       "      <td>20539</td>\n",
       "      <td>49293</td>\n",
       "      <td>30745</td>\n",
       "      <td>4785</td>\n",
       "      <td>7254</td>\n",
       "    </tr>\n",
       "  </tbody>\n",
       "</table>\n",
       "</div>"
      ],
      "text/plain": [
       "            Cocaine (T40.5)  Heroin (T40.1)  Methadone (T40.3)  \\\n",
       "Date                                                             \n",
       "2015-01-01             5496           10788               3413   \n",
       "2015-02-01             5592           11002               3372   \n",
       "2015-03-01             5729           11167               3387   \n",
       "2015-04-01             5908           11471               3401   \n",
       "2015-05-01             5987           11675               3421   \n",
       "\n",
       "            Natural & semi-synthetic opioids (T40.2)  \\\n",
       "Date                                                   \n",
       "2015-01-01                                     12269   \n",
       "2015-02-01                                     12237   \n",
       "2015-03-01                                     12267   \n",
       "2015-04-01                                     12356   \n",
       "2015-05-01                                     12474   \n",
       "\n",
       "            Natural & semi-synthetic opioids, incl. methadone (T40.2, T40.3)  \\\n",
       "Date                                                                           \n",
       "2015-01-01                                              14944                  \n",
       "2015-02-01                                              14885                  \n",
       "2015-03-01                                              14929                  \n",
       "2015-04-01                                              15022                  \n",
       "2015-05-01                                              15133                  \n",
       "\n",
       "            Natural, semi-synthetic, & synthetic opioids, incl. methadone (T40.2-T40.4)  \\\n",
       "Date                                                                                      \n",
       "2015-01-01                                              19161                             \n",
       "2015-02-01                                              19358                             \n",
       "2015-03-01                                              19640                             \n",
       "2015-04-01                                              20124                             \n",
       "2015-05-01                                              20539                             \n",
       "\n",
       "            Number of Drug Overdose Deaths  Opioids (T40.0-T40.4,T40.6)  \\\n",
       "Date                                                                      \n",
       "2015-01-01                           47523                        28986   \n",
       "2015-02-01                           47725                        29269   \n",
       "2015-03-01                           48198                        29609   \n",
       "2015-04-01                           48748                        30240   \n",
       "2015-05-01                           49293                        30745   \n",
       "\n",
       "            Psychostimulants with abuse potential (T43.6)  \\\n",
       "Date                                                        \n",
       "2015-01-01                                           4402   \n",
       "2015-02-01                                           4449   \n",
       "2015-03-01                                           4586   \n",
       "2015-04-01                                           4675   \n",
       "2015-05-01                                           4785   \n",
       "\n",
       "            Synthetic opioids, excl. methadone (T40.4)  \n",
       "Date                                                    \n",
       "2015-01-01                                        5766  \n",
       "2015-02-01                                        6079  \n",
       "2015-03-01                                        6390  \n",
       "2015-04-01                                        6868  \n",
       "2015-05-01                                        7254  "
      ]
     },
     "execution_count": 10,
     "metadata": {},
     "output_type": "execute_result"
    }
   ],
   "source": [
    "dataset.head()"
   ]
  },
  {
   "cell_type": "markdown",
   "metadata": {
    "id": "Bf6lCjul4Obi"
   },
   "source": [
    "## pearson correlation"
   ]
  },
  {
   "cell_type": "code",
   "execution_count": 12,
   "metadata": {
    "colab": {
     "base_uri": "https://localhost:8080/",
     "height": 1000
    },
    "id": "lVhqbVFn4JUP",
    "outputId": "3cfcd6a2-b44b-4b9d-d2f7-df4d8e61a6e5"
   },
   "outputs": [
    {
     "data": {
      "image/png": "[encoded data removed]",
      "text/plain": [
       "<Figure size 2160x2160 with 2 Axes>"
      ]
     },
     "metadata": {
      "needs_background": "light"
     },
     "output_type": "display_data"
    },
    {
     "data": {
      "text/plain": [
       "Date\n",
       "2015-01-01    47523\n",
       "2015-02-01    47725\n",
       "2015-03-01    48198\n",
       "2015-04-01    48748\n",
       "2015-05-01    49293\n",
       "              ...  \n",
       "2020-04-01    76624\n",
       "2020-05-01    79974\n",
       "2020-06-01    82068\n",
       "2020-07-01    83989\n",
       "2020-08-01    85516\n",
       "Name: Number of Drug Overdose Deaths, Length: 68, dtype: int64"
      ]
     },
     "execution_count": 12,
     "metadata": {},
     "output_type": "execute_result"
    }
   ],
   "source": [
    "#Using Pearson Correlation\n",
    "plt.figure(figsize=(30,30))\n",
    "cor = dataset.corr()\n",
    "sns.heatmap(cor, annot=True, cmap=plt.cm.Reds)\n",
    "plt.show()\n",
    "#Correlation with output variable\n",
    "cor_target = abs(dataset['Number of Drug Overdose Deaths'])\n",
    "#Selecting highly correlated features\n",
    "relevant_features = cor_target[cor_target>0.5]\n",
    "relevant_features"
   ]
  },
  {
   "cell_type": "markdown",
   "metadata": {
    "id": "XHEAA3MA7C-I"
   },
   "source": [
    "Como entendemos que temos muitas features, após observar a matriz de correlações de pearson, fizemos um filtro preliminas de features, eliminando features cuja correlação fosse menor que +/-0.20."
   ]
  },
  {
   "cell_type": "code",
   "execution_count": 33,
   "metadata": {
    "colab": {
     "base_uri": "https://localhost:8080/"
    },
    "id": "O-GhvyfkbubE",
    "outputId": "e010e33c-eb69-457e-83c6-fb92e5d8a74d"
   },
   "outputs": [
    {
     "data": {
      "text/plain": [
       "Index(['Cocaine (T40.5)', 'Heroin (T40.1)', 'Methadone (T40.3)',\n",
       "       'Natural & semi-synthetic opioids (T40.2)',\n",
       "       'Natural & semi-synthetic opioids, incl. methadone (T40.2, T40.3)',\n",
       "       'Natural, semi-synthetic, & synthetic opioids, incl. methadone (T40.2-T40.4)',\n",
       "       'Number of Drug Overdose Deaths', 'Opioids (T40.0-T40.4,T40.6)',\n",
       "       'Psychostimulants with abuse potential (T43.6)',\n",
       "       'Synthetic opioids, excl. methadone (T40.4)'],\n",
       "      dtype='object')"
      ]
     },
     "execution_count": 33,
     "metadata": {},
     "output_type": "execute_result"
    }
   ],
   "source": [
    "dataset.columns"
   ]
  },
  {
   "cell_type": "code",
   "execution_count": 34,
   "metadata": {
    "id": "tMzBbk_p7V_1"
   },
   "outputs": [],
   "source": [
    "dataset = dataset.drop(columns=['Natural & semi-synthetic opioids (T40.2)', 'Natural & semi-synthetic opioids, incl. methadone (T40.2, T40.3)'])"
   ]
  },
  {
   "cell_type": "code",
   "execution_count": 35,
   "metadata": {
    "colab": {
     "base_uri": "https://localhost:8080/"
    },
    "id": "Y01yL5j1m9gu",
    "outputId": "fe0af243-61dd-41a4-8c26-5604af662a9d"
   },
   "outputs": [
    {
     "data": {
      "text/plain": [
       "(68, 8)"
      ]
     },
     "execution_count": 35,
     "metadata": {},
     "output_type": "execute_result"
    }
   ],
   "source": [
    "dataset.shape"
   ]
  },
  {
   "cell_type": "markdown",
   "metadata": {
    "id": "_X1ZTKZX4gpu"
   },
   "source": [
    "## Feature selection com SelectKBest"
   ]
  },
  {
   "cell_type": "code",
   "execution_count": 39,
   "metadata": {
    "id": "6dG0K86A4jF1"
   },
   "outputs": [],
   "source": [
    "df_data = dataset.drop(columns='Number of Drug Overdose Deaths')\n",
    "df_label = dataset['Number of Drug Overdose Deaths']"
   ]
  },
  {
   "cell_type": "code",
   "execution_count": 40,
   "metadata": {
    "colab": {
     "base_uri": "https://localhost:8080/"
    },
    "id": "5sJ0Mjpo4jsE",
    "outputId": "f54540c8-3dac-42fa-fa1e-b2365fa00a6a"
   },
   "outputs": [
    {
     "name": "stdout",
     "output_type": "stream",
     "text": [
      "[ True  True  True  True  True  True  True]\n"
     ]
    }
   ],
   "source": [
    "# Feature extraction\n",
    "# test = SelectKBest(score_func=chi2)\n",
    "# fit = test.fit_transform(df_data, df_label)\n",
    "sel_f = SelectKBest(f_regression, k='all')\n",
    "X_train_f = sel_f.fit_transform(df_data, df_label)\n",
    "print(sel_f.get_support())\n"
   ]
  },
  {
   "cell_type": "markdown",
   "metadata": {},
   "source": [
    "Cocaine (T40.5) // Heroin (T40.1) // Methadone (T40.3) // Natural & semi-synthetic opioids (T40.2) // Natural & semi-synthetic opioids, incl. methadone (T40.2, T40.3) // Natural, semi-synthetic, & synthetic opioids, incl. methadone (T40.2-T40.4) // Opioids (T40.0-T40.4,T40.6) // Psychostimulants with abuse potential (T43.6) // Synthetic opioids, excl. methadone (T40.4)"
   ]
  },
  {
   "cell_type": "code",
   "execution_count": 41,
   "metadata": {
    "colab": {
     "base_uri": "https://localhost:8080/",
     "height": 686
    },
    "id": "flApD9IYqOoJ",
    "outputId": "574710d9-88b3-47d0-ae88-109a34c8b119"
   },
   "outputs": [
    {
     "data": {
      "text/html": [
       "<div>\n",
       "<style scoped>\n",
       "    .dataframe tbody tr th:only-of-type {\n",
       "        vertical-align: middle;\n",
       "    }\n",
       "\n",
       "    .dataframe tbody tr th {\n",
       "        vertical-align: top;\n",
       "    }\n",
       "\n",
       "    .dataframe thead th {\n",
       "        text-align: right;\n",
       "    }\n",
       "</style>\n",
       "<table border=\"1\" class=\"dataframe\">\n",
       "  <thead>\n",
       "    <tr style=\"text-align: right;\">\n",
       "      <th></th>\n",
       "      <th>Cocaine (T40.5)</th>\n",
       "      <th>Heroin (T40.1)</th>\n",
       "      <th>Methadone (T40.3)</th>\n",
       "      <th>Natural, semi-synthetic, &amp; synthetic opioids, incl. methadone (T40.2-T40.4)</th>\n",
       "      <th>Opioids (T40.0-T40.4,T40.6)</th>\n",
       "      <th>Psychostimulants with abuse potential (T43.6)</th>\n",
       "      <th>Synthetic opioids, excl. methadone (T40.4)</th>\n",
       "    </tr>\n",
       "    <tr>\n",
       "      <th>Date</th>\n",
       "      <th></th>\n",
       "      <th></th>\n",
       "      <th></th>\n",
       "      <th></th>\n",
       "      <th></th>\n",
       "      <th></th>\n",
       "      <th></th>\n",
       "    </tr>\n",
       "  </thead>\n",
       "  <tbody>\n",
       "    <tr>\n",
       "      <th>2015-01-01</th>\n",
       "      <td>5496</td>\n",
       "      <td>10788</td>\n",
       "      <td>3413</td>\n",
       "      <td>19161</td>\n",
       "      <td>28986</td>\n",
       "      <td>4402</td>\n",
       "      <td>5766</td>\n",
       "    </tr>\n",
       "    <tr>\n",
       "      <th>2015-02-01</th>\n",
       "      <td>5592</td>\n",
       "      <td>11002</td>\n",
       "      <td>3372</td>\n",
       "      <td>19358</td>\n",
       "      <td>29269</td>\n",
       "      <td>4449</td>\n",
       "      <td>6079</td>\n",
       "    </tr>\n",
       "    <tr>\n",
       "      <th>2015-03-01</th>\n",
       "      <td>5729</td>\n",
       "      <td>11167</td>\n",
       "      <td>3387</td>\n",
       "      <td>19640</td>\n",
       "      <td>29609</td>\n",
       "      <td>4586</td>\n",
       "      <td>6390</td>\n",
       "    </tr>\n",
       "    <tr>\n",
       "      <th>2015-04-01</th>\n",
       "      <td>5908</td>\n",
       "      <td>11471</td>\n",
       "      <td>3401</td>\n",
       "      <td>20124</td>\n",
       "      <td>30240</td>\n",
       "      <td>4675</td>\n",
       "      <td>6868</td>\n",
       "    </tr>\n",
       "    <tr>\n",
       "      <th>2015-05-01</th>\n",
       "      <td>5987</td>\n",
       "      <td>11675</td>\n",
       "      <td>3421</td>\n",
       "      <td>20539</td>\n",
       "      <td>30745</td>\n",
       "      <td>4785</td>\n",
       "      <td>7254</td>\n",
       "    </tr>\n",
       "    <tr>\n",
       "      <th>...</th>\n",
       "      <td>...</td>\n",
       "      <td>...</td>\n",
       "      <td>...</td>\n",
       "      <td>...</td>\n",
       "      <td>...</td>\n",
       "      <td>...</td>\n",
       "      <td>...</td>\n",
       "    </tr>\n",
       "    <tr>\n",
       "      <th>2020-04-01</th>\n",
       "      <td>17765</td>\n",
       "      <td>13977</td>\n",
       "      <td>2895</td>\n",
       "      <td>49966</td>\n",
       "      <td>54879</td>\n",
       "      <td>18374</td>\n",
       "      <td>41932</td>\n",
       "    </tr>\n",
       "    <tr>\n",
       "      <th>2020-05-01</th>\n",
       "      <td>18476</td>\n",
       "      <td>14254</td>\n",
       "      <td>3053</td>\n",
       "      <td>53137</td>\n",
       "      <td>57982</td>\n",
       "      <td>19243</td>\n",
       "      <td>45066</td>\n",
       "    </tr>\n",
       "    <tr>\n",
       "      <th>2020-06-01</th>\n",
       "      <td>18832</td>\n",
       "      <td>14241</td>\n",
       "      <td>3142</td>\n",
       "      <td>55169</td>\n",
       "      <td>59935</td>\n",
       "      <td>19892</td>\n",
       "      <td>47199</td>\n",
       "    </tr>\n",
       "    <tr>\n",
       "      <th>2020-07-01</th>\n",
       "      <td>18997</td>\n",
       "      <td>14145</td>\n",
       "      <td>3234</td>\n",
       "      <td>56943</td>\n",
       "      <td>61626</td>\n",
       "      <td>20539</td>\n",
       "      <td>48987</td>\n",
       "    </tr>\n",
       "    <tr>\n",
       "      <th>2020-08-01</th>\n",
       "      <td>19021</td>\n",
       "      <td>13905</td>\n",
       "      <td>3313</td>\n",
       "      <td>58414</td>\n",
       "      <td>62972</td>\n",
       "      <td>21405</td>\n",
       "      <td>50492</td>\n",
       "    </tr>\n",
       "  </tbody>\n",
       "</table>\n",
       "<p>68 rows × 7 columns</p>\n",
       "</div>"
      ],
      "text/plain": [
       "            Cocaine (T40.5)  Heroin (T40.1)  Methadone (T40.3)  \\\n",
       "Date                                                             \n",
       "2015-01-01             5496           10788               3413   \n",
       "2015-02-01             5592           11002               3372   \n",
       "2015-03-01             5729           11167               3387   \n",
       "2015-04-01             5908           11471               3401   \n",
       "2015-05-01             5987           11675               3421   \n",
       "...                     ...             ...                ...   \n",
       "2020-04-01            17765           13977               2895   \n",
       "2020-05-01            18476           14254               3053   \n",
       "2020-06-01            18832           14241               3142   \n",
       "2020-07-01            18997           14145               3234   \n",
       "2020-08-01            19021           13905               3313   \n",
       "\n",
       "            Natural, semi-synthetic, & synthetic opioids, incl. methadone (T40.2-T40.4)  \\\n",
       "Date                                                                                      \n",
       "2015-01-01                                              19161                             \n",
       "2015-02-01                                              19358                             \n",
       "2015-03-01                                              19640                             \n",
       "2015-04-01                                              20124                             \n",
       "2015-05-01                                              20539                             \n",
       "...                                                       ...                             \n",
       "2020-04-01                                              49966                             \n",
       "2020-05-01                                              53137                             \n",
       "2020-06-01                                              55169                             \n",
       "2020-07-01                                              56943                             \n",
       "2020-08-01                                              58414                             \n",
       "\n",
       "            Opioids (T40.0-T40.4,T40.6)  \\\n",
       "Date                                      \n",
       "2015-01-01                        28986   \n",
       "2015-02-01                        29269   \n",
       "2015-03-01                        29609   \n",
       "2015-04-01                        30240   \n",
       "2015-05-01                        30745   \n",
       "...                                 ...   \n",
       "2020-04-01                        54879   \n",
       "2020-05-01                        57982   \n",
       "2020-06-01                        59935   \n",
       "2020-07-01                        61626   \n",
       "2020-08-01                        62972   \n",
       "\n",
       "            Psychostimulants with abuse potential (T43.6)  \\\n",
       "Date                                                        \n",
       "2015-01-01                                           4402   \n",
       "2015-02-01                                           4449   \n",
       "2015-03-01                                           4586   \n",
       "2015-04-01                                           4675   \n",
       "2015-05-01                                           4785   \n",
       "...                                                   ...   \n",
       "2020-04-01                                          18374   \n",
       "2020-05-01                                          19243   \n",
       "2020-06-01                                          19892   \n",
       "2020-07-01                                          20539   \n",
       "2020-08-01                                          21405   \n",
       "\n",
       "            Synthetic opioids, excl. methadone (T40.4)  \n",
       "Date                                                    \n",
       "2015-01-01                                        5766  \n",
       "2015-02-01                                        6079  \n",
       "2015-03-01                                        6390  \n",
       "2015-04-01                                        6868  \n",
       "2015-05-01                                        7254  \n",
       "...                                                ...  \n",
       "2020-04-01                                       41932  \n",
       "2020-05-01                                       45066  \n",
       "2020-06-01                                       47199  \n",
       "2020-07-01                                       48987  \n",
       "2020-08-01                                       50492  \n",
       "\n",
       "[68 rows x 7 columns]"
      ]
     },
     "execution_count": 41,
     "metadata": {},
     "output_type": "execute_result"
    }
   ],
   "source": [
    "df_data"
   ]
  },
  {
   "cell_type": "markdown",
   "metadata": {
    "id": "whPPoMrsC0cG"
   },
   "source": [
    "## Feature selection of Lag Variables com Random Forest Regressor"
   ]
  },
  {
   "cell_type": "markdown",
   "metadata": {
    "id": "lLy2E1SVDRC2"
   },
   "source": [
    "We can also use feature selection to automatically identify and select those input features that are most predictive.\n",
    "\n",
    "A popular method for feature selection is called Recursive Feature Selection (RFE).\n",
    "\n",
    "RFE works by creating predictive models, weighting features, and pruning those with the smallest weights, then repeating the process until a desired number of features are left.\n",
    "\n",
    "The code below uses RFE with a random forest predictive model and sets the desired number of input features to 10.\n",
    "\n",
    "(A bar graph is also created showing the feature selection rank (smaller is better) for each input feature.)"
   ]
  },
  {
   "cell_type": "code",
   "execution_count": 42,
   "metadata": {
    "colab": {
     "base_uri": "https://localhost:8080/",
     "height": 468
    },
    "id": "2jvjIPQUBI7N",
    "outputId": "b28e8228-6674-47d4-d8c8-ab6e913aefac"
   },
   "outputs": [
    {
     "name": "stdout",
     "output_type": "stream",
     "text": [
      "Selected Features:\n",
      "Cocaine (T40.5)\n",
      "Heroin (T40.1)\n",
      "Methadone (T40.3)\n",
      "Natural, semi-synthetic, & synthetic opioids, incl. methadone (T40.2-T40.4)\n",
      "Number of Drug Overdose Deaths\n",
      "Opioids (T40.0-T40.4,T40.6)\n",
      "Psychostimulants with abuse potential (T43.6)\n"
     ]
    },
    {
     "data": {
      "image/png": "[encoded data removed]",
      "text/plain": [
       "<Figure size 432x288 with 1 Axes>"
      ]
     },
     "metadata": {
      "needs_background": "light"
     },
     "output_type": "display_data"
    }
   ],
   "source": [
    "# separate into input and output variables\n",
    "array = dataset.values\n",
    "# perform feature selection\n",
    "rfe = RFE(RandomForestRegressor(n_estimators=500, random_state=1), n_features_to_select=11)\n",
    "fit = rfe.fit(df_data, df_label)\n",
    "# report selected features\n",
    "print('Selected Features:')\n",
    "names = dataset.columns.values[0:-1]\n",
    "for i in range(len(fit.support_)):\n",
    "\tif fit.support_[i]:\n",
    "\t\tprint(names[i])\n",
    "# plot feature rank\n",
    "names = dataset.columns.values[0:-1]\n",
    "ticks = [i for i in range(len(names))]\n",
    "pyplot.bar(ticks, fit.ranking_,)\n",
    "pyplot.xticks(ticks, names)\n",
    "pyplot.show()"
   ]
  },
  {
   "cell_type": "markdown",
   "metadata": {
    "id": "wxLxe-RUEDfd"
   },
   "source": [
    "## Escolha final de features:\n",
    "Após fazer estes dois métodos de selecção de features, e visto que o seus resultados são bastante parecidos, ficamos com as features seguintes. "
   ]
  },
  {
   "cell_type": "code",
   "execution_count": 44,
   "metadata": {
    "colab": {
     "base_uri": "https://localhost:8080/"
    },
    "id": "GbmFeoXkEr5j",
    "outputId": "b19465ec-da86-46b2-cabb-6a57059ce846"
   },
   "outputs": [
    {
     "data": {
      "text/plain": [
       "Index(['Cocaine (T40.5)', 'Heroin (T40.1)', 'Methadone (T40.3)',\n",
       "       'Natural, semi-synthetic, & synthetic opioids, incl. methadone (T40.2-T40.4)',\n",
       "       'Opioids (T40.0-T40.4,T40.6)',\n",
       "       'Psychostimulants with abuse potential (T43.6)',\n",
       "       'Synthetic opioids, excl. methadone (T40.4)'],\n",
       "      dtype='object')"
      ]
     },
     "execution_count": 44,
     "metadata": {},
     "output_type": "execute_result"
    }
   ],
   "source": [
    "df_data.columns"
   ]
  },
  {
   "cell_type": "code",
   "execution_count": 45,
   "metadata": {
    "colab": {
     "base_uri": "https://localhost:8080/"
    },
    "id": "C6o7ObOEEgLF",
    "outputId": "c02853ff-80b6-4fa6-c219-518a8e67248e"
   },
   "outputs": [
    {
     "data": {
      "text/plain": [
       "(68, 7)"
      ]
     },
     "execution_count": 45,
     "metadata": {},
     "output_type": "execute_result"
    }
   ],
   "source": [
    "df_data.shape"
   ]
  },
  {
   "cell_type": "code",
   "execution_count": 46,
   "metadata": {
    "colab": {
     "base_uri": "https://localhost:8080/"
    },
    "id": "kLW8rwevGN0C",
    "outputId": "a96be93b-d6c6-4735-af47-a91fc4aa6729"
   },
   "outputs": [
    {
     "data": {
      "text/plain": [
       "Index(['Cocaine (T40.5)', 'Heroin (T40.1)', 'Methadone (T40.3)',\n",
       "       'Natural, semi-synthetic, & synthetic opioids, incl. methadone (T40.2-T40.4)',\n",
       "       'Opioids (T40.0-T40.4,T40.6)',\n",
       "       'Psychostimulants with abuse potential (T43.6)',\n",
       "       'Synthetic opioids, excl. methadone (T40.4)'],\n",
       "      dtype='object')"
      ]
     },
     "execution_count": 46,
     "metadata": {},
     "output_type": "execute_result"
    }
   ],
   "source": [
    "df_data.columns"
   ]
  },
  {
   "cell_type": "code",
   "execution_count": null,
   "metadata": {},
   "outputs": [],
   "source": []
  }
 ],
 "metadata": {
  "colab": {
   "collapsed_sections": [],
   "name": "usa_exploration.ipynb",
   "provenance": []
  },
  "kernelspec": {
   "display_name": "Python 3",
   "language": "python",
   "name": "python3"
  },
  "language_info": {
   "codemirror_mode": {
    "name": "ipython",
    "version": 3
   },
   "file_extension": ".py",
   "mimetype": "text/x-python",
   "name": "python",
   "nbconvert_exporter": "python",
   "pygments_lexer": "ipython3",
   "version": "3.8.9"
  }
 },
 "nbformat": 4,
 "nbformat_minor": 4
}
