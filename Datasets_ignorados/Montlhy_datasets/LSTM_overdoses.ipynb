{
 "cells": [
  {
   "cell_type": "code",
   "execution_count": 1,
   "metadata": {
    "id": "eZx8k29epf1z"
   },
   "outputs": [],
   "source": [
    "import pandas as pd\n",
    "import numpy as np\n",
    "import tensorflow as tf\n",
    "from sklearn.preprocessing import MinMaxScaler\n",
    "from sklearn.model_selection import TimeSeriesSplit\n",
    "import matplotlib.pyplot as plt\n",
    "\n",
    "#for replicability purposes\n",
    "tf.random.set_seed(91195003)\n",
    "#for an easy reset backend session state\n",
    "tf.keras.backend.clear_session()"
   ]
  },
  {
   "cell_type": "code",
   "execution_count": 2,
   "metadata": {
    "id": "oVOimP-I-uoU"
   },
   "outputs": [],
   "source": [
    "n_variate = 1"
   ]
  },
  {
   "cell_type": "code",
   "execution_count": 3,
   "metadata": {
    "id": "XJeT5IxR4y_r"
   },
   "outputs": [],
   "source": [
    "\n",
    "#Load dataset\n",
    "def load_dataset(path=r'overdoses.csv'):\n",
    "    return pd.read_csv(path)"
   ]
  },
  {
   "cell_type": "code",
   "execution_count": 4,
   "metadata": {
    "id": "XwT1idGM4y1T"
   },
   "outputs": [],
   "source": [
    "#split data into training and validation sets\n",
    "def split_data(training, perc=10):\n",
    "    train_idx = np.arange(0, int(len(training)*(100-perc)/100))\n",
    "    val_idx = np.arange(int(len(training)*(100-perc)/100+1), len(training))\n",
    "    return train_idx, val_idx"
   ]
  },
  {
   "cell_type": "code",
   "execution_count": 30,
   "metadata": {
    "id": "UPqJhFvWptro"
   },
   "outputs": [],
   "source": [
    "def prepare_data(df):\n",
    "    df_aux = df\n",
    "    df_aux[\"Date\"] = pd.to_datetime(df_aux[\"Date\"])\n",
    "    df_aux = df_aux.set_index('Date')\n",
    "    # por obitos como primeira coluna\n",
    "    df_aux = df_aux.reindex(columns=['Cocaine (T40.5)', 'Heroin (T40.1)', 'Methadone (T40.3)', 'Natural & semi-synthetic opioids (T40.2)', 'Natural & semi-synthetic opioids, incl. methadone (T40.2, T40.3)', 'Natural, semi-synthetic, & synthetic opioids, incl. methadone (T40.2-T40.4)', 'Number of Drug Overdose Deaths', 'Opioids (T40.0-T40.4,T40.6)', 'Psychostimulants with abuse potential (T43.6)', 'Synthetic opioids, excl. methadone (T40.4)'])\n",
    "    # drop de features com correlação alta a outras\n",
    "    df_aux = df_aux.drop(columns=['Natural & semi-synthetic opioids (T40.2)', 'Natural & semi-synthetic opioids, incl. methadone (T40.2, T40.3)'])\n",
    "    \n",
    "    # df_aux = df_aux.drop(columns=[ 'obitos_0_9_f', 'obitos_10_19_f', 'obitos_10_19_m', 'obitos_20_29_f', 'obitos_20_29_m',\n",
    "    #                               'ativos', 'Partially_cloudy', 'commercial_flights'])\n",
    "    return df_aux"
   ]
  },
  {
   "cell_type": "code",
   "execution_count": 31,
   "metadata": {
    "id": "rkteIuA-1BGc"
   },
   "outputs": [],
   "source": [
    "# def data_normalization(df, norm_range=(-1, 1)):\n",
    "#   #[-1, 1] for LSTM due to the internal use of tanh by the memory cell\n",
    "#   scaler = MinMaxScaler(feature_range=norm_range)\n",
    "#   df = scaler.fit_transform(df)\n",
    "#   return scaler"
   ]
  },
  {
   "cell_type": "code",
   "execution_count": 32,
   "metadata": {
    "id": "2FPlv6jxodZ3"
   },
   "outputs": [],
   "source": [
    "def data_normalization(df, norm_range=(-1, 1)):\n",
    "    #[-1, 1] for LSTM due to the internal use of tanh by the memory cell\n",
    "    scaler = MinMaxScaler(feature_range=norm_range)\n",
    "    colunas = [x for x in df.columns if x != 'Number of Drug Overdose Deaths']\n",
    "    for col in colunas:\n",
    "        df[[col]] = scaler.fit_transform(df[[col]])\n",
    "    df[['Number of Drug Overdose Deaths']] = scaler.fit_transform(df[['Number of Drug Overdose Deaths']])\n",
    "    return scaler"
   ]
  },
  {
   "cell_type": "code",
   "execution_count": 33,
   "metadata": {
    "id": "5jmEehmE1PxG"
   },
   "outputs": [],
   "source": [
    "#plot learning curve\n",
    "def plot_learning_curves(history, epochs):\n",
    "    #accuracies and losses\n",
    "    #dict_keys(['loss', 'mae', 'rmse', 'val_loss', 'val_mae', 'val_rmse'])\n",
    "    loss=history.history['loss']\n",
    "    val_loss=history.history['val_loss']\n",
    "    mae=history.history['mae']\n",
    "    val_mae=history.history['val_mae']\n",
    "    rmse=history.history['rmse']\n",
    "    val_rmse=history.history['val_rmse']\n",
    "    epochs_range = range(epochs)\n",
    "    #creating figure\n",
    "    plt.figure(figsize=(8,8))\n",
    "    plt.subplot(1,2,2)\n",
    "    plt.plot(epochs_range,loss,label='Training Loss')\n",
    "    plt.plot(epochs_range,val_loss,label='Validation Loss')\n",
    "    plt.plot(epochs_range,mae,label='Training MAE')\n",
    "    plt.plot(epochs_range,val_mae,label='Validation MAE')\n",
    "    plt.plot(epochs_range,rmse,label='Training RMSE')\n",
    "    plt.plot(epochs_range,val_rmse,label='Validation RMSE')\n",
    "    plt.legend(loc='upper right')\n",
    "    plt.title('Training/Validation Loss')\n",
    "    plt.show()"
   ]
  },
  {
   "cell_type": "code",
   "execution_count": 34,
   "metadata": {
    "id": "xMNt9uhN1A5X"
   },
   "outputs": [],
   "source": [
    "#Plot time series data\n",
    "def plot_deaths_cases(data):\n",
    "    plt.figure(figsize=(8,6))\n",
    "    plt.plot(range(len(data)), data)\n",
    "    plt.title('Deaths by overdose')\n",
    "    plt.ylabel('Deaths')\n",
    "    plt.xlabel('Months')\n",
    "    plt.show()"
   ]
  },
  {
   "cell_type": "code",
   "execution_count": 35,
   "metadata": {
    "id": "3HyufbCYptpH"
   },
   "outputs": [],
   "source": [
    "#Preparing the dataset for the LSTM\n",
    "def to_supervised(df, timesteps):\n",
    "    data = df.values\n",
    "    X, y = list(), list()\n",
    "    #iterate over the training set to create X and y\n",
    "    dataset_size = len(data)\n",
    "    for curr_pos in range(dataset_size):\n",
    "        #end of the input sequence is the current position + the number of timesteps of the input sequence\n",
    "        input_index = curr_pos + timesteps\n",
    "        #end of the labels corresponds to the end of the input sequence + 1\n",
    "        label_index = input_index + 1\n",
    "        #if we have enough data for this sequence\n",
    "        if label_index < dataset_size:\n",
    "            X.append(data[curr_pos:input_index, :])\n",
    "            y.append(data[input_index:label_index, 0])\n",
    "            # y.append(data[input_index:label_index, 0:n_variate])\n",
    "\n",
    "    #using np.float32 for GPU performance\n",
    "    return np.array(X).astype('float32'), np.array(y).astype('float32')"
   ]
  },
  {
   "cell_type": "code",
   "execution_count": 36,
   "metadata": {
    "id": "tsLQU54X1I9t"
   },
   "outputs": [],
   "source": [
    "#Building the model\n",
    "def rmse(y_true, y_pred):\n",
    "    return tf.keras.backend.sqrt(tf.keras.backend.mean(tf.keras.backend.square(y_pred - y_true)))\n"
   ]
  },
  {
   "cell_type": "code",
   "execution_count": 37,
   "metadata": {
    "id": "5JUf24TupyZg"
   },
   "outputs": [],
   "source": [
    "def build_model(timesteps, features, h_neurons=64, activation='tanh'):\n",
    "    model = tf.keras.models.Sequential()\n",
    "    model.add(tf.keras.layers.LSTM(h_neurons, activation=activation, input_shape=(timesteps, features), return_sequences=True))\n",
    "    #Add a new layer\n",
    "    model.add(tf.keras.layers.LSTM(32, activation=activation ,return_sequences=False))\n",
    "    #\n",
    "    model.add(tf.keras.layers.Dense(h_neurons, activation=activation))\n",
    "    # model.add(tf.keras.layers.Dropout(0.2))\n",
    "    model.add(tf.keras.layers.Dense(1, activation='linear'))\n",
    "    #model summary (and save it as PNG)\n",
    "    tf.keras.utils.plot_model(model, 'Covid_model.png', show_shapes=True)\n",
    "    return model"
   ]
  },
  {
   "cell_type": "code",
   "execution_count": 38,
   "metadata": {
    "id": "_fWl4YLypyWR"
   },
   "outputs": [],
   "source": [
    "#Compiling and fit the model\n",
    "def compile_and_fit(model, epochs, batch_size):\n",
    "    #compile\n",
    "    model.compile(loss = rmse, optimizer = tf.keras.optimizers.Adam(), metrics = ['mae', rmse])\n",
    "    #fit\n",
    "    hist_list = list()\n",
    "    loss_list = list()\n",
    "\n",
    "    #callback\n",
    "    #saving in Keras HDF5 (or h5), a binary data format\n",
    "    callbacks = [tf.keras.callbacks.ModelCheckpoint(\n",
    "        filepath='my_model_{epoch}_{val_loss:.3f}.h5',#path where to save model\n",
    "        save_best_only=True,#overwrite the current checkpoint if and only if\n",
    "        monitor='val_loss',#the val_loss score has improved\n",
    "        save_weights_only=False,#if True, only the weigths are saved\n",
    "        verbose=1,#verbosity mode\n",
    "        period=5 #save ony at the fifth epoch (5 em 5 epocas) \n",
    "        )#,\n",
    "    #interrupt training if loss stops improving for over 2 epochs\n",
    "    #tf.keras.callbacks.EarlyStopping(patience=9, monitor='cost')\n",
    "    ]\n",
    "\n",
    "    #Time Series Cross Validator\n",
    "    tscv = TimeSeriesSplit(n_splits=cv_splits)\n",
    "    for train_index, test_index in tscv.split(X):\n",
    "        train_idx, val_idx = split_data(train_index, perc=10) #further split into training and validation sets\n",
    "        #build data\n",
    "        X_train, y_train = X[train_idx], y[train_idx]\n",
    "        X_val, y_val = X[val_idx], y[val_idx]\n",
    "        X_test, y_test = X[test_index], y[test_index]\n",
    "\n",
    "        #print(\"x_val::::\",X_val,\"\\n\",\"y_val:\",y_val,\"\\n\")\n",
    "\n",
    "        history = model.fit(X_train, y_train, validation_data=(X_val, y_val),epochs=epochs, batch_size=batch_size, shuffle=False)\n",
    "        # history = model.fit(X_train, y_train, validation_data=(X_val, y_val),epochs=epochs, batch_size=batch_size, shuffle=False, callbacks=callbacks)\n",
    "        metrics = model.evaluate(X_test, y_test)\n",
    "\n",
    "\n",
    "        plot_learning_curves(history, epochs)\n",
    "        hist_list.append(history)\n",
    "\n",
    "\n",
    "    return model, hist_list"
   ]
  },
  {
   "cell_type": "code",
   "execution_count": 39,
   "metadata": {
    "id": "_Sv6JlRppySv"
   },
   "outputs": [],
   "source": [
    "#Main Execution\n",
    "#the dataframes\n",
    "df_raw = load_dataset()\n",
    "df_data = prepare_data(df_raw)\n",
    "df = df_data.copy()\n",
    "n_variate = len(df.columns)\n",
    "\n",
    "scaler = data_normalization(df) #scaling data to [-1, 1]"
   ]
  },
  {
   "cell_type": "code",
   "execution_count": 40,
   "metadata": {
    "colab": {
     "base_uri": "https://localhost:8080/",
     "height": 1000
    },
    "id": "znTRarvT-Ooh",
    "outputId": "955b801b-aca7-46d8-8658-e25bda1656f0"
   },
   "outputs": [
    {
     "data": {
      "text/html": [
       "<div>\n",
       "<style scoped>\n",
       "    .dataframe tbody tr th:only-of-type {\n",
       "        vertical-align: middle;\n",
       "    }\n",
       "\n",
       "    .dataframe tbody tr th {\n",
       "        vertical-align: top;\n",
       "    }\n",
       "\n",
       "    .dataframe thead th {\n",
       "        text-align: right;\n",
       "    }\n",
       "</style>\n",
       "<table border=\"1\" class=\"dataframe\">\n",
       "  <thead>\n",
       "    <tr style=\"text-align: right;\">\n",
       "      <th></th>\n",
       "      <th>Cocaine (T40.5)</th>\n",
       "      <th>Heroin (T40.1)</th>\n",
       "      <th>Methadone (T40.3)</th>\n",
       "      <th>Natural, semi-synthetic, &amp; synthetic opioids, incl. methadone (T40.2-T40.4)</th>\n",
       "      <th>Number of Drug Overdose Deaths</th>\n",
       "      <th>Opioids (T40.0-T40.4,T40.6)</th>\n",
       "      <th>Psychostimulants with abuse potential (T43.6)</th>\n",
       "      <th>Synthetic opioids, excl. methadone (T40.4)</th>\n",
       "    </tr>\n",
       "    <tr>\n",
       "      <th>Date</th>\n",
       "      <th></th>\n",
       "      <th></th>\n",
       "      <th></th>\n",
       "      <th></th>\n",
       "      <th></th>\n",
       "      <th></th>\n",
       "      <th></th>\n",
       "      <th></th>\n",
       "    </tr>\n",
       "  </thead>\n",
       "  <tbody>\n",
       "    <tr>\n",
       "      <th>2015-01-01</th>\n",
       "      <td>-1.000000</td>\n",
       "      <td>-1.000000</td>\n",
       "      <td>0.976540</td>\n",
       "      <td>-1.000000</td>\n",
       "      <td>-1.000000</td>\n",
       "      <td>-1.000000</td>\n",
       "      <td>-1.000000</td>\n",
       "      <td>-1.000000</td>\n",
       "    </tr>\n",
       "    <tr>\n",
       "      <th>2015-02-01</th>\n",
       "      <td>-0.985804</td>\n",
       "      <td>-0.920446</td>\n",
       "      <td>0.856305</td>\n",
       "      <td>-0.989963</td>\n",
       "      <td>-0.989366</td>\n",
       "      <td>-0.983346</td>\n",
       "      <td>-0.994472</td>\n",
       "      <td>-0.986004</td>\n",
       "    </tr>\n",
       "    <tr>\n",
       "      <th>2015-03-01</th>\n",
       "      <td>-0.965545</td>\n",
       "      <td>-0.859108</td>\n",
       "      <td>0.900293</td>\n",
       "      <td>-0.975594</td>\n",
       "      <td>-0.964467</td>\n",
       "      <td>-0.963338</td>\n",
       "      <td>-0.978357</td>\n",
       "      <td>-0.972097</td>\n",
       "    </tr>\n",
       "    <tr>\n",
       "      <th>2015-04-01</th>\n",
       "      <td>-0.939076</td>\n",
       "      <td>-0.746097</td>\n",
       "      <td>0.941349</td>\n",
       "      <td>-0.950934</td>\n",
       "      <td>-0.935514</td>\n",
       "      <td>-0.926205</td>\n",
       "      <td>-0.967888</td>\n",
       "      <td>-0.950722</td>\n",
       "    </tr>\n",
       "    <tr>\n",
       "      <th>2015-05-01</th>\n",
       "      <td>-0.927394</td>\n",
       "      <td>-0.670260</td>\n",
       "      <td>1.000000</td>\n",
       "      <td>-0.929789</td>\n",
       "      <td>-0.906825</td>\n",
       "      <td>-0.896487</td>\n",
       "      <td>-0.954949</td>\n",
       "      <td>-0.933462</td>\n",
       "    </tr>\n",
       "    <tr>\n",
       "      <th>...</th>\n",
       "      <td>...</td>\n",
       "      <td>...</td>\n",
       "      <td>...</td>\n",
       "      <td>...</td>\n",
       "      <td>...</td>\n",
       "      <td>...</td>\n",
       "      <td>...</td>\n",
       "      <td>...</td>\n",
       "    </tr>\n",
       "    <tr>\n",
       "      <th>2020-04-01</th>\n",
       "      <td>0.814270</td>\n",
       "      <td>0.185502</td>\n",
       "      <td>-0.542522</td>\n",
       "      <td>0.569562</td>\n",
       "      <td>0.531914</td>\n",
       "      <td>0.523745</td>\n",
       "      <td>0.643475</td>\n",
       "      <td>0.617225</td>\n",
       "    </tr>\n",
       "    <tr>\n",
       "      <th>2020-05-01</th>\n",
       "      <td>0.919409</td>\n",
       "      <td>0.288476</td>\n",
       "      <td>-0.079179</td>\n",
       "      <td>0.731129</td>\n",
       "      <td>0.708262</td>\n",
       "      <td>0.706350</td>\n",
       "      <td>0.745692</td>\n",
       "      <td>0.757367</td>\n",
       "    </tr>\n",
       "    <tr>\n",
       "      <th>2020-06-01</th>\n",
       "      <td>0.972052</td>\n",
       "      <td>0.283643</td>\n",
       "      <td>0.181818</td>\n",
       "      <td>0.834662</td>\n",
       "      <td>0.818493</td>\n",
       "      <td>0.821279</td>\n",
       "      <td>0.822031</td>\n",
       "      <td>0.852748</td>\n",
       "    </tr>\n",
       "    <tr>\n",
       "      <th>2020-07-01</th>\n",
       "      <td>0.996451</td>\n",
       "      <td>0.247955</td>\n",
       "      <td>0.451613</td>\n",
       "      <td>0.925050</td>\n",
       "      <td>0.919617</td>\n",
       "      <td>0.920791</td>\n",
       "      <td>0.898136</td>\n",
       "      <td>0.932701</td>\n",
       "    </tr>\n",
       "    <tr>\n",
       "      <th>2020-08-01</th>\n",
       "      <td>1.000000</td>\n",
       "      <td>0.158736</td>\n",
       "      <td>0.683284</td>\n",
       "      <td>1.000000</td>\n",
       "      <td>1.000000</td>\n",
       "      <td>1.000000</td>\n",
       "      <td>1.000000</td>\n",
       "      <td>1.000000</td>\n",
       "    </tr>\n",
       "  </tbody>\n",
       "</table>\n",
       "<p>68 rows × 8 columns</p>\n",
       "</div>"
      ],
      "text/plain": [
       "            Cocaine (T40.5)  Heroin (T40.1)  Methadone (T40.3)  \\\n",
       "Date                                                             \n",
       "2015-01-01        -1.000000       -1.000000           0.976540   \n",
       "2015-02-01        -0.985804       -0.920446           0.856305   \n",
       "2015-03-01        -0.965545       -0.859108           0.900293   \n",
       "2015-04-01        -0.939076       -0.746097           0.941349   \n",
       "2015-05-01        -0.927394       -0.670260           1.000000   \n",
       "...                     ...             ...                ...   \n",
       "2020-04-01         0.814270        0.185502          -0.542522   \n",
       "2020-05-01         0.919409        0.288476          -0.079179   \n",
       "2020-06-01         0.972052        0.283643           0.181818   \n",
       "2020-07-01         0.996451        0.247955           0.451613   \n",
       "2020-08-01         1.000000        0.158736           0.683284   \n",
       "\n",
       "            Natural, semi-synthetic, & synthetic opioids, incl. methadone (T40.2-T40.4)  \\\n",
       "Date                                                                                      \n",
       "2015-01-01                                          -1.000000                             \n",
       "2015-02-01                                          -0.989963                             \n",
       "2015-03-01                                          -0.975594                             \n",
       "2015-04-01                                          -0.950934                             \n",
       "2015-05-01                                          -0.929789                             \n",
       "...                                                       ...                             \n",
       "2020-04-01                                           0.569562                             \n",
       "2020-05-01                                           0.731129                             \n",
       "2020-06-01                                           0.834662                             \n",
       "2020-07-01                                           0.925050                             \n",
       "2020-08-01                                           1.000000                             \n",
       "\n",
       "            Number of Drug Overdose Deaths  Opioids (T40.0-T40.4,T40.6)  \\\n",
       "Date                                                                      \n",
       "2015-01-01                       -1.000000                    -1.000000   \n",
       "2015-02-01                       -0.989366                    -0.983346   \n",
       "2015-03-01                       -0.964467                    -0.963338   \n",
       "2015-04-01                       -0.935514                    -0.926205   \n",
       "2015-05-01                       -0.906825                    -0.896487   \n",
       "...                                    ...                          ...   \n",
       "2020-04-01                        0.531914                     0.523745   \n",
       "2020-05-01                        0.708262                     0.706350   \n",
       "2020-06-01                        0.818493                     0.821279   \n",
       "2020-07-01                        0.919617                     0.920791   \n",
       "2020-08-01                        1.000000                     1.000000   \n",
       "\n",
       "            Psychostimulants with abuse potential (T43.6)  \\\n",
       "Date                                                        \n",
       "2015-01-01                                      -1.000000   \n",
       "2015-02-01                                      -0.994472   \n",
       "2015-03-01                                      -0.978357   \n",
       "2015-04-01                                      -0.967888   \n",
       "2015-05-01                                      -0.954949   \n",
       "...                                                   ...   \n",
       "2020-04-01                                       0.643475   \n",
       "2020-05-01                                       0.745692   \n",
       "2020-06-01                                       0.822031   \n",
       "2020-07-01                                       0.898136   \n",
       "2020-08-01                                       1.000000   \n",
       "\n",
       "            Synthetic opioids, excl. methadone (T40.4)  \n",
       "Date                                                    \n",
       "2015-01-01                                   -1.000000  \n",
       "2015-02-01                                   -0.986004  \n",
       "2015-03-01                                   -0.972097  \n",
       "2015-04-01                                   -0.950722  \n",
       "2015-05-01                                   -0.933462  \n",
       "...                                                ...  \n",
       "2020-04-01                                    0.617225  \n",
       "2020-05-01                                    0.757367  \n",
       "2020-06-01                                    0.852748  \n",
       "2020-07-01                                    0.932701  \n",
       "2020-08-01                                    1.000000  \n",
       "\n",
       "[68 rows x 8 columns]"
      ]
     },
     "execution_count": 40,
     "metadata": {},
     "output_type": "execute_result"
    }
   ],
   "source": [
    "df"
   ]
  },
  {
   "cell_type": "code",
   "execution_count": 41,
   "metadata": {
    "id": "LU2y0-4bqA94",
    "tags": []
   },
   "outputs": [],
   "source": [
    "#Recursive Multi-Step Forecast!!!\n",
    "def forecast(model, df, timesteps, multisteps, scaler):\n",
    "    input_seq = np.array(df[-timesteps:].values) #getting the last sequence of known value\n",
    "    inp = input_seq\n",
    "    #print(\"Input_seq: \",inp)\n",
    "    forecasts = list()\n",
    "\n",
    "    #multisteps tells us how many iterations we want to perform, i.e., how many days we want to predict\n",
    "    for step in range(1, multisteps+1):\n",
    "        inp = inp.reshape(1,timesteps,n_variate)\n",
    "        yhat = model.predict(inp) #dá o valor predito normalizado\n",
    "        yhat_desnormalized = scaler.inverse_transform(yhat) #dá valor predito desnormalizado\n",
    "        forecasts.append(yhat_desnormalized) #adicionar previsao à lista final de previsões\n",
    "        # se for necessário prever mais do que 1 semana\n",
    "        # list_yhat = [yhat[0][i] for i in range(len(yhat[0]))]\n",
    "        # print('list_yhat:')\n",
    "        # print(list_yhat)\n",
    "        # #preparar novo input para fazer previsão para a semana seguinte\n",
    "        # inp= np.append(inp[0],[list_yhat],axis=0) #adiciona previsão recente ao input\n",
    "        # inp = inp[-timesteps:] #vai ao input buscar os ultimos timesteps registados\n",
    "        # print('forecasts:')\n",
    "        # print(forecasts)\n",
    "    return forecasts\n",
    "\n"
   ]
  },
  {
   "cell_type": "code",
   "execution_count": 45,
   "metadata": {
    "id": "R_xOdNdF135D"
   },
   "outputs": [],
   "source": [
    "def plot_forecast(data, forecasts):\n",
    "    plt.figure(figsize=(20,8))\n",
    "    plt.plot(range(len(data)), data['Number of Drug Overdose Deaths'], color='green', label='True value')\n",
    "    plt.plot(range(len(data)-1, len(data)+len(forecasts)-1), forecasts, color='red', label='Forecasts')\n",
    "    plt.title('Deaths by overdose')\n",
    "    plt.ylabel('Deaths')\n",
    "    plt.xlabel('Meses')\n",
    "    plt.legend()\n",
    "    plt.show()"
   ]
  },
  {
   "cell_type": "markdown",
   "metadata": {
    "id": "Od6i2gQP-EaZ"
   },
   "source": [
    "# Tunning"
   ]
  },
  {
   "cell_type": "code",
   "execution_count": 46,
   "metadata": {
    "id": "2bebumjE9_7Z"
   },
   "outputs": [],
   "source": [
    "tunning_dict = {               \n",
    "                1: {'timesteps' : 30, 'multisteps' : 1, 'cv_splits': 2, 'epochs' : 25,  'batch_size' : 2 }#,\n",
    "                # 2: {'timesteps' : 4, 'multisteps' : 4, 'cv_splits' : 10, 'epochs' : 50,  'batch_size' : 2 },\n",
    "                # 3: {'timesteps' : 4, 'multisteps' : 4, 'cv_splits' : 10, 'epochs' : 100,  'batch_size' : 2 },\n",
    "\n",
    "                #\n",
    "                # 4: {'timesteps' : 14, 'multisteps' : 100, 'cv_splits': 10, 'epochs' : 10,  'batch_size' : 2 },\n",
    "                # 5: {'timesteps' : 14, 'multisteps' : 100, 'cv_splits' : 10, 'epochs' : 50,  'batch_size' : 2 },\n",
    "                # 6: {'timesteps' : 14, 'multisteps' : 100, 'cv_splits' : 10, 'epochs' : 100,  'batch_size' : 2 }#,\n",
    "                #\n",
    "                #7: {'timesteps' : 30, 'multisteps' : 100, 'cv_splits': 5, 'epochs' : 10,  'batch_size' : 1 },\n",
    "                #8: {'timesteps' : 30, 'multisteps' : 100, 'cv_splits' : 5, 'epochs' : 50,  'batch_size' : 1 },\n",
    "                #9: {'timesteps' : 30, 'multisteps' : 100, 'cv_splits' : 5, 'epochs' : 100,  'batch_size' : 1 }\n",
    "\n",
    "                }\n",
    "# record da history de cada modelo\n",
    "record = {}"
   ]
  },
  {
   "cell_type": "code",
   "execution_count": 47,
   "metadata": {
    "colab": {
     "base_uri": "https://localhost:8080/",
     "height": 1000
    },
    "id": "bYN09hNN-Iiw",
    "outputId": "b4880b78-55c9-4213-f37a-c1d5f62871a3"
   },
   "outputs": [
    {
     "name": "stdout",
     "output_type": "stream",
     "text": [
      "('Failed to import pydot. You must `pip install pydot` and install graphviz (https://graphviz.gitlab.io/download/), ', 'for `pydotprint` to work.')\n",
      "WARNING:tensorflow:`period` argument is deprecated. Please use `save_freq` to specify the frequency in number of batches seen.\n",
      "Epoch 1/25\n",
      "6/6 [==============================] - 7s 317ms/step - loss: 0.0654 - mae: 0.0634 - rmse: 0.0667 - val_loss: 0.1474 - val_mae: 0.1474 - val_rmse: 0.1474\n",
      "Epoch 2/25\n",
      "6/6 [==============================] - 0s 41ms/step - loss: 0.1511 - mae: 0.1501 - rmse: 0.1507 - val_loss: 0.1193 - val_mae: 0.1193 - val_rmse: 0.1193\n",
      "Epoch 3/25\n",
      "6/6 [==============================] - 0s 37ms/step - loss: 0.0325 - mae: 0.0314 - rmse: 0.0322 - val_loss: 0.0023 - val_mae: 0.0023 - val_rmse: 0.0023\n",
      "Epoch 4/25\n",
      "6/6 [==============================] - 0s 38ms/step - loss: 0.0108 - mae: 0.0099 - rmse: 0.0109 - val_loss: 0.0153 - val_mae: 0.0153 - val_rmse: 0.0153\n",
      "Epoch 5/25\n",
      "6/6 [==============================] - 0s 35ms/step - loss: 0.1221 - mae: 0.1218 - rmse: 0.1223 - val_loss: 0.0594 - val_mae: 0.0594 - val_rmse: 0.0594\n",
      "Epoch 6/25\n",
      "6/6 [==============================] - 0s 38ms/step - loss: 0.0293 - mae: 0.0290 - rmse: 0.0300 - val_loss: 0.0881 - val_mae: 0.0881 - val_rmse: 0.0881\n",
      "Epoch 7/25\n",
      "6/6 [==============================] - 0s 39ms/step - loss: 0.0714 - mae: 0.0712 - rmse: 0.0703 - val_loss: 0.0216 - val_mae: 0.0216 - val_rmse: 0.0216\n",
      "Epoch 8/25\n",
      "6/6 [==============================] - 0s 40ms/step - loss: 0.0456 - mae: 0.0452 - rmse: 0.0450 - val_loss: 0.0635 - val_mae: 0.0635 - val_rmse: 0.0635\n",
      "Epoch 9/25\n",
      "6/6 [==============================] - 0s 42ms/step - loss: 0.0123 - mae: 0.0108 - rmse: 0.0127 - val_loss: 0.0564 - val_mae: 0.0564 - val_rmse: 0.0564\n",
      "Epoch 10/25\n",
      "6/6 [==============================] - 0s 35ms/step - loss: 0.0189 - mae: 0.0177 - rmse: 0.0192 - val_loss: 0.0488 - val_mae: 0.0488 - val_rmse: 0.0488\n",
      "Epoch 11/25\n",
      "6/6 [==============================] - 0s 29ms/step - loss: 0.0151 - mae: 0.0138 - rmse: 0.0147 - val_loss: 0.0376 - val_mae: 0.0376 - val_rmse: 0.0376\n",
      "Epoch 12/25\n",
      "6/6 [==============================] - 0s 30ms/step - loss: 0.0228 - mae: 0.0223 - rmse: 0.0225 - val_loss: 0.0420 - val_mae: 0.0420 - val_rmse: 0.0420\n",
      "Epoch 13/25\n",
      "6/6 [==============================] - 0s 32ms/step - loss: 0.0116 - mae: 0.0102 - rmse: 0.0119 - val_loss: 0.0668 - val_mae: 0.0668 - val_rmse: 0.0668\n",
      "Epoch 14/25\n",
      "6/6 [==============================] - 0s 30ms/step - loss: 0.0131 - mae: 0.0112 - rmse: 0.0130 - val_loss: 0.0203 - val_mae: 0.0203 - val_rmse: 0.0203\n",
      "Epoch 15/25\n",
      "6/6 [==============================] - 0s 30ms/step - loss: 0.0619 - mae: 0.0616 - rmse: 0.0610 - val_loss: 0.0386 - val_mae: 0.0386 - val_rmse: 0.0386\n",
      "Epoch 16/25\n",
      "6/6 [==============================] - 0s 30ms/step - loss: 0.0261 - mae: 0.0252 - rmse: 0.0265 - val_loss: 0.0653 - val_mae: 0.0653 - val_rmse: 0.0653\n",
      "Epoch 17/25\n",
      "6/6 [==============================] - 0s 30ms/step - loss: 0.0210 - mae: 0.0200 - rmse: 0.0208 - val_loss: 0.0371 - val_mae: 0.0371 - val_rmse: 0.0371\n",
      "Epoch 18/25\n",
      "6/6 [==============================] - 0s 29ms/step - loss: 0.0296 - mae: 0.0289 - rmse: 0.0303 - val_loss: 0.0849 - val_mae: 0.0849 - val_rmse: 0.0849\n",
      "Epoch 19/25\n",
      "6/6 [==============================] - 0s 30ms/step - loss: 0.0103 - mae: 0.0102 - rmse: 0.0105 - val_loss: 0.0494 - val_mae: 0.0494 - val_rmse: 0.0494\n",
      "Epoch 20/25\n",
      "6/6 [==============================] - 0s 30ms/step - loss: 0.0193 - mae: 0.0181 - rmse: 0.0195 - val_loss: 0.0431 - val_mae: 0.0431 - val_rmse: 0.0431\n",
      "Epoch 21/25\n",
      "6/6 [==============================] - 0s 30ms/step - loss: 0.0198 - mae: 0.0185 - rmse: 0.0197 - val_loss: 0.0257 - val_mae: 0.0257 - val_rmse: 0.0257\n",
      "Epoch 22/25\n",
      "6/6 [==============================] - 0s 29ms/step - loss: 0.0081 - mae: 0.0075 - rmse: 0.0083 - val_loss: 0.0403 - val_mae: 0.0403 - val_rmse: 0.0403\n",
      "Epoch 23/25\n",
      "6/6 [==============================] - 0s 29ms/step - loss: 0.0184 - mae: 0.0174 - rmse: 0.0188 - val_loss: 0.0683 - val_mae: 0.0683 - val_rmse: 0.0683\n",
      "Epoch 24/25\n",
      "6/6 [==============================] - 0s 30ms/step - loss: 0.0298 - mae: 0.0292 - rmse: 0.0295 - val_loss: 0.0301 - val_mae: 0.0301 - val_rmse: 0.0301\n",
      "Epoch 25/25\n",
      "6/6 [==============================] - 0s 31ms/step - loss: 0.0232 - mae: 0.0224 - rmse: 0.0232 - val_loss: 0.0572 - val_mae: 0.0572 - val_rmse: 0.0572\n",
      "1/1 [==============================] - 0s 23ms/step - loss: 0.0356 - mae: 0.0284 - rmse: 0.0356\n"
     ]
    },
    {
     "data": {
      "image/png": "[encoded data removed]",
      "text/plain": [
       "<Figure size 576x576 with 1 Axes>"
      ]
     },
     "metadata": {
      "needs_background": "light"
     },
     "output_type": "display_data"
    },
    {
     "name": "stdout",
     "output_type": "stream",
     "text": [
      "Epoch 1/25\n",
      "11/11 [==============================] - 4s 125ms/step - loss: 0.0269 - mae: 0.0263 - rmse: 0.0269 - val_loss: 0.0334 - val_mae: 0.0321 - val_rmse: 0.0334\n",
      "Epoch 2/25\n",
      "11/11 [==============================] - 0s 20ms/step - loss: 0.0682 - mae: 0.0680 - rmse: 0.0682 - val_loss: 0.0432 - val_mae: 0.0425 - val_rmse: 0.0432\n",
      "Epoch 3/25\n",
      "11/11 [==============================] - 0s 19ms/step - loss: 0.0192 - mae: 0.0183 - rmse: 0.0192 - val_loss: 0.0107 - val_mae: 0.0076 - val_rmse: 0.0107\n",
      "Epoch 4/25\n",
      "11/11 [==============================] - 0s 23ms/step - loss: 0.0371 - mae: 0.0365 - rmse: 0.0371 - val_loss: 0.0239 - val_mae: 0.0219 - val_rmse: 0.0239\n",
      "Epoch 5/25\n",
      "11/11 [==============================] - 0s 20ms/step - loss: 0.0556 - mae: 0.0551 - rmse: 0.0556 - val_loss: 0.0134 - val_mae: 0.0109 - val_rmse: 0.0134\n",
      "Epoch 6/25\n",
      "11/11 [==============================] - 0s 19ms/step - loss: 0.0208 - mae: 0.0197 - rmse: 0.0208 - val_loss: 0.0376 - val_mae: 0.0365 - val_rmse: 0.0376\n",
      "Epoch 7/25\n",
      "11/11 [==============================] - 0s 18ms/step - loss: 0.0428 - mae: 0.0425 - rmse: 0.0428 - val_loss: 0.0110 - val_mae: 0.0080 - val_rmse: 0.0110\n",
      "Epoch 8/25\n",
      "11/11 [==============================] - 0s 18ms/step - loss: 0.0381 - mae: 0.0377 - rmse: 0.0381 - val_loss: 0.0277 - val_mae: 0.0267 - val_rmse: 0.0277\n",
      "Epoch 9/25\n",
      "11/11 [==============================] - 0s 19ms/step - loss: 0.0647 - mae: 0.0643 - rmse: 0.0647 - val_loss: 0.0460 - val_mae: 0.0450 - val_rmse: 0.0460\n",
      "Epoch 10/25\n",
      "11/11 [==============================] - 0s 19ms/step - loss: 0.0481 - mae: 0.0476 - rmse: 0.0481 - val_loss: 0.0197 - val_mae: 0.0181 - val_rmse: 0.0197\n",
      "Epoch 11/25\n",
      "11/11 [==============================] - 0s 19ms/step - loss: 0.0435 - mae: 0.0431 - rmse: 0.0435 - val_loss: 0.0378 - val_mae: 0.0373 - val_rmse: 0.0378\n",
      "Epoch 12/25\n",
      "11/11 [==============================] - 0s 18ms/step - loss: 0.0201 - mae: 0.0195 - rmse: 0.0201 - val_loss: 0.0399 - val_mae: 0.0394 - val_rmse: 0.0399\n",
      "Epoch 13/25\n",
      "11/11 [==============================] - 0s 18ms/step - loss: 0.0219 - mae: 0.0213 - rmse: 0.0219 - val_loss: 0.0364 - val_mae: 0.0354 - val_rmse: 0.0364\n",
      "Epoch 14/25\n",
      "11/11 [==============================] - 0s 18ms/step - loss: 0.0386 - mae: 0.0383 - rmse: 0.0386 - val_loss: 0.0114 - val_mae: 0.0085 - val_rmse: 0.0114\n",
      "Epoch 15/25\n",
      "11/11 [==============================] - 0s 18ms/step - loss: 0.0198 - mae: 0.0191 - rmse: 0.0198 - val_loss: 0.0437 - val_mae: 0.0431 - val_rmse: 0.0437\n",
      "Epoch 16/25\n",
      "11/11 [==============================] - 0s 18ms/step - loss: 0.0190 - mae: 0.0186 - rmse: 0.0190 - val_loss: 0.0184 - val_mae: 0.0164 - val_rmse: 0.0184\n",
      "Epoch 17/25\n",
      "11/11 [==============================] - 0s 19ms/step - loss: 0.0193 - mae: 0.0188 - rmse: 0.0193 - val_loss: 0.0298 - val_mae: 0.0283 - val_rmse: 0.0298\n",
      "Epoch 18/25\n",
      "11/11 [==============================] - 0s 18ms/step - loss: 0.0237 - mae: 0.0231 - rmse: 0.0237 - val_loss: 0.0167 - val_mae: 0.0144 - val_rmse: 0.0167\n",
      "Epoch 19/25\n",
      "11/11 [==============================] - 0s 18ms/step - loss: 0.0257 - mae: 0.0253 - rmse: 0.0257 - val_loss: 0.0272 - val_mae: 0.0256 - val_rmse: 0.0272\n",
      "Epoch 20/25\n",
      "11/11 [==============================] - 0s 19ms/step - loss: 0.0307 - mae: 0.0302 - rmse: 0.0307 - val_loss: 0.0120 - val_mae: 0.0111 - val_rmse: 0.0120\n",
      "Epoch 21/25\n",
      "11/11 [==============================] - 0s 19ms/step - loss: 0.0512 - mae: 0.0509 - rmse: 0.0512 - val_loss: 0.0157 - val_mae: 0.0125 - val_rmse: 0.0157\n",
      "Epoch 22/25\n",
      "11/11 [==============================] - 0s 19ms/step - loss: 0.0324 - mae: 0.0318 - rmse: 0.0324 - val_loss: 0.0160 - val_mae: 0.0140 - val_rmse: 0.0160\n",
      "Epoch 23/25\n",
      "11/11 [==============================] - 0s 19ms/step - loss: 0.0165 - mae: 0.0157 - rmse: 0.0165 - val_loss: 0.0124 - val_mae: 0.0095 - val_rmse: 0.0124\n",
      "Epoch 24/25\n",
      "11/11 [==============================] - 0s 18ms/step - loss: 0.0344 - mae: 0.0341 - rmse: 0.0344 - val_loss: 0.0143 - val_mae: 0.0109 - val_rmse: 0.0143\n",
      "Epoch 25/25\n",
      "11/11 [==============================] - 0s 19ms/step - loss: 0.0358 - mae: 0.0353 - rmse: 0.0358 - val_loss: 0.0089 - val_mae: 0.0088 - val_rmse: 0.0089\n",
      "1/1 [==============================] - 0s 22ms/step - loss: 0.3673 - mae: 0.3122 - rmse: 0.3673\n"
     ]
    },
    {
     "data": {
      "image/png": "[encoded data removed]",
      "text/plain": [
       "<Figure size 576x576 with 1 Axes>"
      ]
     },
     "metadata": {
      "needs_background": "light"
     },
     "output_type": "display_data"
    },
    {
     "name": "stdout",
     "output_type": "stream",
     "text": [
      "[array([[75180.85]], dtype=float32)]\n",
      "Previsões:\n",
      "[75180.85]\n"
     ]
    },
    {
     "data": {
      "image/png": "[encoded data removed]",
      "text/plain": [
       "<Figure size 1440x576 with 1 Axes>"
      ]
     },
     "metadata": {
      "needs_background": "light"
     },
     "output_type": "display_data"
    }
   ],
   "source": [
    "for t in tunning_dict:\n",
    "    #print(record[r])\n",
    "    # fitting the model\n",
    "    timesteps = tunning_dict[t]['timesteps']\n",
    "    epochs = tunning_dict[t]['epochs']\n",
    "    batch_size= tunning_dict[t]['batch_size']\n",
    "    multisteps= tunning_dict[t]['multisteps']\n",
    "    cv_splits = tunning_dict[t]['cv_splits']\n",
    "    #print(timesteps,epochs,batch_size,cv_splits)\n",
    "\n",
    "    X, y = to_supervised(df, timesteps)\n",
    "\n",
    "    model = build_model(timesteps, n_variate)\n",
    "    model, history = compile_and_fit(model, epochs, batch_size)\n",
    "    #print(\"df: \",df.shape,\" timesteps\",timesteps,\" multisteps \",multisteps)\n",
    "    forecasts = forecast(model, df, timesteps, multisteps, scaler)\n",
    "\n",
    "    print(forecasts)\n",
    "\n",
    "    prev = []\n",
    "\n",
    "    #plot do valor previsto da ação de Open\n",
    "    for f in forecasts:\n",
    "        prev.append(f[0][0])\n",
    "\n",
    "    print('Previsões:')\n",
    "    print(prev)\n",
    "    plot_forecast(df_raw, prev)\n",
    "\n",
    "    #Scorer\n",
    "  \n",
    "\n",
    "    record[t] = history"
   ]
  },
  {
   "cell_type": "code",
   "execution_count": 48,
   "metadata": {
    "id": "KWvKPj311_Cd"
   },
   "outputs": [],
   "source": [
    "id_tunning = 1\n",
    "id_split =1\n",
    "\n",
    "final_dict = {}\n",
    "\n",
    "for r in record:\n",
    "#print(tunning_dict[1]['epochs'])\n",
    "    loss = []\n",
    "    mae =[]\n",
    "    rmse = []\n",
    "    val_loss = []\n",
    "    val_mae = []\n",
    "    val_rmse = []\n",
    "\n",
    "    for h in record[r]:\n",
    "        #print(\"Tunning ID:  \",id_tunning,\" Split ID: \",id_split)\n",
    "        #plot_learning_curves(h, tunning_dict[id_tunning]['epochs'])\n",
    "        #['loss', 'mae', 'rmse', 'val_loss', 'val_mae', 'val_rmse']\n",
    "        #print(\"loss: \",sum(h.history['loss'])/len(h.history['loss']),\" MAE: \",sum(h.history['mae'])/len(h.history['mae']),\" RMSE: \",sum(h.history['rmse'])/len(h.history['rmse']),\" VAL_LOSS: \",sum(h.history['val_loss'])/len(h.history['val_loss']),\" VAL_MAE: \",sum(h.history['val_mae'])/len(h.history['val_mae']),\" VAL_RMSE: \",sum(h.history['val_rmse'])/len(h.history['val_rmse']))\n",
    "        loss.append(sum(h.history['loss'])/len(h.history['loss']))\n",
    "        mae.append(sum(h.history['mae'])/len(h.history['mae']))\n",
    "        rmse.append(sum(h.history['rmse'])/len(h.history['rmse']))\n",
    "        val_loss.append(sum(h.history['val_loss'])/len(h.history['val_loss']))\n",
    "        val_mae.append(sum(h.history['val_mae'])/len(h.history['val_mae']))\n",
    "        val_rmse.append(sum(h.history['val_rmse'])/len(h.history['val_rmse']))\n",
    "        id_split+=1\n",
    "    id_split=1\n",
    "  \n",
    "    final_dict[id_tunning]=[sum(loss)/len(loss), sum(mae)/len(mae),sum(rmse)/len(rmse),sum(val_loss)/len(val_loss),sum(val_mae)/len(val_mae), sum(val_rmse)/len(val_rmse)]\n",
    "\n",
    "    id_tunning=id_tunning+1\n",
    "\n"
   ]
  },
  {
   "cell_type": "code",
   "execution_count": 49,
   "metadata": {
    "colab": {
     "base_uri": "https://localhost:8080/",
     "height": 127
    },
    "id": "GHY-qstM2HOs",
    "outputId": "76035618-0afb-450f-80e7-c78de9cad0b4"
   },
   "outputs": [
    {
     "name": "stdout",
     "output_type": "stream",
     "text": [
      "Loss | MAE | RMSE | VAL_LOSS | VAL_MAE | VAL_RMSE\n",
      "ID tunning:  1  Valores:  [0.03296806879341602, 0.03237964582629502, 0.03300312681123614, 0.03872002705931664, 0.03787203490734101, 0.03872002705931664] \n",
      "\n"
     ]
    },
    {
     "data": {
      "text/html": [
       "<div>\n",
       "<style scoped>\n",
       "    .dataframe tbody tr th:only-of-type {\n",
       "        vertical-align: middle;\n",
       "    }\n",
       "\n",
       "    .dataframe tbody tr th {\n",
       "        vertical-align: top;\n",
       "    }\n",
       "\n",
       "    .dataframe thead th {\n",
       "        text-align: right;\n",
       "    }\n",
       "</style>\n",
       "<table border=\"1\" class=\"dataframe\">\n",
       "  <thead>\n",
       "    <tr style=\"text-align: right;\">\n",
       "      <th></th>\n",
       "      <th>Loss</th>\n",
       "      <th>MAE</th>\n",
       "      <th>RMSE</th>\n",
       "      <th>VAL_LOSS</th>\n",
       "      <th>VAL_MAE</th>\n",
       "      <th>VAL_RMSE</th>\n",
       "    </tr>\n",
       "  </thead>\n",
       "  <tbody>\n",
       "    <tr>\n",
       "      <th>1</th>\n",
       "      <td>0.032968</td>\n",
       "      <td>0.03238</td>\n",
       "      <td>0.033003</td>\n",
       "      <td>0.03872</td>\n",
       "      <td>0.037872</td>\n",
       "      <td>0.03872</td>\n",
       "    </tr>\n",
       "  </tbody>\n",
       "</table>\n",
       "</div>"
      ],
      "text/plain": [
       "       Loss      MAE      RMSE  VAL_LOSS   VAL_MAE  VAL_RMSE\n",
       "1  0.032968  0.03238  0.033003   0.03872  0.037872   0.03872"
      ]
     },
     "execution_count": 49,
     "metadata": {},
     "output_type": "execute_result"
    }
   ],
   "source": [
    "for f in final_dict:\n",
    "    print(\"Loss | MAE | RMSE | VAL_LOSS | VAL_MAE | VAL_RMSE\")\n",
    "    print(\"ID tunning: \",f, \" Valores: \",final_dict[f],\"\\n\")\n",
    "\n",
    "final_df = pd.DataFrame.from_dict(final_dict, orient='index')\n",
    "final_df.columns = ['Loss','MAE','RMSE','VAL_LOSS','VAL_MAE','VAL_RMSE']\n",
    "final_df"
   ]
  },
  {
   "cell_type": "code",
   "execution_count": 50,
   "metadata": {},
   "outputs": [],
   "source": [
    "#Results metrics to a file\n",
    "final_df.to_csv(r\"resultados_lstm_overdoses.csv\",index=True)"
   ]
  },
  {
   "cell_type": "code",
   "execution_count": null,
   "metadata": {},
   "outputs": [],
   "source": []
  }
 ],
 "metadata": {
  "accelerator": "TPU",
  "colab": {
   "collapsed_sections": [],
   "name": "portugal_LSTM_AA2.ipynb",
   "provenance": []
  },
  "kernelspec": {
   "display_name": "Python 3",
   "language": "python",
   "name": "python3"
  },
  "language_info": {
   "codemirror_mode": {
    "name": "ipython",
    "version": 3
   },
   "file_extension": ".py",
   "mimetype": "text/x-python",
   "name": "python",
   "nbconvert_exporter": "python",
   "pygments_lexer": "ipython3",
   "version": "3.8.9"
  }
 },
 "nbformat": 4,
 "nbformat_minor": 4
}
