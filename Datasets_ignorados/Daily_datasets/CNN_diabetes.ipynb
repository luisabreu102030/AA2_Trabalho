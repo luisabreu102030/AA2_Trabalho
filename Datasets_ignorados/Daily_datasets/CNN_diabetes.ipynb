{
  "nbformat": 4,
  "nbformat_minor": 0,
  "metadata": {
    "colab": {
      "name": "CNN_diabetes.ipynb",
      "provenance": [],
      "collapsed_sections": []
    },
    "kernelspec": {
      "name": "python3",
      "display_name": "Python 3"
    },
    "language_info": {
      "name": "python"
    }
  },
  "cells": [
    {
      "cell_type": "code",
      "metadata": {
        "id": "xwrshXUCGqKB"
      },
      "source": [
        "import pandas as pd\n",
        "import numpy as np\n",
        "import tensorflow as tf\n",
        "from sklearn.preprocessing import MinMaxScaler\n",
        "from sklearn.model_selection import TimeSeriesSplit\n",
        "import matplotlib.pyplot as plt"
      ],
      "execution_count": 135,
      "outputs": []
    },
    {
      "cell_type": "code",
      "metadata": {
        "id": "R37ImDhtGzq1"
      },
      "source": [
        "#for replicability purposes\n",
        "tf.random.set_seed(91195003)\n",
        "np.random.seed(91195003)\n",
        "\n",
        "#for an easy reset backend session state\n",
        "tf.keras.backend.clear_session()"
      ],
      "execution_count": 136,
      "outputs": []
    },
    {
      "cell_type": "code",
      "metadata": {
        "id": "hyyvaRbYGzoh"
      },
      "source": [
        "#load dataset\n",
        "def load_dataset(path):\n",
        "  return pd.read_csv(path)"
      ],
      "execution_count": 137,
      "outputs": []
    },
    {
      "cell_type": "code",
      "metadata": {
        "id": "JsSFWZKdGzmK"
      },
      "source": [
        "#split data into training and validation sets\n",
        "def split_data(training, perc=10):\n",
        "  train_idx = np.arange(0,int(len(training)*(100-perc)/100))\n",
        "  val_idx = np.arange(int(len(training)* (100-perc)/100+1),len(training))\n",
        "  return train_idx, val_idx\n"
      ],
      "execution_count": 138,
      "outputs": []
    },
    {
      "cell_type": "code",
      "metadata": {
        "id": "Aq8WR83nGzjw"
      },
      "source": [
        "#preparing the data for the LSTM\n",
        "def prepare_data(df):\n",
        "  df_aux = df.copy()\n",
        "  df_aux = df_aux.set_index('Date')\n",
        "  return df_aux\n"
      ],
      "execution_count": 139,
      "outputs": []
    },
    {
      "cell_type": "code",
      "metadata": {
        "id": "NSkFYsxBGzhJ"
      },
      "source": [
        "\n",
        "def data_normalization(df, norm_range=(-1, 1)):\n",
        "#[-1, 1] for LSTM due to the internal use of tanh by the memory cell\n",
        "  scaler = MinMaxScaler(feature_range=norm_range)\n",
        "  df[['All_Causes']] = scaler.fit_transform(df[['All_Causes']])\n",
        "  df[['Diabetes']] = scaler.fit_transform(df[['Diabetes']])\n",
        "  df[['Ozone']] = scaler.fit_transform(df[['Ozone']])\n",
        "  df[['Temperature']] = scaler.fit_transform(df[['Temperature']])\n",
        "  return scaler\n",
        "\n"
      ],
      "execution_count": 140,
      "outputs": []
    },
    {
      "cell_type": "code",
      "metadata": {
        "id": "EvFxeqa-GzYx"
      },
      "source": [
        "#plot learning curve\n",
        "def plot_learning_curves(history, epochs):\n",
        "  #accuracies and losses\n",
        "  #dict_keys(['loss', 'mae', 'rmse', 'val_loss', 'val_mae', 'val_rmse'])\n",
        "  loss=history.history['loss']\n",
        "  val_loss=history.history['val_loss']\n",
        "  epochs_range = range(epochs)\n",
        "  #creating figure\n",
        "  plt.figure(figsize=(8,8))\n",
        "  plt.subplot(1,2,2)\n",
        "  plt.plot(epochs_range,loss,label='Training Loss')\n",
        "  plt.plot(epochs_range,val_loss,label='Validation Loss')\n",
        "  plt.legend(loc='upper right')\n",
        "  plt.title('Training/Validation Loss')\n",
        "  plt.show()\n"
      ],
      "execution_count": 141,
      "outputs": []
    },
    {
      "cell_type": "code",
      "metadata": {
        "id": "Jn07dHs2Gzeo"
      },
      "source": [
        "#Plot time series data\n",
        "def plot_confirmed_cases(data):\n",
        "  plt.figure(figsize=(8,6))\n",
        "  plt.plot(range(len(data)), data)\n",
        "  plt.title('Confirmed Deaths')\n",
        "  plt.ylabel('Óbitos')\n",
        "  plt.xlabel('Days')\n",
        "  plt.show()\n"
      ],
      "execution_count": 142,
      "outputs": []
    },
    {
      "cell_type": "code",
      "metadata": {
        "id": "n4IvSe24GzRB"
      },
      "source": [
        "#Preparing the dataset for the CNN\n",
        "def to_supervised(df, timesteps):\n",
        "  data = df.values\n",
        "  X,y = list(), list()\n",
        "  #iterate over the training set to create X and y\n",
        "  dataset_size = len(data)\n",
        "  for curr_pos in range(dataset_size):\n",
        "    #end of the input sequence is the current position + the number of the timesteps of the input sequence\n",
        "    input_index = curr_pos + timesteps\n",
        "    #end of the labels corresponds to the end of the input sequence + 1\n",
        "    label_index = input_index + 1\n",
        "    #if we have enough data for this sequence\n",
        "    if label_index < dataset_size:\n",
        "      X.append(data[curr_pos:input_index,:])\n",
        "      y.append(data[input_index:label_index,1])\n",
        "        #using np.flot32 for GPU performance\n",
        "  return np.array(X).astype('float32'), np.array(y).astype('float32')"
      ],
      "execution_count": 143,
      "outputs": []
    },
    {
      "cell_type": "code",
      "metadata": {
        "id": "xYrGYxS9HChC"
      },
      "source": [
        "#Building the model\n",
        "def rmse(y_true, y_pred):\n",
        "  return tf.keras.backend.sqrt(tf.keras.backend.mean(tf.keras.backend.square(y_pred - y_true)))\n"
      ],
      "execution_count": 144,
      "outputs": []
    },
    {
      "cell_type": "code",
      "metadata": {
        "id": "dhzJKkf0HCeq"
      },
      "source": [
        "def build_model(timesteps, features, filters= 16, kernel_size=5, pool_size =2 ):\n",
        "  #using the functional API\n",
        "  inputs = tf.keras.layers.Input(shape=(timesteps, features))\n",
        "  #microarchitecture\n",
        "  x = tf.keras.layers.Conv1D(filters=filters, kernel_size = kernel_size, activation='relu', data_format = 'channels_last')(inputs)\n",
        "  x = tf.keras.layers.AveragePooling1D(pool_size = pool_size, data_format = 'channels_first')(x)\n",
        "  #last layers\n",
        "  x = tf.keras.layers.Flatten()(x)\n",
        "  x = tf.keras.layers.Dense(filters)(x)\n",
        "  outputs = tf.keras.layers.Dense(1)(x)\n",
        "  #the model\n",
        "  cnnModel = tf.keras.Model(inputs=inputs, outputs=outputs, name='cnn_model')\n",
        "  tf.keras.utils.plot_model(cnnModel,'cnnmodel.png', show_shapes=True)\n",
        "  return cnnModel"
      ],
      "execution_count": 145,
      "outputs": []
    },
    {
      "cell_type": "code",
      "metadata": {
        "id": "rmXqliMFHCcR"
      },
      "source": [
        "def compile_and_fit(model, epochs, batch_size):\n",
        "  #compile\n",
        "  model.compile(loss=rmse, optimizer = tf.keras.optimizers.Adam(), metrics = ['mae',rmse])\n",
        "  #fit\n",
        "  hist_list = list()\n",
        "  loss_list = list()\n",
        "  #Time Series Cross Validator\n",
        "  tscv = TimeSeriesSplit(n_splits=cv_splits)\n",
        "  for train_index, test_index in tscv.split(X):\n",
        "    train_idx, val_idx = split_data(train_index, perc=10) #further split into training and validation sets\n",
        "    #build data\n",
        "    X_train, y_train = X[train_idx], y[train_idx]\n",
        "    X_val, y_val = X[val_idx], y[val_idx]\n",
        "    X_test, y_test = X[test_index], y[test_index]\n",
        "    history = model.fit(X_train, y_train, validation_data=(X_val, y_val), epochs=epochs, batch_size=batch_size,shuffle=False)\n",
        "    metrics = model.evaluate(X_test, y_test)\n",
        "\n",
        "    plot_learning_curves(history, epochs)\n",
        "    hist_list.append(history)\n",
        "\n",
        "  return model, hist_list"
      ],
      "execution_count": 146,
      "outputs": []
    },
    {
      "cell_type": "code",
      "metadata": {
        "id": "1qRDuAWIHCZy"
      },
      "source": [
        "def forecast(model, df, timesteps, multisteps, scaler):\n",
        "  input_seq = df[-timesteps:].values #getting the last sequence of known value\n",
        "  inp = input_seq\n",
        "  forecasts = list()\n",
        "  print(inp)\n",
        "  #multistep tells us how many iterations we want to perform\n",
        "  #i. e. how many days we want to predict\n",
        "  for step in range(1, multisteps+1):\n",
        "    #implement\n",
        "    inp = inp.reshape(1, timesteps, n_variate)\n",
        "    pred = model.predict(inp)\n",
        "    yhat_inversed = scaler.inverse_transform(pred)\n",
        "    forecasts.append(yhat_inversed)\n",
        "    print(step)\n",
        "            \n",
        "  return forecasts"
      ],
      "execution_count": 147,
      "outputs": []
    },
    {
      "cell_type": "code",
      "metadata": {
        "id": "V5cxiRFhHI2z"
      },
      "source": [
        "def plot_forecast(data, forecasts):\n",
        "  plt.figure(figsize=(8,6))\n",
        "  plt.plot(range(len(data)),data, color='green', label='Confirmed')\n",
        "  plt.plot(range(len(data)-1,len(data)+len(forecasts)-1), forecasts, color='red', label='Forecasts')\n",
        "    \n",
        "  plt.title('Deaths count')\n",
        "  plt.ylabel('Price')\n",
        "  plt.xlabel('Days')\n",
        "  plt.legend()\n",
        "  plt.show()"
      ],
      "execution_count": 148,
      "outputs": []
    },
    {
      "cell_type": "code",
      "metadata": {
        "colab": {
          "base_uri": "https://localhost:8080/",
          "height": 1000
        },
        "id": "e4XvximOHIxZ",
        "outputId": "1cf7d12f-b7bf-4075-cecd-343bbef3dd62"
      },
      "source": [
        "################################\n",
        "################################\n",
        "########                ########\n",
        "######## Main Execution ########\n",
        "########                ########\n",
        "################################\n",
        "################################\n",
        "\n",
        "#Number os variables to use\n",
        "n_variate = 4\n",
        "#the dataframes\n",
        "path=r'daily_diabetes.csv'\n",
        "df_raw = load_dataset(path)\n",
        "df_data = prepare_data(df_raw)\n",
        "df = df_data.copy()\n",
        "\n",
        "print(df.columns)\n",
        "\n",
        "print(df.shape)\n",
        "\n",
        "scaler = data_normalization(df) #scaling data to [-1, 1]\n",
        "\n",
        "\n",
        "##Optimization\n",
        "\n",
        "tunning_dict = {\n",
        "                  1: {'timesteps' : 7, 'multisteps' : 1, 'cv_splits': 3, 'epochs' : 10,  'batch_size' : 5 }#,\n",
        "                  #2: {'timesteps' : 7, 'multisteps' : 1, 'cv_splits' : 3, 'epochs' : 50,  'batch_size' : 5 },\n",
        "                  #3: {'timesteps' : 7, 'multisteps' : 1, 'cv_splits' : 3, 'epochs' : 100,  'batch_size' : 5 },\n",
        "\n",
        "                  #\n",
        "                  #4: {'timesteps' : 8, 'multisteps' : 1, 'cv_splits': 3, 'epochs' : 60,  'batch_size' : 5 },\n",
        "                  #5: {'timesteps' : 8, 'multisteps' : 1, 'cv_splits' : 3, 'epochs' : 90,  'batch_size' : 5 },\n",
        "                  #6: {'timesteps' : 8, 'multisteps' : 1, 'cv_splits' : 3, 'epochs' : 120,  'batch_size' : 5 },\n",
        "                  #\n",
        "                  #7: {'timesteps' : 10, 'multisteps' : 1, 'cv_splits': 3, 'epochs' : 50,  'batch_size' : 8 },\n",
        "                  #8: {'timesteps' : 10, 'multisteps' : 1, 'cv_splits' : 3, 'epochs' : 90,  'batch_size' : 8 },\n",
        "                  #9: {'timesteps' : 10, 'multisteps' : 1, 'cv_splits' : 3, 'epochs' : 120,  'batch_size' : 8 }\n",
        "\n",
        "  }\n",
        "  # record da history de cada modelo\n",
        "record = {}\n",
        "\n",
        "#tunning the model cycle\n",
        "for t in tunning_dict:\n",
        "   # print(record[r])\n",
        "   # fitting the model\n",
        "   timesteps = tunning_dict[t]['timesteps']\n",
        "   epochs = tunning_dict[t]['epochs']\n",
        "   batch_size = tunning_dict[t]['batch_size']\n",
        "   multisteps = tunning_dict[t]['multisteps']\n",
        "   cv_splits = tunning_dict[t]['cv_splits']\n",
        "   # print(timesteps,epochs,batch_size,cv_splits)\n",
        "\n",
        "   X, y = to_supervised(df, timesteps)\n",
        "\n",
        "   model = build_model(timesteps, n_variate)\n",
        "   model, history = compile_and_fit(model, epochs, batch_size)\n",
        "   # print(\"df: \",df.shape,\" timesteps\",timesteps,\" multisteps \",multisteps)\n",
        "   forecasts = forecast(model, df, timesteps, multisteps, scaler)\n",
        "\n",
        "   print(forecasts)\n",
        "\n",
        "   prev = []\n",
        "\n",
        "   record[t] = history\n",
        "\n",
        "\n",
        "  #Put the resulting metrics in a file\n",
        "id_tunning = 1\n",
        "id_split = 1\n",
        "\n",
        "final_dict = {}\n",
        "\n",
        "for r in record:\n",
        "    # print(tunning_dict[1]['epochs'])\n",
        "    loss = []\n",
        "    mae = []\n",
        "    rmse = []\n",
        "    val_loss = []\n",
        "    val_mae = []\n",
        "    val_rmse = []\n",
        "\n",
        "    for h in record[r]:\n",
        "      # print(\"Tunning ID:  \",id_tunning,\" Split ID: \",id_split)\n",
        "      # plot_learning_curves(h, tunning_dict[id_tunning]['epochs'])\n",
        "      # ['loss', 'mae', 'rmse', 'val_loss', 'val_mae', 'val_rmse']\n",
        "      # print(\"loss: \",sum(h.history['loss'])/len(h.history['loss']),\" MAE: \",sum(h.history['mae'])/len(h.history['mae']),\" RMSE: \",sum(h.history['rmse'])/len(h.history['rmse']),\" VAL_LOSS: \",sum(h.history['val_loss'])/len(h.history['val_loss']),\" VAL_MAE: \",sum(h.history['val_mae'])/len(h.history['val_mae']),\" VAL_RMSE: \",sum(h.history['val_rmse'])/len(h.history['val_rmse']))\n",
        "      loss.append(sum(h.history['loss']) / len(h.history['loss']))\n",
        "      mae.append(sum(h.history['mae']) / len(h.history['mae']))\n",
        "      rmse.append(sum(h.history['rmse']) / len(h.history['rmse']))\n",
        "      val_loss.append(sum(h.history['val_loss']) / len(h.history['val_loss']))\n",
        "      val_mae.append(sum(h.history['val_mae']) / len(h.history['val_mae']))\n",
        "      val_rmse.append(sum(h.history['val_rmse']) / len(h.history['val_rmse']))\n",
        "      id_split += 1\n",
        "    id_split = 1\n",
        "\n",
        "    final_dict[id_tunning] = [sum(loss) / len(loss), sum(mae) / len(mae), sum(rmse) / len(rmse),\n",
        "                              sum(val_loss) / len(val_loss), sum(val_mae) / len(val_mae), sum(val_rmse) / len(val_rmse)]\n",
        "\n",
        "    id_tunning = id_tunning + 1\n",
        "\n",
        "\n"
      ],
      "execution_count": 149,
      "outputs": [
        {
          "output_type": "stream",
          "text": [
            "Index(['All_Causes', 'Diabetes', 'Ozone', 'Temperature'], dtype='object')\n",
            "(365, 4)\n",
            "Epoch 1/10\n",
            "17/17 [==============================] - 1s 20ms/step - loss: 0.3669 - mae: 0.2959 - rmse: 0.3680 - val_loss: 0.3485 - val_mae: 0.2867 - val_rmse: 0.3572\n",
            "Epoch 2/10\n",
            "17/17 [==============================] - 0s 5ms/step - loss: 0.3494 - mae: 0.2830 - rmse: 0.3504 - val_loss: 0.3431 - val_mae: 0.2754 - val_rmse: 0.3522\n",
            "Epoch 3/10\n",
            "17/17 [==============================] - 0s 5ms/step - loss: 0.3433 - mae: 0.2789 - rmse: 0.3442 - val_loss: 0.3414 - val_mae: 0.2736 - val_rmse: 0.3501\n",
            "Epoch 4/10\n",
            "17/17 [==============================] - 0s 5ms/step - loss: 0.3390 - mae: 0.2756 - rmse: 0.3399 - val_loss: 0.3407 - val_mae: 0.2717 - val_rmse: 0.3496\n",
            "Epoch 5/10\n",
            "17/17 [==============================] - 0s 5ms/step - loss: 0.3355 - mae: 0.2732 - rmse: 0.3363 - val_loss: 0.3409 - val_mae: 0.2685 - val_rmse: 0.3497\n",
            "Epoch 6/10\n",
            "17/17 [==============================] - 0s 5ms/step - loss: 0.3326 - mae: 0.2722 - rmse: 0.3332 - val_loss: 0.3464 - val_mae: 0.2690 - val_rmse: 0.3545\n",
            "Epoch 7/10\n",
            "17/17 [==============================] - 0s 5ms/step - loss: 0.3307 - mae: 0.2714 - rmse: 0.3312 - val_loss: 0.3494 - val_mae: 0.2721 - val_rmse: 0.3570\n",
            "Epoch 8/10\n",
            "17/17 [==============================] - 0s 6ms/step - loss: 0.3285 - mae: 0.2703 - rmse: 0.3288 - val_loss: 0.3507 - val_mae: 0.2743 - val_rmse: 0.3580\n",
            "Epoch 9/10\n",
            "17/17 [==============================] - 0s 5ms/step - loss: 0.3268 - mae: 0.2695 - rmse: 0.3270 - val_loss: 0.3513 - val_mae: 0.2767 - val_rmse: 0.3589\n",
            "Epoch 10/10\n",
            "17/17 [==============================] - 0s 5ms/step - loss: 0.3246 - mae: 0.2683 - rmse: 0.3247 - val_loss: 0.3520 - val_mae: 0.2794 - val_rmse: 0.3595\n",
            "3/3 [==============================] - 0s 4ms/step - loss: 0.3850 - mae: 0.3092 - rmse: 0.3869\n"
          ],
          "name": "stdout"
        },
        {
          "output_type": "display_data",
          "data": {
            "image/png": "[encoded data removed]",
            "text/plain": [
              "<Figure size 576x576 with 1 Axes>"
            ]
          },
          "metadata": {
            "tags": [],
            "needs_background": "light"
          }
        },
        {
          "output_type": "stream",
          "text": [
            "Epoch 1/10\n",
            "33/33 [==============================] - 0s 5ms/step - loss: 0.3171 - mae: 0.2643 - rmse: 0.3235 - val_loss: 0.2664 - val_mae: 0.2164 - val_rmse: 0.3003\n",
            "Epoch 2/10\n",
            "33/33 [==============================] - 0s 3ms/step - loss: 0.3139 - mae: 0.2592 - rmse: 0.3167 - val_loss: 0.2489 - val_mae: 0.2010 - val_rmse: 0.2833\n",
            "Epoch 3/10\n",
            "33/33 [==============================] - 0s 3ms/step - loss: 0.2984 - mae: 0.2447 - rmse: 0.2980 - val_loss: 0.2370 - val_mae: 0.2004 - val_rmse: 0.2700\n",
            "Epoch 4/10\n",
            "33/33 [==============================] - 0s 3ms/step - loss: 0.2925 - mae: 0.2400 - rmse: 0.2899 - val_loss: 0.2339 - val_mae: 0.2007 - val_rmse: 0.2655\n",
            "Epoch 5/10\n",
            "33/33 [==============================] - 0s 4ms/step - loss: 0.2903 - mae: 0.2375 - rmse: 0.2856 - val_loss: 0.2381 - val_mae: 0.2027 - val_rmse: 0.2675\n",
            "Epoch 6/10\n",
            "33/33 [==============================] - 0s 4ms/step - loss: 0.2854 - mae: 0.2332 - rmse: 0.2790 - val_loss: 0.2431 - val_mae: 0.2049 - val_rmse: 0.2709\n",
            "Epoch 7/10\n",
            "33/33 [==============================] - 0s 4ms/step - loss: 0.2821 - mae: 0.2315 - rmse: 0.2765 - val_loss: 0.2418 - val_mae: 0.2022 - val_rmse: 0.2699\n",
            "Epoch 8/10\n",
            "33/33 [==============================] - 0s 3ms/step - loss: 0.2795 - mae: 0.2303 - rmse: 0.2734 - val_loss: 0.2342 - val_mae: 0.1989 - val_rmse: 0.2641\n",
            "Epoch 9/10\n",
            "33/33 [==============================] - 0s 3ms/step - loss: 0.2837 - mae: 0.2326 - rmse: 0.2778 - val_loss: 0.2400 - val_mae: 0.2024 - val_rmse: 0.2685\n",
            "Epoch 10/10\n",
            "33/33 [==============================] - 0s 3ms/step - loss: 0.2719 - mae: 0.2227 - rmse: 0.2660 - val_loss: 0.2310 - val_mae: 0.1973 - val_rmse: 0.2620\n",
            "3/3 [==============================] - 0s 5ms/step - loss: 0.4010 - mae: 0.3076 - rmse: 0.3989\n"
          ],
          "name": "stdout"
        },
        {
          "output_type": "display_data",
          "data": {
            "image/png": "[encoded data removed]",
            "text/plain": [
              "<Figure size 576x576 with 1 Axes>"
            ]
          },
          "metadata": {
            "tags": [],
            "needs_background": "light"
          }
        },
        {
          "output_type": "stream",
          "text": [
            "Epoch 1/10\n",
            "49/49 [==============================] - 0s 4ms/step - loss: 0.3015 - mae: 0.2475 - rmse: 0.3050 - val_loss: 0.3648 - val_mae: 0.3135 - val_rmse: 0.3296\n",
            "Epoch 2/10\n",
            "49/49 [==============================] - 0s 3ms/step - loss: 0.2924 - mae: 0.2387 - rmse: 0.2947 - val_loss: 0.3531 - val_mae: 0.3005 - val_rmse: 0.3154\n",
            "Epoch 3/10\n",
            "49/49 [==============================] - 0s 3ms/step - loss: 0.2897 - mae: 0.2381 - rmse: 0.2917 - val_loss: 0.3573 - val_mae: 0.3048 - val_rmse: 0.3228\n",
            "Epoch 4/10\n",
            "49/49 [==============================] - 0s 3ms/step - loss: 0.2862 - mae: 0.2347 - rmse: 0.2875 - val_loss: 0.3533 - val_mae: 0.2989 - val_rmse: 0.3180\n",
            "Epoch 5/10\n",
            "49/49 [==============================] - 0s 3ms/step - loss: 0.2826 - mae: 0.2317 - rmse: 0.2834 - val_loss: 0.3532 - val_mae: 0.2964 - val_rmse: 0.3182\n",
            "Epoch 6/10\n",
            "49/49 [==============================] - 0s 3ms/step - loss: 0.2790 - mae: 0.2285 - rmse: 0.2790 - val_loss: 0.3540 - val_mae: 0.2939 - val_rmse: 0.3180\n",
            "Epoch 7/10\n",
            "49/49 [==============================] - 0s 3ms/step - loss: 0.2759 - mae: 0.2267 - rmse: 0.2755 - val_loss: 0.3562 - val_mae: 0.2949 - val_rmse: 0.3189\n",
            "Epoch 8/10\n",
            "49/49 [==============================] - 0s 3ms/step - loss: 0.2734 - mae: 0.2245 - rmse: 0.2724 - val_loss: 0.3578 - val_mae: 0.2973 - val_rmse: 0.3208\n",
            "Epoch 9/10\n",
            "49/49 [==============================] - 0s 3ms/step - loss: 0.2703 - mae: 0.2217 - rmse: 0.2688 - val_loss: 0.3623 - val_mae: 0.3025 - val_rmse: 0.3249\n",
            "Epoch 10/10\n",
            "49/49 [==============================] - 0s 3ms/step - loss: 0.2675 - mae: 0.2200 - rmse: 0.2656 - val_loss: 0.3649 - val_mae: 0.3065 - val_rmse: 0.3273\n",
            "3/3 [==============================] - 0s 4ms/step - loss: 0.3743 - mae: 0.3113 - rmse: 0.3752\n"
          ],
          "name": "stdout"
        },
        {
          "output_type": "display_data",
          "data": {
            "image/png": "[encoded data removed]",
            "text/plain": [
              "<Figure size 576x576 with 1 Axes>"
            ]
          },
          "metadata": {
            "tags": [],
            "needs_background": "light"
          }
        },
        {
          "output_type": "stream",
          "text": [
            "[[ 0.31353135 -0.18181818  0.2400151  -0.5780446 ]\n",
            " [ 0.5709571   0.27272727 -0.24200642 -0.8490566 ]\n",
            " [ 0.78437844  0.09090909  0.09365862 -0.94511149]\n",
            " [ 0.61056106  0.18181818 -0.38254314 -1.        ]\n",
            " [ 0.86578658  0.63636364 -0.36780857 -0.99313894]\n",
            " [ 0.94059406  0.18181818 -0.73486832 -0.96569468]\n",
            " [ 1.          0.09090909 -0.39180897 -0.73927959]]\n",
            "WARNING:tensorflow:6 out of the last 6 calls to <function Model.make_predict_function.<locals>.predict_function at 0x7f0a3ef73170> triggered tf.function retracing. Tracing is expensive and the excessive number of tracings could be due to (1) creating @tf.function repeatedly in a loop, (2) passing tensors with different shapes, (3) passing Python objects instead of tensors. For (1), please define your @tf.function outside of the loop. For (2), @tf.function has experimental_relax_shapes=True option that relaxes argument shapes that can avoid unnecessary retracing. For (3), please refer to https://www.tensorflow.org/guide/function#controlling_retracing and https://www.tensorflow.org/api_docs/python/tf/function for  more details.\n",
            "1\n",
            "[array([[18.505548]], dtype=float32)]\n"
          ],
          "name": "stdout"
        }
      ]
    },
    {
      "cell_type": "code",
      "metadata": {
        "colab": {
          "base_uri": "https://localhost:8080/",
          "height": 151
        },
        "id": "TyoPkFIOOuK3",
        "outputId": "581b4148-1961-4453-8f23-e10934820806"
      },
      "source": [
        "for f in final_dict:\n",
        "    print(\"Loss | MAE | RMSE | VAL_LOSS | VAL_MAE | VAL_RMSE\")\n",
        "    print(\"ID tunning: \",f, \" Valores: \",final_dict[f],\"\\n\")\n",
        "\n",
        "final_df = pd.DataFrame.from_dict(final_dict, orient='index')\n",
        "final_df.columns = ['Loss','MAE','RMSE','VAL_LOSS','VAL_MAE','VAL_RMSE']\n",
        "final_df"
      ],
      "execution_count": 150,
      "outputs": [
        {
          "output_type": "stream",
          "text": [
            "Loss | MAE | RMSE | VAL_LOSS | VAL_MAE | VAL_RMSE\n",
            "ID tunning:  1  Valores:  [0.291708246866862, 0.24027210772037508, 0.2928615649541219, 0.31519164294004437, 0.25944863706827165, 0.3160823414723078] \n",
            "\n"
          ],
          "name": "stdout"
        },
        {
          "output_type": "execute_result",
          "data": {
            "text/html": [
              "<div>\n",
              "<style scoped>\n",
              "    .dataframe tbody tr th:only-of-type {\n",
              "        vertical-align: middle;\n",
              "    }\n",
              "\n",
              "    .dataframe tbody tr th {\n",
              "        vertical-align: top;\n",
              "    }\n",
              "\n",
              "    .dataframe thead th {\n",
              "        text-align: right;\n",
              "    }\n",
              "</style>\n",
              "<table border=\"1\" class=\"dataframe\">\n",
              "  <thead>\n",
              "    <tr style=\"text-align: right;\">\n",
              "      <th></th>\n",
              "      <th>Loss</th>\n",
              "      <th>MAE</th>\n",
              "      <th>RMSE</th>\n",
              "      <th>VAL_LOSS</th>\n",
              "      <th>VAL_MAE</th>\n",
              "      <th>VAL_RMSE</th>\n",
              "    </tr>\n",
              "  </thead>\n",
              "  <tbody>\n",
              "    <tr>\n",
              "      <th>1</th>\n",
              "      <td>0.291708</td>\n",
              "      <td>0.240272</td>\n",
              "      <td>0.292862</td>\n",
              "      <td>0.315192</td>\n",
              "      <td>0.259449</td>\n",
              "      <td>0.316082</td>\n",
              "    </tr>\n",
              "  </tbody>\n",
              "</table>\n",
              "</div>"
            ],
            "text/plain": [
              "       Loss       MAE      RMSE  VAL_LOSS   VAL_MAE  VAL_RMSE\n",
              "1  0.291708  0.240272  0.292862  0.315192  0.259449  0.316082"
            ]
          },
          "metadata": {
            "tags": []
          },
          "execution_count": 150
        }
      ]
    },
    {
      "cell_type": "code",
      "metadata": {
        "id": "rEUFsQ16Ot-o"
      },
      "source": [
        "#Results metrics to a file\n",
        "final_df.to_csv(r\"resultados_cnn_diabetes.csv\",index=True)"
      ],
      "execution_count": 151,
      "outputs": []
    }
  ]
}