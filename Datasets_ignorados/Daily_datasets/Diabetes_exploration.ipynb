{
  "nbformat": 4,
  "nbformat_minor": 0,
  "metadata": {
    "colab": {
      "name": "Diabetes_exploration.ipynb",
      "provenance": [],
      "collapsed_sections": [],
      "toc_visible": true
    },
    "kernelspec": {
      "name": "python3",
      "display_name": "Python 3"
    },
    "language_info": {
      "name": "python"
    }
  },
  "cells": [
    {
      "cell_type": "markdown",
      "metadata": {
        "id": "tHbZO5su36o7"
      },
      "source": [
        "# Covid data exploration\n",
        "\n"
      ]
    },
    {
      "cell_type": "code",
      "metadata": {
        "id": "94VMwh7D4BHp"
      },
      "source": [
        "import pandas as pd\n",
        "import numpy as np\n",
        "import matplotlib.pyplot as plt\n",
        "from sklearn import preprocessing\n",
        "from sklearn.model_selection import train_test_split\n",
        "from sklearn.tree import DecisionTreeClassifier\n",
        "from sklearn.linear_model import LogisticRegression\n",
        "from sklearn.metrics import classification_report, confusion_matrix\n",
        "from sklearn import metrics\n",
        "from sklearn.feature_selection import SelectKBest, chi2, f_regression\n",
        "import seaborn as sns\n",
        "from sklearn.feature_selection import RFE\n",
        "from sklearn.ensemble import RandomForestRegressor\n",
        "from matplotlib import pyplot"
      ],
      "execution_count": 10,
      "outputs": []
    },
    {
      "cell_type": "code",
      "metadata": {
        "colab": {
          "base_uri": "https://localhost:8080/"
        },
        "id": "Tjvy83nT4BDR",
        "outputId": "70071fe6-be59-47e7-8bda-b57eb4270b7a"
      },
      "source": [
        "dataset = pd.read_csv('daily_diabetes.csv', index_col=0)\n",
        "dataset.shape"
      ],
      "execution_count": 11,
      "outputs": [
        {
          "output_type": "execute_result",
          "data": {
            "text/plain": [
              "(365, 4)"
            ]
          },
          "metadata": {
            "tags": []
          },
          "execution_count": 11
        }
      ]
    },
    {
      "cell_type": "code",
      "metadata": {
        "colab": {
          "base_uri": "https://localhost:8080/",
          "height": 235
        },
        "id": "C0mVUPZ833ZL",
        "outputId": "a2a65b16-003c-4770-ab46-409c0a40ed02"
      },
      "source": [
        "dataset.head()"
      ],
      "execution_count": 12,
      "outputs": [
        {
          "output_type": "execute_result",
          "data": {
            "text/html": [
              "<div>\n",
              "<style scoped>\n",
              "    .dataframe tbody tr th:only-of-type {\n",
              "        vertical-align: middle;\n",
              "    }\n",
              "\n",
              "    .dataframe tbody tr th {\n",
              "        vertical-align: top;\n",
              "    }\n",
              "\n",
              "    .dataframe thead th {\n",
              "        text-align: right;\n",
              "    }\n",
              "</style>\n",
              "<table border=\"1\" class=\"dataframe\">\n",
              "  <thead>\n",
              "    <tr style=\"text-align: right;\">\n",
              "      <th></th>\n",
              "      <th>All_Causes</th>\n",
              "      <th>Diabetes</th>\n",
              "      <th>Ozone</th>\n",
              "      <th>Temperature</th>\n",
              "    </tr>\n",
              "    <tr>\n",
              "      <th>Date</th>\n",
              "      <th></th>\n",
              "      <th></th>\n",
              "      <th></th>\n",
              "      <th></th>\n",
              "    </tr>\n",
              "  </thead>\n",
              "  <tbody>\n",
              "    <tr>\n",
              "      <th>2014-01-01</th>\n",
              "      <td>1418</td>\n",
              "      <td>15</td>\n",
              "      <td>54.285472</td>\n",
              "      <td>6.966667</td>\n",
              "    </tr>\n",
              "    <tr>\n",
              "      <th>2014-02-01</th>\n",
              "      <td>1485</td>\n",
              "      <td>17</td>\n",
              "      <td>62.274416</td>\n",
              "      <td>7.200000</td>\n",
              "    </tr>\n",
              "    <tr>\n",
              "      <th>2014-03-01</th>\n",
              "      <td>1456</td>\n",
              "      <td>25</td>\n",
              "      <td>34.028751</td>\n",
              "      <td>7.600000</td>\n",
              "    </tr>\n",
              "    <tr>\n",
              "      <th>2014-04-01</th>\n",
              "      <td>1448</td>\n",
              "      <td>13</td>\n",
              "      <td>35.512845</td>\n",
              "      <td>6.366667</td>\n",
              "    </tr>\n",
              "    <tr>\n",
              "      <th>2014-05-01</th>\n",
              "      <td>1411</td>\n",
              "      <td>20</td>\n",
              "      <td>62.606071</td>\n",
              "      <td>5.200000</td>\n",
              "    </tr>\n",
              "  </tbody>\n",
              "</table>\n",
              "</div>"
            ],
            "text/plain": [
              "            All_Causes  Diabetes      Ozone  Temperature\n",
              "Date                                                    \n",
              "2014-01-01        1418        15  54.285472     6.966667\n",
              "2014-02-01        1485        17  62.274416     7.200000\n",
              "2014-03-01        1456        25  34.028751     7.600000\n",
              "2014-04-01        1448        13  35.512845     6.366667\n",
              "2014-05-01        1411        20  62.606071     5.200000"
            ]
          },
          "metadata": {
            "tags": []
          },
          "execution_count": 12
        }
      ]
    },
    {
      "cell_type": "markdown",
      "metadata": {
        "id": "Bf6lCjul4Obi"
      },
      "source": [
        "## pearson correlation"
      ]
    },
    {
      "cell_type": "code",
      "metadata": {
        "colab": {
          "base_uri": "https://localhost:8080/",
          "height": 543
        },
        "id": "lVhqbVFn4JUP",
        "outputId": "a17ab32d-0703-4947-f2e0-ecfde71034b8"
      },
      "source": [
        "#Using Pearson Correlation\n",
        "plt.figure(figsize=(4,4))\n",
        "cor = dataset.corr()\n",
        "sns.heatmap(cor, annot=True, cmap=plt.cm.Reds)\n",
        "plt.show()\n",
        "#Correlation with output variable\n",
        "cor_target = abs(dataset['Diabetes'])\n",
        "#Selecting highly correlated features\n",
        "relevant_features = cor_target[cor_target>0.5]\n",
        "relevant_features"
      ],
      "execution_count": 13,
      "outputs": [
        {
          "output_type": "display_data",
          "data": {
            "image/png": "[encoded data removed]",
            "text/plain": [
              "<Figure size 288x288 with 2 Axes>"
            ]
          },
          "metadata": {
            "tags": [],
            "needs_background": "light"
          }
        },
        {
          "output_type": "execute_result",
          "data": {
            "text/plain": [
              "Date\n",
              "2014-01-01    15\n",
              "2014-02-01    17\n",
              "2014-03-01    25\n",
              "2014-04-01    13\n",
              "2014-05-01    20\n",
              "              ..\n",
              "2014-12-27    18\n",
              "2014-12-28    19\n",
              "2014-12-29    24\n",
              "2014-12-30    19\n",
              "2014-12-31    18\n",
              "Name: Diabetes, Length: 365, dtype: int64"
            ]
          },
          "metadata": {
            "tags": []
          },
          "execution_count": 13
        }
      ]
    },
    {
      "cell_type": "markdown",
      "metadata": {
        "id": "_X1ZTKZX4gpu"
      },
      "source": [
        "## Feature selection com SelectKBest"
      ]
    },
    {
      "cell_type": "code",
      "metadata": {
        "id": "6dG0K86A4jF1"
      },
      "source": [
        "df_data = dataset.drop(columns='Diabetes')\n",
        "df_label = dataset['Diabetes']"
      ],
      "execution_count": 16,
      "outputs": []
    },
    {
      "cell_type": "code",
      "metadata": {
        "id": "5sJ0Mjpo4jsE"
      },
      "source": [
        "# Feature extraction\n",
        "test = SelectKBest(score_func=chi2,k=3)\n",
        "fit = test.fit_transform(df_data, df_label)"
      ],
      "execution_count": 18,
      "outputs": []
    },
    {
      "cell_type": "code",
      "metadata": {
        "colab": {
          "base_uri": "https://localhost:8080/"
        },
        "id": "yepYgrbT99gC",
        "outputId": "0ecabfcc-6a78-43aa-e269-aa620809c634"
      },
      "source": [
        "fit[:19]"
      ],
      "execution_count": 19,
      "outputs": [
        {
          "output_type": "execute_result",
          "data": {
            "text/plain": [
              "array([[1418.        ,   54.28547192,    6.96666667],\n",
              "       [1485.        ,   62.27441556,    7.2       ],\n",
              "       [1456.        ,   34.02875056,    7.6       ],\n",
              "       [1448.        ,   35.51284486,    6.36666667],\n",
              "       [1411.        ,   62.60607139,    5.2       ],\n",
              "       [1536.        ,   54.99867722,    6.03333333],\n",
              "       [1460.        ,   39.3349255 ,    8.83333333],\n",
              "       [1448.        ,   40.25696806,    8.36666667],\n",
              "       [1441.        ,   32.97996917,    7.36666667],\n",
              "       [1412.        ,   31.41896042,    6.5       ],\n",
              "       [1416.        ,   47.92339417,    6.        ],\n",
              "       [1411.        ,   17.19821153,    3.53333333],\n",
              "       [1429.        ,   38.61881917,    4.9       ],\n",
              "       [1377.        ,   35.68192419,    5.63333333],\n",
              "       [1477.        ,   40.08807042,    5.66666667],\n",
              "       [1425.        ,   43.93208167,    7.2       ],\n",
              "       [1328.        ,   44.51241694,    6.46666667],\n",
              "       [1366.        ,   31.91616847,    6.26666667],\n",
              "       [1298.        ,   28.29512389,    6.4       ]])"
            ]
          },
          "metadata": {
            "tags": []
          },
          "execution_count": 19
        }
      ]
    },
    {
      "cell_type": "code",
      "metadata": {
        "colab": {
          "base_uri": "https://localhost:8080/",
          "height": 669
        },
        "id": "FC2rsZ0A-SOK",
        "outputId": "85798231-dbb9-4376-df79-e9a76dcb3acc"
      },
      "source": [
        "df_data[:19]"
      ],
      "execution_count": 20,
      "outputs": [
        {
          "output_type": "execute_result",
          "data": {
            "text/html": [
              "<div>\n",
              "<style scoped>\n",
              "    .dataframe tbody tr th:only-of-type {\n",
              "        vertical-align: middle;\n",
              "    }\n",
              "\n",
              "    .dataframe tbody tr th {\n",
              "        vertical-align: top;\n",
              "    }\n",
              "\n",
              "    .dataframe thead th {\n",
              "        text-align: right;\n",
              "    }\n",
              "</style>\n",
              "<table border=\"1\" class=\"dataframe\">\n",
              "  <thead>\n",
              "    <tr style=\"text-align: right;\">\n",
              "      <th></th>\n",
              "      <th>All_Causes</th>\n",
              "      <th>Ozone</th>\n",
              "      <th>Temperature</th>\n",
              "    </tr>\n",
              "    <tr>\n",
              "      <th>Date</th>\n",
              "      <th></th>\n",
              "      <th></th>\n",
              "      <th></th>\n",
              "    </tr>\n",
              "  </thead>\n",
              "  <tbody>\n",
              "    <tr>\n",
              "      <th>2014-01-01</th>\n",
              "      <td>1418</td>\n",
              "      <td>54.285472</td>\n",
              "      <td>6.966667</td>\n",
              "    </tr>\n",
              "    <tr>\n",
              "      <th>2014-02-01</th>\n",
              "      <td>1485</td>\n",
              "      <td>62.274416</td>\n",
              "      <td>7.200000</td>\n",
              "    </tr>\n",
              "    <tr>\n",
              "      <th>2014-03-01</th>\n",
              "      <td>1456</td>\n",
              "      <td>34.028751</td>\n",
              "      <td>7.600000</td>\n",
              "    </tr>\n",
              "    <tr>\n",
              "      <th>2014-04-01</th>\n",
              "      <td>1448</td>\n",
              "      <td>35.512845</td>\n",
              "      <td>6.366667</td>\n",
              "    </tr>\n",
              "    <tr>\n",
              "      <th>2014-05-01</th>\n",
              "      <td>1411</td>\n",
              "      <td>62.606071</td>\n",
              "      <td>5.200000</td>\n",
              "    </tr>\n",
              "    <tr>\n",
              "      <th>2014-06-01</th>\n",
              "      <td>1536</td>\n",
              "      <td>54.998677</td>\n",
              "      <td>6.033333</td>\n",
              "    </tr>\n",
              "    <tr>\n",
              "      <th>2014-07-01</th>\n",
              "      <td>1460</td>\n",
              "      <td>39.334926</td>\n",
              "      <td>8.833333</td>\n",
              "    </tr>\n",
              "    <tr>\n",
              "      <th>2014-08-01</th>\n",
              "      <td>1448</td>\n",
              "      <td>40.256968</td>\n",
              "      <td>8.366667</td>\n",
              "    </tr>\n",
              "    <tr>\n",
              "      <th>2014-09-01</th>\n",
              "      <td>1441</td>\n",
              "      <td>32.979969</td>\n",
              "      <td>7.366667</td>\n",
              "    </tr>\n",
              "    <tr>\n",
              "      <th>2014-10-01</th>\n",
              "      <td>1412</td>\n",
              "      <td>31.418960</td>\n",
              "      <td>6.500000</td>\n",
              "    </tr>\n",
              "    <tr>\n",
              "      <th>2014-11-01</th>\n",
              "      <td>1416</td>\n",
              "      <td>47.923394</td>\n",
              "      <td>6.000000</td>\n",
              "    </tr>\n",
              "    <tr>\n",
              "      <th>2014-12-01</th>\n",
              "      <td>1411</td>\n",
              "      <td>17.198212</td>\n",
              "      <td>3.533333</td>\n",
              "    </tr>\n",
              "    <tr>\n",
              "      <th>2014-01-13</th>\n",
              "      <td>1429</td>\n",
              "      <td>38.618819</td>\n",
              "      <td>4.900000</td>\n",
              "    </tr>\n",
              "    <tr>\n",
              "      <th>2014-01-14</th>\n",
              "      <td>1377</td>\n",
              "      <td>35.681924</td>\n",
              "      <td>5.633333</td>\n",
              "    </tr>\n",
              "    <tr>\n",
              "      <th>2014-01-15</th>\n",
              "      <td>1477</td>\n",
              "      <td>40.088070</td>\n",
              "      <td>5.666667</td>\n",
              "    </tr>\n",
              "    <tr>\n",
              "      <th>2014-01-16</th>\n",
              "      <td>1425</td>\n",
              "      <td>43.932082</td>\n",
              "      <td>7.200000</td>\n",
              "    </tr>\n",
              "    <tr>\n",
              "      <th>2014-01-17</th>\n",
              "      <td>1328</td>\n",
              "      <td>44.512417</td>\n",
              "      <td>6.466667</td>\n",
              "    </tr>\n",
              "    <tr>\n",
              "      <th>2014-01-18</th>\n",
              "      <td>1366</td>\n",
              "      <td>31.916168</td>\n",
              "      <td>6.266667</td>\n",
              "    </tr>\n",
              "    <tr>\n",
              "      <th>2014-01-19</th>\n",
              "      <td>1298</td>\n",
              "      <td>28.295124</td>\n",
              "      <td>6.400000</td>\n",
              "    </tr>\n",
              "  </tbody>\n",
              "</table>\n",
              "</div>"
            ],
            "text/plain": [
              "            All_Causes      Ozone  Temperature\n",
              "Date                                          \n",
              "2014-01-01        1418  54.285472     6.966667\n",
              "2014-02-01        1485  62.274416     7.200000\n",
              "2014-03-01        1456  34.028751     7.600000\n",
              "2014-04-01        1448  35.512845     6.366667\n",
              "2014-05-01        1411  62.606071     5.200000\n",
              "2014-06-01        1536  54.998677     6.033333\n",
              "2014-07-01        1460  39.334926     8.833333\n",
              "2014-08-01        1448  40.256968     8.366667\n",
              "2014-09-01        1441  32.979969     7.366667\n",
              "2014-10-01        1412  31.418960     6.500000\n",
              "2014-11-01        1416  47.923394     6.000000\n",
              "2014-12-01        1411  17.198212     3.533333\n",
              "2014-01-13        1429  38.618819     4.900000\n",
              "2014-01-14        1377  35.681924     5.633333\n",
              "2014-01-15        1477  40.088070     5.666667\n",
              "2014-01-16        1425  43.932082     7.200000\n",
              "2014-01-17        1328  44.512417     6.466667\n",
              "2014-01-18        1366  31.916168     6.266667\n",
              "2014-01-19        1298  28.295124     6.400000"
            ]
          },
          "metadata": {
            "tags": []
          },
          "execution_count": 20
        }
      ]
    },
    {
      "cell_type": "markdown",
      "metadata": {
        "id": "whPPoMrsC0cG"
      },
      "source": [
        "## Feature selection of Lag Variables com Random Forest Regressor"
      ]
    },
    {
      "cell_type": "markdown",
      "metadata": {
        "id": "lLy2E1SVDRC2"
      },
      "source": [
        "We can also use feature selection to automatically identify and select those input features that are most predictive.\n",
        "\n",
        "A popular method for feature selection is called Recursive Feature Selection (RFE).\n",
        "\n",
        "RFE works by creating predictive models, weighting features, and pruning those with the smallest weights, then repeating the process until a desired number of features are left.\n",
        "\n",
        "The code below uses RFE with a random forest predictive model and sets the desired number of input features to 10.\n",
        "\n",
        "(A bar graph is also created showing the feature selection rank (smaller is better) for each input feature.)"
      ]
    },
    {
      "cell_type": "code",
      "metadata": {
        "colab": {
          "base_uri": "https://localhost:8080/",
          "height": 334
        },
        "id": "2jvjIPQUBI7N",
        "outputId": "076cac3f-5a89-4c49-e137-c71c1052185e"
      },
      "source": [
        "# separate into input and output variables\n",
        "array = dataset.values\n",
        "# perform feature selection\n",
        "rfe = RFE(RandomForestRegressor(n_estimators=500, random_state=1), n_features_to_select=3)\n",
        "fit = rfe.fit(df_data, df_label)\n",
        "# report selected features\n",
        "print('Selected Features:')\n",
        "names = dataset.columns.values[0:-1]\n",
        "for i in range(len(fit.support_)):\n",
        "\tif fit.support_[i]:\n",
        "\t\tprint(names[i])\n",
        "# plot feature rank\n",
        "names = dataset.columns.values[0:-1]\n",
        "ticks = [i for i in range(len(names))]\n",
        "pyplot.bar(ticks, fit.ranking_)\n",
        "pyplot.xticks(ticks, names)\n",
        "pyplot.show()"
      ],
      "execution_count": 21,
      "outputs": [
        {
          "output_type": "stream",
          "text": [
            "Selected Features:\n",
            "All_Causes\n",
            "Diabetes\n",
            "Ozone\n"
          ],
          "name": "stdout"
        },
        {
          "output_type": "display_data",
          "data": {
            "image/png": "[encoded data removed]",
            "text/plain": [
              "<Figure size 432x288 with 1 Axes>"
            ]
          },
          "metadata": {
            "tags": [],
            "needs_background": "light"
          }
        }
      ]
    },
    {
      "cell_type": "code",
      "metadata": {
        "colab": {
          "base_uri": "https://localhost:8080/"
        },
        "id": "kLW8rwevGN0C",
        "outputId": "78d1fe5a-e3bf-43a4-bd88-aef55e61a5aa"
      },
      "source": [
        "df_data.columns"
      ],
      "execution_count": 22,
      "outputs": [
        {
          "output_type": "execute_result",
          "data": {
            "text/plain": [
              "Index(['All_Causes', 'Ozone', 'Temperature'], dtype='object')"
            ]
          },
          "metadata": {
            "tags": []
          },
          "execution_count": 22
        }
      ]
    }
  ]
}