{
  "nbformat": 4,
  "nbformat_minor": 0,
  "metadata": {
    "colab": {
      "name": "CNN_covid.ipynb",
      "provenance": [],
      "collapsed_sections": []
    },
    "kernelspec": {
      "name": "python3",
      "display_name": "Python 3"
    },
    "language_info": {
      "name": "python"
    }
  },
  "cells": [
    {
      "cell_type": "code",
      "metadata": {
        "id": "xwrshXUCGqKB"
      },
      "source": [
        "import pandas as pd\n",
        "import numpy as np\n",
        "import tensorflow as tf\n",
        "from sklearn.preprocessing import MinMaxScaler\n",
        "from sklearn.model_selection import TimeSeriesSplit\n",
        "import matplotlib.pyplot as plt"
      ],
      "execution_count": 1,
      "outputs": []
    },
    {
      "cell_type": "code",
      "metadata": {
        "id": "R37ImDhtGzq1"
      },
      "source": [
        "#for replicability purposes\n",
        "tf.random.set_seed(91195003)\n",
        "np.random.seed(91195003)\n",
        "\n",
        "#for an easy reset backend session state\n",
        "tf.keras.backend.clear_session()"
      ],
      "execution_count": 2,
      "outputs": []
    },
    {
      "cell_type": "code",
      "metadata": {
        "id": "hyyvaRbYGzoh"
      },
      "source": [
        "#load dataset\n",
        "def load_dataset(path):\n",
        "  return pd.read_csv(path)"
      ],
      "execution_count": 3,
      "outputs": []
    },
    {
      "cell_type": "code",
      "metadata": {
        "id": "JsSFWZKdGzmK"
      },
      "source": [
        "#split data into training and validation sets\n",
        "def split_data(training, perc=10):\n",
        "  train_idx = np.arange(0,int(len(training)*(100-perc)/100))\n",
        "  val_idx = np.arange(int(len(training)* (100-perc)/100+1),len(training))\n",
        "  return train_idx, val_idx\n"
      ],
      "execution_count": 4,
      "outputs": []
    },
    {
      "cell_type": "code",
      "metadata": {
        "id": "Aq8WR83nGzjw"
      },
      "source": [
        "#preparing the data for the LSTM\n",
        "def prepare_data(df):\n",
        "  df_aux = df.drop(columns=['Wind_Speed','Wind_Direction','Visibility','Cloud_Cover','Relative_Humidity','Rain','Clear','Partially_cloudy',\n",
        "                            'confirmados_arsalentejo','confirmados_acores','confirmados_madeira','confirmados_novos','internados_uci','obitos_arsnorte',\n",
        "                                'obitos_arslvt','obitos_arsalentejo',\n",
        "       'obitos_arsalgarve', 'obitos_acores', 'obitos_madeira','ativos','confirmados_10_19','confirmados_70_79',\n",
        "       'confirmados_80_plus', 'obitos_0_9', 'obitos_10_19', 'obitos_20_29',\n",
        "       'obitos_30_39', 'obitos_40_49', 'obitos_50_59', 'obitos_60_69',\n",
        "       'obitos_70_79', 'obitos_80_plus', 'Max_Temp', 'Min_Temp', 'Temperature',\n",
        "       'Precipitation'], inplace=False)\n",
        "  df_aux = df_aux.set_index('Date')\n",
        "  return df_aux\n"
      ],
      "execution_count": 5,
      "outputs": []
    },
    {
      "cell_type": "code",
      "metadata": {
        "id": "NSkFYsxBGzhJ"
      },
      "source": [
        "\n",
        "def data_normalization(df, norm_range=(-1, 1)):\n",
        "#[-1, 1] for LSTM due to the internal use of tanh by the memory cell\n",
        "  scaler = MinMaxScaler(feature_range=norm_range)\n",
        "  df[['confirmados']] = scaler.fit_transform(df[['confirmados']])\n",
        "  df[['confirmados_arsnorte']] = scaler.fit_transform(df[['confirmados_arsnorte']])\n",
        "  df[['confirmados_arscentro']] = scaler.fit_transform(df[['confirmados_arscentro']])\n",
        "  df[['confirmados_arslvt']] = scaler.fit_transform(df[['confirmados_arslvt']])\n",
        "  df[['confirmados_arsalgarve']] = scaler.fit_transform(df[['confirmados_arsalgarve']])\n",
        "  df[['recuperados']] = scaler.fit_transform(df[['recuperados']])\n",
        "  df[['obitos_arscentro']] = scaler.fit_transform(df[['obitos_arscentro']])\n",
        "  df[['internados_enfermaria']] = scaler.fit_transform(df[['internados_enfermaria']])\n",
        "  df[['confirmados_0_9']] = scaler.fit_transform(df[['confirmados_0_9']])\n",
        "  df[['confirmados_20_29']] = scaler.fit_transform(df[['confirmados_20_29']])\n",
        "  df[['confirmados_30_39']] = scaler.fit_transform(df[['confirmados_30_39']])\n",
        "  df[['confirmados_40_49']] = scaler.fit_transform(df[['confirmados_40_49']])\n",
        "  df[['confirmados_50_59']] = scaler.fit_transform(df[['confirmados_50_59']])\n",
        "  df[['confirmados_60_69']] = scaler.fit_transform(df[['confirmados_60_69']])\n",
        "  df[['obitos']] = scaler.fit_transform(df[['obitos']])\n",
        "  return scaler\n",
        "\n"
      ],
      "execution_count": 6,
      "outputs": []
    },
    {
      "cell_type": "code",
      "metadata": {
        "id": "EvFxeqa-GzYx"
      },
      "source": [
        "#plot learning curve\n",
        "def plot_learning_curves(history, epochs):\n",
        "  #accuracies and losses\n",
        "  #dict_keys(['loss', 'mae', 'rmse', 'val_loss', 'val_mae', 'val_rmse'])\n",
        "  loss=history.history['loss']\n",
        "  val_loss=history.history['val_loss']\n",
        "  epochs_range = range(epochs)\n",
        "  #creating figure\n",
        "  plt.figure(figsize=(8,8))\n",
        "  plt.subplot(1,2,2)\n",
        "  plt.plot(epochs_range,loss,label='Training Loss')\n",
        "  plt.plot(epochs_range,val_loss,label='Validation Loss')\n",
        "  plt.legend(loc='upper right')\n",
        "  plt.title('Training/Validation Loss')\n",
        "  plt.show()\n"
      ],
      "execution_count": 7,
      "outputs": []
    },
    {
      "cell_type": "code",
      "metadata": {
        "id": "Jn07dHs2Gzeo"
      },
      "source": [
        "#Plot time series data\n",
        "def plot_confirmed_cases(data):\n",
        "  plt.figure(figsize=(8,6))\n",
        "  plt.plot(range(len(data)), data)\n",
        "  plt.title('Confirmed Deaths')\n",
        "  plt.ylabel('Óbitos')\n",
        "  plt.xlabel('Days')\n",
        "  plt.show()\n"
      ],
      "execution_count": 8,
      "outputs": []
    },
    {
      "cell_type": "code",
      "metadata": {
        "id": "n4IvSe24GzRB"
      },
      "source": [
        "#Preparing the dataset for the CNN\n",
        "def to_supervised(df, timesteps):\n",
        "  data = df.values\n",
        "  X,y = list(), list()\n",
        "  #iterate over the training set to create X and y\n",
        "  dataset_size = len(data)\n",
        "  for curr_pos in range(dataset_size):\n",
        "    #end of the input sequence is the current position + the number of the timesteps of the input sequence\n",
        "    input_index = curr_pos + timesteps\n",
        "    #end of the labels corresponds to the end of the input sequence + 1\n",
        "    label_index = input_index + 1\n",
        "    #if we have enough data for this sequence\n",
        "    if label_index < dataset_size:\n",
        "      X.append(data[curr_pos:input_index,:])\n",
        "      y.append(data[input_index:label_index,10])\n",
        "        #using np.flot32 for GPU performance\n",
        "  return np.array(X).astype('float32'), np.array(y).astype('float32')"
      ],
      "execution_count": 9,
      "outputs": []
    },
    {
      "cell_type": "code",
      "metadata": {
        "id": "xYrGYxS9HChC"
      },
      "source": [
        "#Building the model\n",
        "def rmse(y_true, y_pred):\n",
        "  return tf.keras.backend.sqrt(tf.keras.backend.mean(tf.keras.backend.square(y_pred - y_true)))\n"
      ],
      "execution_count": 10,
      "outputs": []
    },
    {
      "cell_type": "code",
      "metadata": {
        "id": "dhzJKkf0HCeq"
      },
      "source": [
        "def build_model(timesteps, features, filters= 16, kernel_size=5, pool_size =2 ):\n",
        "  #using the functional API\n",
        "  inputs = tf.keras.layers.Input(shape=(timesteps, features))\n",
        "  #microarchitecture\n",
        "  x = tf.keras.layers.Conv1D(filters=filters, kernel_size = kernel_size, activation='relu', data_format = 'channels_last')(inputs)\n",
        "  x = tf.keras.layers.AveragePooling1D(pool_size = pool_size, data_format = 'channels_first')(x)\n",
        "  #last layers\n",
        "  x = tf.keras.layers.Flatten()(x)\n",
        "  x = tf.keras.layers.Dense(filters)(x)\n",
        "  outputs = tf.keras.layers.Dense(1)(x)\n",
        "  #the model\n",
        "  cnnModel = tf.keras.Model(inputs=inputs, outputs=outputs, name='cnn_model')\n",
        "  tf.keras.utils.plot_model(cnnModel,'cnnmodel.png', show_shapes=True)\n",
        "  return cnnModel"
      ],
      "execution_count": 11,
      "outputs": []
    },
    {
      "cell_type": "code",
      "metadata": {
        "id": "rmXqliMFHCcR"
      },
      "source": [
        "def compile_and_fit(model, epochs, batch_size):\n",
        "  #compile\n",
        "  model.compile(loss=rmse, optimizer = tf.keras.optimizers.Adam(), metrics = ['mae',rmse])\n",
        "  #fit\n",
        "  hist_list = list()\n",
        "  loss_list = list()\n",
        "  #Time Series Cross Validator\n",
        "  tscv = TimeSeriesSplit(n_splits=cv_splits)\n",
        "  for train_index, test_index in tscv.split(X):\n",
        "    train_idx, val_idx = split_data(train_index, perc=10) #further split into training and validation sets\n",
        "    #build data\n",
        "    X_train, y_train = X[train_idx], y[train_idx]\n",
        "    X_val, y_val = X[val_idx], y[val_idx]\n",
        "    X_test, y_test = X[test_index], y[test_index]\n",
        "    history = model.fit(X_train, y_train, validation_data=(X_val, y_val), epochs=epochs, batch_size=batch_size,shuffle=False)\n",
        "    metrics = model.evaluate(X_test, y_test)\n",
        "\n",
        "    plot_learning_curves(history, epochs)\n",
        "    hist_list.append(history)\n",
        "\n",
        "  return model, hist_list"
      ],
      "execution_count": 12,
      "outputs": []
    },
    {
      "cell_type": "code",
      "metadata": {
        "id": "1qRDuAWIHCZy"
      },
      "source": [
        "def forecast(model, df, timesteps, multisteps, scaler):\n",
        "  input_seq = df[-timesteps:].values #getting the last sequence of known value\n",
        "  inp = input_seq\n",
        "  forecasts = list()\n",
        "  print(inp)\n",
        "  #multistep tells us how many iterations we want to perform\n",
        "  #i. e. how many days we want to predict\n",
        "  for step in range(1, multisteps+1):\n",
        "    #implement\n",
        "    inp = inp.reshape(1, timesteps, n_variate)\n",
        "    pred = model.predict(inp)\n",
        "    yhat_inversed = scaler.inverse_transform(pred)\n",
        "    forecasts.append(yhat_inversed)\n",
        "    print(step)\n",
        "            \n",
        "  return forecasts"
      ],
      "execution_count": 13,
      "outputs": []
    },
    {
      "cell_type": "code",
      "metadata": {
        "id": "V5cxiRFhHI2z"
      },
      "source": [
        "def plot_forecast(data, forecasts):\n",
        "  plt.figure(figsize=(8,6))\n",
        "  plt.plot(range(len(data)),data, color='green', label='Confirmed')\n",
        "  plt.plot(range(len(data)-1,len(data)+len(forecasts)-1), forecasts, color='red', label='Forecasts')\n",
        "    \n",
        "  plt.title('Deaths count')\n",
        "  plt.ylabel('Price')\n",
        "  plt.xlabel('Days')\n",
        "  plt.legend()\n",
        "  plt.show()"
      ],
      "execution_count": 14,
      "outputs": []
    },
    {
      "cell_type": "code",
      "metadata": {
        "colab": {
          "base_uri": "https://localhost:8080/",
          "height": 1000
        },
        "id": "e4XvximOHIxZ",
        "outputId": "d0a5a341-d442-44c5-84de-f4d6f954469f"
      },
      "source": [
        "################################\n",
        "################################\n",
        "########                ########\n",
        "######## Main Execution ########\n",
        "########                ########\n",
        "################################\n",
        "################################\n",
        "\n",
        "#Number os variables to use\n",
        "n_variate = 15\n",
        "#the dataframes\n",
        "path=r'daily_covid.csv'\n",
        "df_raw = load_dataset(path)\n",
        "df_data = prepare_data(df_raw)\n",
        "df = df_data.copy()\n",
        "\n",
        "print(df.columns)\n",
        "\n",
        "print(df.shape)\n",
        "\n",
        "scaler = data_normalization(df) #scaling data to [-1, 1]\n",
        "\n",
        "\n",
        "##Optimization\n",
        "\n",
        "tunning_dict = {\n",
        "                  1: {'timesteps' : 7, 'multisteps' : 1, 'cv_splits': 3, 'epochs' : 10,  'batch_size' : 5 }#,\n",
        "                  #2: {'timesteps' : 7, 'multisteps' : 1, 'cv_splits' : 3, 'epochs' : 50,  'batch_size' : 5 },\n",
        "                  #3: {'timesteps' : 7, 'multisteps' : 1, 'cv_splits' : 3, 'epochs' : 100,  'batch_size' : 5 },\n",
        "\n",
        "                  #\n",
        "                  #4: {'timesteps' : 8, 'multisteps' : 1, 'cv_splits': 3, 'epochs' : 60,  'batch_size' : 5 },\n",
        "                  #5: {'timesteps' : 8, 'multisteps' : 1, 'cv_splits' : 3, 'epochs' : 90,  'batch_size' : 5 },\n",
        "                  #6: {'timesteps' : 8, 'multisteps' : 1, 'cv_splits' : 3, 'epochs' : 120,  'batch_size' : 5 },\n",
        "                  #\n",
        "                  #7: {'timesteps' : 10, 'multisteps' : 1, 'cv_splits': 3, 'epochs' : 50,  'batch_size' : 8 },\n",
        "                  #8: {'timesteps' : 10, 'multisteps' : 1, 'cv_splits' : 3, 'epochs' : 90,  'batch_size' : 8 },\n",
        "                  #9: {'timesteps' : 10, 'multisteps' : 1, 'cv_splits' : 3, 'epochs' : 120,  'batch_size' : 8 }\n",
        "\n",
        "  }\n",
        "  # record da history de cada modelo\n",
        "record = {}\n",
        "\n",
        "#tunning the model cycle\n",
        "for t in tunning_dict:\n",
        "   # print(record[r])\n",
        "   # fitting the model\n",
        "   timesteps = tunning_dict[t]['timesteps']\n",
        "   epochs = tunning_dict[t]['epochs']\n",
        "   batch_size = tunning_dict[t]['batch_size']\n",
        "   multisteps = tunning_dict[t]['multisteps']\n",
        "   cv_splits = tunning_dict[t]['cv_splits']\n",
        "   # print(timesteps,epochs,batch_size,cv_splits)\n",
        "\n",
        "   X, y = to_supervised(df, timesteps)\n",
        "\n",
        "   model = build_model(timesteps, n_variate)\n",
        "   model, history = compile_and_fit(model, epochs, batch_size)\n",
        "   # print(\"df: \",df.shape,\" timesteps\",timesteps,\" multisteps \",multisteps)\n",
        "   forecasts = forecast(model, df, timesteps, multisteps, scaler)\n",
        "\n",
        "   print(forecasts)\n",
        "\n",
        "   prev = []\n",
        "\n",
        "   record[t] = history\n",
        "\n",
        "\n",
        "  #Put the resulting metrics in a file\n",
        "id_tunning = 1\n",
        "id_split = 1\n",
        "\n",
        "final_dict = {}\n",
        "\n",
        "for r in record:\n",
        "    # print(tunning_dict[1]['epochs'])\n",
        "    loss = []\n",
        "    mae = []\n",
        "    rmse = []\n",
        "    val_loss = []\n",
        "    val_mae = []\n",
        "    val_rmse = []\n",
        "\n",
        "    for h in record[r]:\n",
        "      # print(\"Tunning ID:  \",id_tunning,\" Split ID: \",id_split)\n",
        "      # plot_learning_curves(h, tunning_dict[id_tunning]['epochs'])\n",
        "      # ['loss', 'mae', 'rmse', 'val_loss', 'val_mae', 'val_rmse']\n",
        "      # print(\"loss: \",sum(h.history['loss'])/len(h.history['loss']),\" MAE: \",sum(h.history['mae'])/len(h.history['mae']),\" RMSE: \",sum(h.history['rmse'])/len(h.history['rmse']),\" VAL_LOSS: \",sum(h.history['val_loss'])/len(h.history['val_loss']),\" VAL_MAE: \",sum(h.history['val_mae'])/len(h.history['val_mae']),\" VAL_RMSE: \",sum(h.history['val_rmse'])/len(h.history['val_rmse']))\n",
        "      loss.append(sum(h.history['loss']) / len(h.history['loss']))\n",
        "      mae.append(sum(h.history['mae']) / len(h.history['mae']))\n",
        "      rmse.append(sum(h.history['rmse']) / len(h.history['rmse']))\n",
        "      val_loss.append(sum(h.history['val_loss']) / len(h.history['val_loss']))\n",
        "      val_mae.append(sum(h.history['val_mae']) / len(h.history['val_mae']))\n",
        "      val_rmse.append(sum(h.history['val_rmse']) / len(h.history['val_rmse']))\n",
        "      id_split += 1\n",
        "    id_split = 1\n",
        "\n",
        "    final_dict[id_tunning] = [sum(loss) / len(loss), sum(mae) / len(mae), sum(rmse) / len(rmse),\n",
        "                              sum(val_loss) / len(val_loss), sum(val_mae) / len(val_mae), sum(val_rmse) / len(val_rmse)]\n",
        "\n",
        "    id_tunning = id_tunning + 1\n",
        "\n",
        "\n"
      ],
      "execution_count": 15,
      "outputs": [
        {
          "output_type": "stream",
          "text": [
            "Index(['confirmados', 'confirmados_arsnorte', 'confirmados_arscentro',\n",
            "       'confirmados_arslvt', 'confirmados_arsalgarve', 'recuperados', 'obitos',\n",
            "       'obitos_arscentro', 'internados_enfermaria', 'confirmados_0_9',\n",
            "       'confirmados_20_29', 'confirmados_30_39', 'confirmados_40_49',\n",
            "       'confirmados_50_59', 'confirmados_60_69'],\n",
            "      dtype='object')\n",
            "(422, 15)\n",
            "Epoch 1/10\n",
            "19/19 [==============================] - 1s 30ms/step - loss: 0.5733 - mae: 0.5733 - rmse: 0.5730 - val_loss: 0.0956 - val_mae: 0.0956 - val_rmse: 0.0956\n",
            "Epoch 2/10\n",
            "19/19 [==============================] - 0s 3ms/step - loss: 0.1068 - mae: 0.1068 - rmse: 0.1068 - val_loss: 0.0693 - val_mae: 0.0693 - val_rmse: 0.0693\n",
            "Epoch 3/10\n",
            "19/19 [==============================] - 0s 4ms/step - loss: 0.0478 - mae: 0.0477 - rmse: 0.0478 - val_loss: 0.0490 - val_mae: 0.0490 - val_rmse: 0.0490\n",
            "Epoch 4/10\n",
            "19/19 [==============================] - 0s 4ms/step - loss: 0.0325 - mae: 0.0325 - rmse: 0.0325 - val_loss: 0.0041 - val_mae: 0.0041 - val_rmse: 0.0041\n",
            "Epoch 5/10\n",
            "19/19 [==============================] - 0s 4ms/step - loss: 0.0101 - mae: 0.0100 - rmse: 0.0101 - val_loss: 0.0036 - val_mae: 0.0036 - val_rmse: 0.0036\n",
            "Epoch 6/10\n",
            "19/19 [==============================] - 0s 3ms/step - loss: 0.0097 - mae: 0.0096 - rmse: 0.0097 - val_loss: 8.7182e-04 - val_mae: 7.3072e-04 - val_rmse: 8.7182e-04\n",
            "Epoch 7/10\n",
            "19/19 [==============================] - 0s 4ms/step - loss: 0.0054 - mae: 0.0053 - rmse: 0.0054 - val_loss: 0.0117 - val_mae: 0.0117 - val_rmse: 0.0117\n",
            "Epoch 8/10\n",
            "19/19 [==============================] - 0s 4ms/step - loss: 0.0105 - mae: 0.0105 - rmse: 0.0105 - val_loss: 0.0015 - val_mae: 0.0014 - val_rmse: 0.0015\n",
            "Epoch 9/10\n",
            "19/19 [==============================] - 0s 3ms/step - loss: 0.0084 - mae: 0.0083 - rmse: 0.0084 - val_loss: 0.0062 - val_mae: 0.0061 - val_rmse: 0.0062\n",
            "Epoch 10/10\n",
            "19/19 [==============================] - 0s 4ms/step - loss: 0.0126 - mae: 0.0126 - rmse: 0.0126 - val_loss: 0.0028 - val_mae: 0.0028 - val_rmse: 0.0028\n",
            "4/4 [==============================] - 0s 4ms/step - loss: 0.0246 - mae: 0.0242 - rmse: 0.0289\n"
          ],
          "name": "stdout"
        },
        {
          "output_type": "display_data",
          "data": {
            "image/png": "[encoded data removed]",
            "text/plain": [
              "<Figure size 576x576 with 1 Axes>"
            ]
          },
          "metadata": {
            "tags": [],
            "needs_background": "light"
          }
        },
        {
          "output_type": "stream",
          "text": [
            "Epoch 1/10\n",
            "38/38 [==============================] - 0s 3ms/step - loss: 0.0121 - mae: 0.0120 - rmse: 0.0121 - val_loss: 0.0043 - val_mae: 0.0041 - val_rmse: 0.0043\n",
            "Epoch 2/10\n",
            "38/38 [==============================] - 0s 2ms/step - loss: 0.0189 - mae: 0.0189 - rmse: 0.0187 - val_loss: 0.0041 - val_mae: 0.0039 - val_rmse: 0.0041\n",
            "Epoch 3/10\n",
            "38/38 [==============================] - 0s 2ms/step - loss: 0.0134 - mae: 0.0133 - rmse: 0.0132 - val_loss: 0.0127 - val_mae: 0.0126 - val_rmse: 0.0127\n",
            "Epoch 4/10\n",
            "38/38 [==============================] - 0s 2ms/step - loss: 0.0140 - mae: 0.0139 - rmse: 0.0141 - val_loss: 0.0131 - val_mae: 0.0130 - val_rmse: 0.0131\n",
            "Epoch 5/10\n",
            "38/38 [==============================] - 0s 2ms/step - loss: 0.0161 - mae: 0.0160 - rmse: 0.0160 - val_loss: 0.0053 - val_mae: 0.0051 - val_rmse: 0.0053\n",
            "Epoch 6/10\n",
            "38/38 [==============================] - 0s 2ms/step - loss: 0.0150 - mae: 0.0150 - rmse: 0.0150 - val_loss: 0.0225 - val_mae: 0.0225 - val_rmse: 0.0225\n",
            "Epoch 7/10\n",
            "38/38 [==============================] - 0s 2ms/step - loss: 0.0076 - mae: 0.0075 - rmse: 0.0075 - val_loss: 0.0044 - val_mae: 0.0043 - val_rmse: 0.0044\n",
            "Epoch 8/10\n",
            "38/38 [==============================] - 0s 2ms/step - loss: 0.0200 - mae: 0.0200 - rmse: 0.0199 - val_loss: 0.0048 - val_mae: 0.0047 - val_rmse: 0.0048\n",
            "Epoch 9/10\n",
            "38/38 [==============================] - 0s 2ms/step - loss: 0.0115 - mae: 0.0114 - rmse: 0.0114 - val_loss: 0.0093 - val_mae: 0.0092 - val_rmse: 0.0093\n",
            "Epoch 10/10\n",
            "38/38 [==============================] - 0s 2ms/step - loss: 0.0161 - mae: 0.0161 - rmse: 0.0162 - val_loss: 0.0079 - val_mae: 0.0078 - val_rmse: 0.0079\n",
            "4/4 [==============================] - 0s 3ms/step - loss: 0.1427 - mae: 0.1387 - rmse: 0.1807\n"
          ],
          "name": "stdout"
        },
        {
          "output_type": "display_data",
          "data": {
            "image/png": "[encoded data removed]",
            "text/plain": [
              "<Figure size 576x576 with 1 Axes>"
            ]
          },
          "metadata": {
            "tags": [],
            "needs_background": "light"
          }
        },
        {
          "output_type": "stream",
          "text": [
            "Epoch 1/10\n",
            "56/56 [==============================] - 0s 3ms/step - loss: 0.0180 - mae: 0.0177 - rmse: 0.0181 - val_loss: 0.1365 - val_mae: 0.1353 - val_rmse: 0.1600\n",
            "Epoch 2/10\n",
            "56/56 [==============================] - 0s 2ms/step - loss: 0.0469 - mae: 0.0467 - rmse: 0.0469 - val_loss: 0.1099 - val_mae: 0.1090 - val_rmse: 0.1255\n",
            "Epoch 3/10\n",
            "56/56 [==============================] - 0s 2ms/step - loss: 0.1137 - mae: 0.1136 - rmse: 0.1134 - val_loss: 0.1003 - val_mae: 0.0993 - val_rmse: 0.1151\n",
            "Epoch 4/10\n",
            "56/56 [==============================] - 0s 2ms/step - loss: 0.1094 - mae: 0.1093 - rmse: 0.1092 - val_loss: 0.0976 - val_mae: 0.0969 - val_rmse: 0.1110\n",
            "Epoch 5/10\n",
            "56/56 [==============================] - 0s 2ms/step - loss: 0.0876 - mae: 0.0875 - rmse: 0.0873 - val_loss: 0.0796 - val_mae: 0.0787 - val_rmse: 0.0933\n",
            "Epoch 6/10\n",
            "56/56 [==============================] - 0s 2ms/step - loss: 0.0634 - mae: 0.0632 - rmse: 0.0632 - val_loss: 0.0686 - val_mae: 0.0676 - val_rmse: 0.0817\n",
            "Epoch 7/10\n",
            "56/56 [==============================] - 0s 2ms/step - loss: 0.0538 - mae: 0.0537 - rmse: 0.0537 - val_loss: 0.0787 - val_mae: 0.0778 - val_rmse: 0.0919\n",
            "Epoch 8/10\n",
            "56/56 [==============================] - 0s 2ms/step - loss: 0.0616 - mae: 0.0614 - rmse: 0.0614 - val_loss: 0.0713 - val_mae: 0.0705 - val_rmse: 0.0853\n",
            "Epoch 9/10\n",
            "56/56 [==============================] - 0s 2ms/step - loss: 0.0929 - mae: 0.0929 - rmse: 0.0928 - val_loss: 0.0964 - val_mae: 0.0958 - val_rmse: 0.1090\n",
            "Epoch 10/10\n",
            "56/56 [==============================] - 0s 2ms/step - loss: 0.0587 - mae: 0.0584 - rmse: 0.0585 - val_loss: 0.0739 - val_mae: 0.0731 - val_rmse: 0.0870\n",
            "4/4 [==============================] - 0s 4ms/step - loss: 1.1151 - mae: 1.0985 - rmse: 1.1896\n"
          ],
          "name": "stdout"
        },
        {
          "output_type": "display_data",
          "data": {
            "image/png": "[encoded data removed]",
            "text/plain": [
              "<Figure size 576x576 with 1 Axes>"
            ]
          },
          "metadata": {
            "tags": [],
            "needs_background": "light"
          }
        },
        {
          "output_type": "stream",
          "text": [
            "[[ 0.9928442   0.99264009  0.99548582  0.99424     0.98379511  0.99099057\n",
            "   0.99775891  0.99734131 -0.89073951  0.99118372  0.992935    0.99131023\n",
            "   0.99336422  0.99397576  0.99318557]\n",
            " [ 0.99440263  0.99418262  0.99636499  0.99549604  0.98817229  0.99267668\n",
            "   0.99834867  0.99734131 -0.89606929  0.99260988  0.99468443  0.99328214\n",
            "   0.99469427  0.99541704  0.99464749]\n",
            " [ 0.99546159  0.99533653  0.99714271  0.99618749  0.99171129  0.9936752\n",
            "   0.99870252  0.99800598 -0.89373751  0.99433856  0.99582829  0.99480285\n",
            "   0.99543158  0.99634011  0.9955435 ]\n",
            " [ 0.99598987  0.99591648  0.99754848  0.99654273  0.99217695  0.99505796\n",
            "   0.99882048  0.99800598 -0.88607595  0.99403604  0.99587875  0.99557156\n",
            "   0.99612552  0.99682594  0.99627446]\n",
            " [ 0.99700801  0.99668774  0.99812332  0.99751331  0.99478463  0.99733812\n",
            "   0.99941024  0.99867065 -0.89473684  0.99503004  0.99707307  0.99680818\n",
            "   0.99720979  0.99742512  0.99717048]\n",
            " [ 0.99847279  0.9983917   0.99901939  0.99871225  0.99655413  0.99868296\n",
            "   0.99952819  0.99933533 -0.90439707  0.99745019  0.99899071  0.9981952\n",
            "   0.99861213  0.99885021  0.9983966 ]\n",
            " [ 1.          1.          1.          1.          1.          1.\n",
            "   1.          1.         -0.90306462  1.          1.          1.\n",
            "   1.          1.          1.        ]]\n",
            "1\n",
            "[array([[4194.859]], dtype=float32)]\n"
          ],
          "name": "stdout"
        }
      ]
    },
    {
      "cell_type": "code",
      "metadata": {
        "colab": {
          "base_uri": "https://localhost:8080/",
          "height": 151
        },
        "id": "rZv60QJ9QdKR",
        "outputId": "e4400bba-e7fc-4b98-a15f-6274a0effdda"
      },
      "source": [
        "for f in final_dict:\n",
        "    print(\"Loss | MAE | RMSE | VAL_LOSS | VAL_MAE | VAL_RMSE\")\n",
        "    print(\"ID tunning: \",f, \" Valores: \",final_dict[f],\"\\n\")\n",
        "\n",
        "final_df = pd.DataFrame.from_dict(final_dict, orient='index')\n",
        "final_df.columns = ['Loss','MAE','RMSE','VAL_LOSS','VAL_MAE','VAL_RMSE']\n",
        "final_df"
      ],
      "execution_count": 16,
      "outputs": [
        {
          "output_type": "stream",
          "text": [
            "Loss | MAE | RMSE | VAL_LOSS | VAL_MAE | VAL_RMSE\n",
            "ID tunning:  1  Valores:  [0.046027928994347656, 0.04593461924232543, 0.045845391880720864, 0.04153497147684296, 0.04118155845596145, 0.04643119771305162] \n",
            "\n"
          ],
          "name": "stdout"
        },
        {
          "output_type": "execute_result",
          "data": {
            "text/html": [
              "<div>\n",
              "<style scoped>\n",
              "    .dataframe tbody tr th:only-of-type {\n",
              "        vertical-align: middle;\n",
              "    }\n",
              "\n",
              "    .dataframe tbody tr th {\n",
              "        vertical-align: top;\n",
              "    }\n",
              "\n",
              "    .dataframe thead th {\n",
              "        text-align: right;\n",
              "    }\n",
              "</style>\n",
              "<table border=\"1\" class=\"dataframe\">\n",
              "  <thead>\n",
              "    <tr style=\"text-align: right;\">\n",
              "      <th></th>\n",
              "      <th>Loss</th>\n",
              "      <th>MAE</th>\n",
              "      <th>RMSE</th>\n",
              "      <th>VAL_LOSS</th>\n",
              "      <th>VAL_MAE</th>\n",
              "      <th>VAL_RMSE</th>\n",
              "    </tr>\n",
              "  </thead>\n",
              "  <tbody>\n",
              "    <tr>\n",
              "      <th>1</th>\n",
              "      <td>0.046028</td>\n",
              "      <td>0.045935</td>\n",
              "      <td>0.045845</td>\n",
              "      <td>0.041535</td>\n",
              "      <td>0.041182</td>\n",
              "      <td>0.046431</td>\n",
              "    </tr>\n",
              "  </tbody>\n",
              "</table>\n",
              "</div>"
            ],
            "text/plain": [
              "       Loss       MAE      RMSE  VAL_LOSS   VAL_MAE  VAL_RMSE\n",
              "1  0.046028  0.045935  0.045845  0.041535  0.041182  0.046431"
            ]
          },
          "metadata": {
            "tags": []
          },
          "execution_count": 16
        }
      ]
    },
    {
      "cell_type": "code",
      "metadata": {
        "id": "GucZeeiMQc8B"
      },
      "source": [
        "#Results metrics to a file\n",
        "final_df.to_csv(r\"resultados_cnn_covid.csv\",index=True)"
      ],
      "execution_count": 17,
      "outputs": []
    }
  ]
}