{
  "nbformat": 4,
  "nbformat_minor": 0,
  "metadata": {
    "colab": {
      "name": "LSTM_diabetes.ipynb",
      "provenance": []
    },
    "kernelspec": {
      "name": "python3",
      "display_name": "Python 3"
    },
    "language_info": {
      "name": "python"
    }
  },
  "cells": [
    {
      "cell_type": "code",
      "metadata": {
        "id": "tzswUEYGTvCB"
      },
      "source": [
        "import pandas as pd\n",
        "import numpy as np\n",
        "import tensorflow as tf\n",
        "from sklearn.preprocessing import MinMaxScaler\n",
        "from sklearn.model_selection import TimeSeriesSplit\n",
        "import matplotlib.pyplot as plt\n",
        "\n",
        "#for replicability purposes\n",
        "tf.random.set_seed(91195003)\n",
        "#for an easy reset backend session state\n",
        "tf.keras.backend.clear_session()"
      ],
      "execution_count": null,
      "outputs": []
    },
    {
      "cell_type": "code",
      "metadata": {
        "id": "2WwKeV4zU4Sr"
      },
      "source": [
        "#Load dataset\n",
        "def load_dataset(path):\n",
        "  return pd.read_csv(path)"
      ],
      "execution_count": null,
      "outputs": []
    },
    {
      "cell_type": "code",
      "metadata": {
        "id": "hpdMiB0QU7VW"
      },
      "source": [
        "#split data into training and validation sets\n",
        "def split_data(training, perc=10):\n",
        "  train_idx = np.arange(0, int(len(training)*(100-perc)/100))\n",
        "  val_idx = np.arange(int(len(training)*(100-perc)/100+1), len(training))\n",
        "  return train_idx, val_idx"
      ],
      "execution_count": null,
      "outputs": []
    },
    {
      "cell_type": "code",
      "metadata": {
        "id": "gDDJXtDxU7Sh"
      },
      "source": [
        "# Prepare data to be predicted\n",
        "def prepare_data(df):\n",
        "  df_aux = df.copy()\n",
        "  df_aux = df_aux.set_index('Date')\n",
        "  return df_aux"
      ],
      "execution_count": null,
      "outputs": []
    },
    {
      "cell_type": "code",
      "metadata": {
        "id": "loVkFZLOU7P8"
      },
      "source": [
        "\n",
        "#Normalize the data\n",
        "def data_normalization(df, norm_range=(-1, 1)):\n",
        "  #[-1, 1] for LSTM due to the internal use of tanh by the memory cell\n",
        "  scaler = MinMaxScaler(feature_range=norm_range)\n",
        "  df[['All_Causes']] = scaler.fit_transform(df[['All_Causes']])\n",
        "  df[['Diabetes']] = scaler.fit_transform(df[['Diabetes']])\n",
        "  df[['Ozone']] = scaler.fit_transform(df[['Ozone']])\n",
        "  df[['Temperature']] = scaler.fit_transform(df[['Temperature']])\n",
        "\n",
        "  return scaler"
      ],
      "execution_count": null,
      "outputs": []
    },
    {
      "cell_type": "code",
      "metadata": {
        "id": "Ii43y3UiU7NM"
      },
      "source": [
        "#plot learning curve\n",
        "def plot_learning_curves(history, epochs):\n",
        "  loss=history.history['loss']\n",
        "  val_loss=history.history['val_loss']\n",
        "  epochs_range = range(epochs)\n",
        "  #creating figure\n",
        "  plt.figure(figsize=(8,8))\n",
        "  plt.subplot(1,2,2)\n",
        "  plt.plot(epochs_range,loss,label='Training Loss')\n",
        "  plt.plot(epochs_range,val_loss,label='Validation Loss')\n",
        "  plt.legend(loc='upper right')\n",
        "  plt.title('Training/Validation Loss')\n",
        "  plt.show()"
      ],
      "execution_count": null,
      "outputs": []
    },
    {
      "cell_type": "code",
      "metadata": {
        "id": "u5ttgH3aU7K0"
      },
      "source": [
        "#Plot time series data\n",
        "def plot_confirmed_cases(data):\n",
        "  plt.figure(figsize=(8,6))\n",
        "  plt.plot(range(len(data)), data)\n",
        "  plt.title('Confirmed Deaths')\n",
        "  plt.ylabel('Óbitos')\n",
        "  plt.xlabel('Days')\n",
        "  plt.show()"
      ],
      "execution_count": null,
      "outputs": []
    },
    {
      "cell_type": "code",
      "metadata": {
        "id": "36GmcfcTU7IE"
      },
      "source": [
        "#Preparing the dataset for the LSTM\n",
        "def to_supervised(df, timesteps):\n",
        "  data = df.values\n",
        "  X, y = list(), list()\n",
        "  #iterate over the training set to create X and y\n",
        "  dataset_size = len(data)\n",
        "  for curr_pos in range(dataset_size):\n",
        "    #end of the input sequence is the current position + the number of timesteps of the input sequence\n",
        "    input_index = curr_pos + timesteps\n",
        "    #end of the labels corresponds to the end of the input sequence + 1\n",
        "    label_index = input_index + 1\n",
        "    #if we have enough data for this sequence\n",
        "    if label_index < dataset_size:\n",
        "      X.append(data[curr_pos:input_index, :])\n",
        "      y.append(data[input_index:label_index, 1])\n",
        "  #using np.float32 for GPU performance\n",
        "  return np.array(X).astype('float32'), np.array(y).astype('float32')"
      ],
      "execution_count": null,
      "outputs": []
    },
    {
      "cell_type": "code",
      "metadata": {
        "id": "V_vdk9_mU7DN"
      },
      "source": [
        "#Building the model\n",
        "def rmse(y_true, y_pred):\n",
        "  return tf.keras.backend.sqrt(tf.keras.backend.mean(tf.keras.backend.square(y_pred - y_true)))\n",
        "\n",
        "def build_model(timesteps, features, h_neurons=64, activation='tanh'):\n",
        "  model = tf.keras.models.Sequential()\n",
        "  model.add(tf.keras.layers.LSTM(h_neurons, activation=activation, input_shape=(timesteps, features), return_sequences=True))\n",
        "  #Add a new layer\n",
        "  model.add(tf.keras.layers.LSTM(32, activation=activation ,return_sequences=False))\n",
        "  #\n",
        "  model.add(tf.keras.layers.Dense(h_neurons, activation=activation))\n",
        "  model.add(tf.keras.layers.Dense(1, activation='linear'))\n",
        "  #model summary (and save it as PNG)\n",
        "  tf.keras.utils.plot_model(model, 'covid_model.png', show_shapes=True)\n",
        "  return model"
      ],
      "execution_count": null,
      "outputs": []
    },
    {
      "cell_type": "code",
      "metadata": {
        "id": "UJZzLdTpU7At"
      },
      "source": [
        "#Compiling and fit the model\n",
        "def compile_and_fit(model, epochs, batch_size):\n",
        "  #compile\n",
        "  model.compile(loss = rmse, optimizer = tf.keras.optimizers.Adam(), metrics = ['mae', rmse])\n",
        "  #fit\n",
        "  hist_list = list()\n",
        "  loss_list = list()\n",
        "\n",
        "  #callback\n",
        "  #saving in Keras HDF5 (or h5), a binary data format\n",
        "  callbacks = [tf.keras.callbacks.ModelCheckpoint(\n",
        "        filepath='my_model_{epoch}_{val_loss:.3f}.h5',#path where to save model\n",
        "        save_best_only=True,#overwrite the current checkpoint if and only if\n",
        "        monitor='val_loss',#the val_loss score has improved\n",
        "        save_weights_only=False,#if True, only the weigths are saved\n",
        "        verbose=1,#verbosity mode\n",
        "        period=5 #save ony at the fifth epoch (5 em 5 epocas)\n",
        "        )#,\n",
        "    #interrupt training if loss stops improving for over 2 epochs\n",
        "    #tf.keras.callbacks.EarlyStopping(patience=9, monitor='cost')\n",
        "    ]\n",
        "\n",
        "  #Time Series Cross Validator\n",
        "  tscv = TimeSeriesSplit(n_splits=cv_splits)\n",
        "  for train_index, test_index in tscv.split(X):\n",
        "    train_idx, val_idx = split_data(train_index, perc=10) #further split into training and validation sets\n",
        "    #build data\n",
        "    X_train, y_train = X[train_idx], y[train_idx]\n",
        "    X_val, y_val = X[val_idx], y[val_idx]\n",
        "    X_test, y_test = X[test_index], y[test_index]\n",
        "\n",
        "    #print(\"x_val::::\",X_val,\"\\n\",\"y_val:\",y_val,\"\\n\")\n",
        "\n",
        "    history = model.fit(X_train, y_train, validation_data=(X_val, y_val),epochs=epochs, batch_size=batch_size, shuffle=False, callbacks=callbacks)\n",
        "    metrics = model.evaluate(X_test, y_test)\n",
        "\n",
        "\n",
        "    plot_learning_curves(history, epochs)\n",
        "    hist_list.append(history)\n",
        "\n",
        "\n",
        "  return model, hist_list"
      ],
      "execution_count": null,
      "outputs": []
    },
    {
      "cell_type": "code",
      "metadata": {
        "id": "pGU472BXU69z"
      },
      "source": [
        "  # Recursive Multi-Step Forecast!!!\n",
        "def forecast(model, df, timesteps, multisteps, scaler):\n",
        "    input_seq = np.array(df[-timesteps:].values)  # getting the last sequence of known value\n",
        "    inp = input_seq\n",
        "    # print(\"Input_seq: \",inp)\n",
        "    forecasts = list()\n",
        "\n",
        "    # multisteps tells us how many iterations we want to perform, i.e., how many days we want to predict\n",
        "    for step in range(1, multisteps + 1):\n",
        "      inp = inp.reshape(1, timesteps, n_variate)\n",
        "      yhat = model.predict(inp)  # dá o valor predito normalizado\n",
        "      yhat_desnormalized = scaler.inverse_transform(yhat)  # dá valor predito desnormalizado\n",
        "      forecasts.append(yhat_desnormalized)  # adicionar previsao à lista final de previsões\n",
        "\n",
        "    return forecasts"
      ],
      "execution_count": null,
      "outputs": []
    },
    {
      "cell_type": "code",
      "metadata": {
        "id": "PfvXGxIUU64L"
      },
      "source": [
        "def plot_forecast(data, forecasts):\n",
        "\n",
        "    plt.figure(figsize=(8, 6))\n",
        "    plt.plot(range(len(data)), data['obitos'], color='green', label='True value')\n",
        "    plt.plot(range(len(data) - 1, len(data) + len(forecasts) - 1), forecasts, color='red', label='Forecasts')\n",
        "    plt.title('Number of deaths')\n",
        "    plt.ylabel('Value')\n",
        "    plt.xlabel('Days')\n",
        "    plt.legend()\n",
        "    plt.show()"
      ],
      "execution_count": null,
      "outputs": []
    },
    {
      "cell_type": "code",
      "metadata": {
        "colab": {
          "base_uri": "https://localhost:8080/",
          "height": 1000
        },
        "id": "PCGWbOG7VT5c",
        "outputId": "6e93459b-b7e4-4d14-d0b1-bcc26da7ae1f"
      },
      "source": [
        "################################\n",
        "################################\n",
        "########                ########\n",
        "######## Main Execution ########\n",
        "########                ########\n",
        "################################\n",
        "################################\n",
        "\n",
        "#Number os variables to use\n",
        "n_variate = 4\n",
        "#the dataframes\n",
        "path=r'daily_diabetes.csv'\n",
        "df_raw = load_dataset(path)\n",
        "df_data = prepare_data(df_raw)\n",
        "df = df_data.copy()\n",
        "\n",
        "print(df.columns)\n",
        "\n",
        "print(df.shape)\n",
        "\n",
        "scaler = data_normalization(df) #scaling data to [-1, 1]\n",
        "\n",
        "\n",
        "##Optimization\n",
        "\n",
        "tunning_dict = {\n",
        "                  1: {'timesteps' : 7, 'multisteps' : 1, 'cv_splits': 3, 'epochs' : 10,  'batch_size' : 5 }#,\n",
        "                  #2: {'timesteps' : 7, 'multisteps' : 1, 'cv_splits' : 3, 'epochs' : 50,  'batch_size' : 5 },\n",
        "                  #3: {'timesteps' : 7, 'multisteps' : 1, 'cv_splits' : 3, 'epochs' : 100,  'batch_size' : 5 },\n",
        "\n",
        "                  #\n",
        "                  #4: {'timesteps' : 8, 'multisteps' : 1, 'cv_splits': 3, 'epochs' : 60,  'batch_size' : 5 },\n",
        "                  #5: {'timesteps' : 8, 'multisteps' : 1, 'cv_splits' : 3, 'epochs' : 90,  'batch_size' : 5 },\n",
        "                  #6: {'timesteps' : 8, 'multisteps' : 1, 'cv_splits' : 3, 'epochs' : 120,  'batch_size' : 5 },\n",
        "                  #\n",
        "                  #7: {'timesteps' : 10, 'multisteps' : 1, 'cv_splits': 3, 'epochs' : 50,  'batch_size' : 8 },\n",
        "                  #8: {'timesteps' : 10, 'multisteps' : 1, 'cv_splits' : 3, 'epochs' : 90,  'batch_size' : 8 },\n",
        "                  #9: {'timesteps' : 10, 'multisteps' : 1, 'cv_splits' : 3, 'epochs' : 120,  'batch_size' : 8 }\n",
        "\n",
        "  }\n",
        "  # record da history de cada modelo\n",
        "record = {}\n",
        "\n",
        "#tunning the model cycle\n",
        "for t in tunning_dict:\n",
        "   # print(record[r])\n",
        "   # fitting the model\n",
        "   timesteps = tunning_dict[t]['timesteps']\n",
        "   epochs = tunning_dict[t]['epochs']\n",
        "   batch_size = tunning_dict[t]['batch_size']\n",
        "   multisteps = tunning_dict[t]['multisteps']\n",
        "   cv_splits = tunning_dict[t]['cv_splits']\n",
        "   # print(timesteps,epochs,batch_size,cv_splits)\n",
        "\n",
        "   X, y = to_supervised(df, timesteps)\n",
        "\n",
        "   model = build_model(timesteps, n_variate)\n",
        "   model, history = compile_and_fit(model, epochs, batch_size)\n",
        "   # print(\"df: \",df.shape,\" timesteps\",timesteps,\" multisteps \",multisteps)\n",
        "   forecasts = forecast(model, df, timesteps, multisteps, scaler)\n",
        "\n",
        "   print(forecasts)\n",
        "\n",
        "   prev = []\n",
        "\n",
        "    # plot do valor previsto da ação de Open\n",
        "    #for f in forecasts:\n",
        "    #  prev.append(f[0][0])\n",
        "\n",
        "    #print(prev)\n",
        "    #plot_forecast(df_raw, prev)\n",
        "\n",
        "\n",
        "   record[t] = history\n",
        "\n",
        "\n",
        "  #Put the resulting metrics in a file\n",
        "id_tunning = 1\n",
        "id_split = 1\n",
        "\n",
        "final_dict = {}\n",
        "\n",
        "for r in record:\n",
        "    # print(tunning_dict[1]['epochs'])\n",
        "    loss = []\n",
        "    mae = []\n",
        "    rmse = []\n",
        "    val_loss = []\n",
        "    val_mae = []\n",
        "    val_rmse = []\n",
        "\n",
        "    for h in record[r]:\n",
        "      # print(\"Tunning ID:  \",id_tunning,\" Split ID: \",id_split)\n",
        "      # plot_learning_curves(h, tunning_dict[id_tunning]['epochs'])\n",
        "      # ['loss', 'mae', 'rmse', 'val_loss', 'val_mae', 'val_rmse']\n",
        "      # print(\"loss: \",sum(h.history['loss'])/len(h.history['loss']),\" MAE: \",sum(h.history['mae'])/len(h.history['mae']),\" RMSE: \",sum(h.history['rmse'])/len(h.history['rmse']),\" VAL_LOSS: \",sum(h.history['val_loss'])/len(h.history['val_loss']),\" VAL_MAE: \",sum(h.history['val_mae'])/len(h.history['val_mae']),\" VAL_RMSE: \",sum(h.history['val_rmse'])/len(h.history['val_rmse']))\n",
        "      loss.append(sum(h.history['loss']) / len(h.history['loss']))\n",
        "      mae.append(sum(h.history['mae']) / len(h.history['mae']))\n",
        "      rmse.append(sum(h.history['rmse']) / len(h.history['rmse']))\n",
        "      val_loss.append(sum(h.history['val_loss']) / len(h.history['val_loss']))\n",
        "      val_mae.append(sum(h.history['val_mae']) / len(h.history['val_mae']))\n",
        "      val_rmse.append(sum(h.history['val_rmse']) / len(h.history['val_rmse']))\n",
        "      id_split += 1\n",
        "    id_split = 1\n",
        "\n",
        "    final_dict[id_tunning] = [sum(loss) / len(loss), sum(mae) / len(mae), sum(rmse) / len(rmse),\n",
        "                              sum(val_loss) / len(val_loss), sum(val_mae) / len(val_mae), sum(val_rmse) / len(val_rmse)]\n",
        "\n",
        "    id_tunning = id_tunning + 1\n",
        "\n",
        "\n"
      ],
      "execution_count": null,
      "outputs": [
        {
          "output_type": "stream",
          "text": [
            "Index(['All_Causes', 'Diabetes', 'Ozone', 'Temperature'], dtype='object')\n",
            "(365, 4)\n",
            "WARNING:tensorflow:`period` argument is deprecated. Please use `save_freq` to specify the frequency in number of batches seen.\n",
            "Epoch 1/10\n",
            "17/17 [==============================] - 4s 60ms/step - loss: 0.3542 - mae: 0.2846 - rmse: 0.3556 - val_loss: 0.3222 - val_mae: 0.2639 - val_rmse: 0.3288\n",
            "Epoch 2/10\n",
            "17/17 [==============================] - 0s 10ms/step - loss: 0.3470 - mae: 0.2785 - rmse: 0.3486 - val_loss: 0.3229 - val_mae: 0.2775 - val_rmse: 0.3308\n",
            "Epoch 3/10\n",
            "17/17 [==============================] - 0s 11ms/step - loss: 0.3440 - mae: 0.2786 - rmse: 0.3453 - val_loss: 0.3240 - val_mae: 0.2615 - val_rmse: 0.3306\n",
            "Epoch 4/10\n",
            "17/17 [==============================] - 0s 11ms/step - loss: 0.3419 - mae: 0.2775 - rmse: 0.3433 - val_loss: 0.3219 - val_mae: 0.2712 - val_rmse: 0.3294\n",
            "Epoch 5/10\n",
            "17/17 [==============================] - 0s 11ms/step - loss: 0.3408 - mae: 0.2771 - rmse: 0.3422 - val_loss: 0.3227 - val_mae: 0.2649 - val_rmse: 0.3297\n",
            "\n",
            "Epoch 00005: val_loss improved from inf to 0.32269, saving model to my_model_5_0.323.h5\n",
            "Epoch 6/10\n",
            "17/17 [==============================] - 0s 11ms/step - loss: 0.3398 - mae: 0.2763 - rmse: 0.3412 - val_loss: 0.3217 - val_mae: 0.2695 - val_rmse: 0.3291\n",
            "Epoch 7/10\n",
            "17/17 [==============================] - 0s 11ms/step - loss: 0.3391 - mae: 0.2764 - rmse: 0.3405 - val_loss: 0.3219 - val_mae: 0.2663 - val_rmse: 0.3290\n",
            "Epoch 8/10\n",
            "17/17 [==============================] - 0s 11ms/step - loss: 0.3381 - mae: 0.2754 - rmse: 0.3395 - val_loss: 0.3210 - val_mae: 0.2690 - val_rmse: 0.3283\n",
            "Epoch 9/10\n",
            "17/17 [==============================] - 0s 11ms/step - loss: 0.3377 - mae: 0.2757 - rmse: 0.3390 - val_loss: 0.3208 - val_mae: 0.2664 - val_rmse: 0.3279\n",
            "Epoch 10/10\n",
            "17/17 [==============================] - 0s 11ms/step - loss: 0.3365 - mae: 0.2752 - rmse: 0.3380 - val_loss: 0.3198 - val_mae: 0.2682 - val_rmse: 0.3267\n",
            "\n",
            "Epoch 00010: val_loss improved from 0.32269 to 0.31984, saving model to my_model_10_0.320.h5\n",
            "3/3 [==============================] - 0s 7ms/step - loss: 0.3276 - mae: 0.2541 - rmse: 0.3271\n"
          ],
          "name": "stdout"
        },
        {
          "output_type": "display_data",
          "data": {
            "image/png": "[encoded data removed]",
            "text/plain": [
              "<Figure size 576x576 with 1 Axes>"
            ]
          },
          "metadata": {
            "tags": [],
            "needs_background": "light"
          }
        },
        {
          "output_type": "stream",
          "text": [
            "Epoch 1/10\n",
            "33/33 [==============================] - 0s 11ms/step - loss: 0.3207 - mae: 0.2659 - rmse: 0.3196 - val_loss: 0.2828 - val_mae: 0.2286 - val_rmse: 0.3186\n",
            "Epoch 2/10\n",
            "33/33 [==============================] - 0s 9ms/step - loss: 0.3147 - mae: 0.2594 - rmse: 0.3110 - val_loss: 0.2374 - val_mae: 0.1903 - val_rmse: 0.2684\n",
            "Epoch 3/10\n",
            "33/33 [==============================] - 0s 9ms/step - loss: 0.3359 - mae: 0.2781 - rmse: 0.3324 - val_loss: 0.2457 - val_mae: 0.2012 - val_rmse: 0.2757\n",
            "Epoch 4/10\n",
            "33/33 [==============================] - 0s 9ms/step - loss: 0.3116 - mae: 0.2540 - rmse: 0.3069 - val_loss: 0.2435 - val_mae: 0.1991 - val_rmse: 0.2744\n",
            "Epoch 5/10\n",
            "33/33 [==============================] - 0s 9ms/step - loss: 0.3079 - mae: 0.2522 - rmse: 0.3026 - val_loss: 0.2389 - val_mae: 0.1962 - val_rmse: 0.2693\n",
            "\n",
            "Epoch 00005: val_loss improved from 0.31984 to 0.23894, saving model to my_model_5_0.239.h5\n",
            "Epoch 6/10\n",
            "33/33 [==============================] - 0s 9ms/step - loss: 0.3160 - mae: 0.2604 - rmse: 0.3091 - val_loss: 0.2418 - val_mae: 0.2056 - val_rmse: 0.2707\n",
            "Epoch 7/10\n",
            "33/33 [==============================] - 0s 9ms/step - loss: 0.3077 - mae: 0.2542 - rmse: 0.3004 - val_loss: 0.2407 - val_mae: 0.1959 - val_rmse: 0.2727\n",
            "Epoch 8/10\n",
            "33/33 [==============================] - 0s 10ms/step - loss: 0.3148 - mae: 0.2633 - rmse: 0.3118 - val_loss: 0.2483 - val_mae: 0.1999 - val_rmse: 0.2805\n",
            "Epoch 9/10\n",
            "33/33 [==============================] - 0s 9ms/step - loss: 0.3166 - mae: 0.2574 - rmse: 0.3113 - val_loss: 0.2406 - val_mae: 0.1988 - val_rmse: 0.2712\n",
            "Epoch 10/10\n",
            "33/33 [==============================] - 0s 9ms/step - loss: 0.3054 - mae: 0.2515 - rmse: 0.2985 - val_loss: 0.2386 - val_mae: 0.1994 - val_rmse: 0.2686\n",
            "\n",
            "Epoch 00010: val_loss improved from 0.23894 to 0.23861, saving model to my_model_10_0.239.h5\n",
            "3/3 [==============================] - 0s 6ms/step - loss: 0.3676 - mae: 0.2881 - rmse: 0.3672\n"
          ],
          "name": "stdout"
        },
        {
          "output_type": "display_data",
          "data": {
            "image/png": "[encoded data removed]",
            "text/plain": [
              "<Figure size 576x576 with 1 Axes>"
            ]
          },
          "metadata": {
            "tags": [],
            "needs_background": "light"
          }
        },
        {
          "output_type": "stream",
          "text": [
            "Epoch 1/10\n",
            "49/49 [==============================] - 0s 10ms/step - loss: 0.3135 - mae: 0.2609 - rmse: 0.3168 - val_loss: 0.3434 - val_mae: 0.2818 - val_rmse: 0.3110\n",
            "Epoch 2/10\n",
            "49/49 [==============================] - 0s 8ms/step - loss: 0.3112 - mae: 0.2577 - rmse: 0.3144 - val_loss: 0.3457 - val_mae: 0.2862 - val_rmse: 0.3165\n",
            "Epoch 3/10\n",
            "49/49 [==============================] - 0s 8ms/step - loss: 0.3088 - mae: 0.2555 - rmse: 0.3116 - val_loss: 0.3407 - val_mae: 0.2819 - val_rmse: 0.3089\n",
            "Epoch 4/10\n",
            "49/49 [==============================] - 0s 8ms/step - loss: 0.3095 - mae: 0.2568 - rmse: 0.3122 - val_loss: 0.3410 - val_mae: 0.2832 - val_rmse: 0.3111\n",
            "Epoch 5/10\n",
            "49/49 [==============================] - 0s 9ms/step - loss: 0.3084 - mae: 0.2557 - rmse: 0.3108 - val_loss: 0.3390 - val_mae: 0.2817 - val_rmse: 0.3093\n",
            "\n",
            "Epoch 00005: val_loss did not improve from 0.23861\n",
            "Epoch 6/10\n",
            "49/49 [==============================] - 0s 9ms/step - loss: 0.3085 - mae: 0.2556 - rmse: 0.3106 - val_loss: 0.3385 - val_mae: 0.2815 - val_rmse: 0.3095\n",
            "Epoch 7/10\n",
            "49/49 [==============================] - 0s 9ms/step - loss: 0.3080 - mae: 0.2551 - rmse: 0.3100 - val_loss: 0.3379 - val_mae: 0.2814 - val_rmse: 0.3101\n",
            "Epoch 8/10\n",
            "49/49 [==============================] - 0s 9ms/step - loss: 0.3077 - mae: 0.2548 - rmse: 0.3094 - val_loss: 0.3381 - val_mae: 0.2819 - val_rmse: 0.3120\n",
            "Epoch 9/10\n",
            "49/49 [==============================] - 0s 8ms/step - loss: 0.3072 - mae: 0.2544 - rmse: 0.3088 - val_loss: 0.3390 - val_mae: 0.2826 - val_rmse: 0.3158\n",
            "Epoch 10/10\n",
            "49/49 [==============================] - 0s 9ms/step - loss: 0.3067 - mae: 0.2540 - rmse: 0.3081 - val_loss: 0.3414 - val_mae: 0.2852 - val_rmse: 0.3233\n",
            "\n",
            "Epoch 00010: val_loss did not improve from 0.23861\n",
            "3/3 [==============================] - 0s 5ms/step - loss: 0.3867 - mae: 0.3143 - rmse: 0.3932\n"
          ],
          "name": "stdout"
        },
        {
          "output_type": "display_data",
          "data": {
            "image/png": "[encoded data removed]",
            "text/plain": [
              "<Figure size 576x576 with 1 Axes>"
            ]
          },
          "metadata": {
            "tags": [],
            "needs_background": "light"
          }
        },
        {
          "output_type": "stream",
          "text": [
            "[array([[13.317706]], dtype=float32)]\n"
          ],
          "name": "stdout"
        }
      ]
    },
    {
      "cell_type": "code",
      "metadata": {
        "colab": {
          "base_uri": "https://localhost:8080/",
          "height": 151
        },
        "id": "SeBVe4pbWKQU",
        "outputId": "81195c6e-779b-4b1b-88a4-d1b10f90cdcb"
      },
      "source": [
        "for f in final_dict:\n",
        "    print(\"Loss | MAE | RMSE | VAL_LOSS | VAL_MAE | VAL_RMSE\")\n",
        "    print(\"ID tunning: \",f, \" Valores: \",final_dict[f],\"\\n\")\n",
        "\n",
        "final_df = pd.DataFrame.from_dict(final_dict, orient='index')\n",
        "final_df.columns = ['Loss','MAE','RMSE','VAL_LOSS','VAL_MAE','VAL_RMSE']\n",
        "final_df"
      ],
      "execution_count": null,
      "outputs": [
        {
          "output_type": "stream",
          "text": [
            "Loss | MAE | RMSE | VAL_LOSS | VAL_MAE | VAL_RMSE\n",
            "ID tunning:  1  Valores:  [0.3121054192384084, 0.2577810873587926, 0.3154854704936345, 0.30273968279361724, 0.2506869296232859, 0.30626534521579746] \n",
            "\n"
          ],
          "name": "stdout"
        },
        {
          "output_type": "execute_result",
          "data": {
            "text/html": [
              "<div>\n",
              "<style scoped>\n",
              "    .dataframe tbody tr th:only-of-type {\n",
              "        vertical-align: middle;\n",
              "    }\n",
              "\n",
              "    .dataframe tbody tr th {\n",
              "        vertical-align: top;\n",
              "    }\n",
              "\n",
              "    .dataframe thead th {\n",
              "        text-align: right;\n",
              "    }\n",
              "</style>\n",
              "<table border=\"1\" class=\"dataframe\">\n",
              "  <thead>\n",
              "    <tr style=\"text-align: right;\">\n",
              "      <th></th>\n",
              "      <th>Loss</th>\n",
              "      <th>MAE</th>\n",
              "      <th>RMSE</th>\n",
              "      <th>VAL_LOSS</th>\n",
              "      <th>VAL_MAE</th>\n",
              "      <th>VAL_RMSE</th>\n",
              "    </tr>\n",
              "  </thead>\n",
              "  <tbody>\n",
              "    <tr>\n",
              "      <th>1</th>\n",
              "      <td>0.312105</td>\n",
              "      <td>0.257781</td>\n",
              "      <td>0.315485</td>\n",
              "      <td>0.30274</td>\n",
              "      <td>0.250687</td>\n",
              "      <td>0.306265</td>\n",
              "    </tr>\n",
              "  </tbody>\n",
              "</table>\n",
              "</div>"
            ],
            "text/plain": [
              "       Loss       MAE      RMSE  VAL_LOSS   VAL_MAE  VAL_RMSE\n",
              "1  0.312105  0.257781  0.315485   0.30274  0.250687  0.306265"
            ]
          },
          "metadata": {
            "tags": []
          },
          "execution_count": 53
        }
      ]
    },
    {
      "cell_type": "code",
      "metadata": {
        "id": "m6tp64P9VT26"
      },
      "source": [
        "#Results metrics to a file\n",
        "final_df.to_csv(r\"resultados_lstm_diabetes.csv\",index=True)"
      ],
      "execution_count": null,
      "outputs": []
    },
    {
      "cell_type": "code",
      "metadata": {
        "id": "Y9csqBuMVT0T"
      },
      "source": [
        ""
      ],
      "execution_count": null,
      "outputs": []
    }
  ]
}