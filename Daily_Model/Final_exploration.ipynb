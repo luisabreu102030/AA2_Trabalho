{
 "cells": [
  {
   "cell_type": "markdown",
   "metadata": {
    "id": "tHbZO5su36o7"
   },
   "source": [
    "# Covid data exploration\n",
    "\n"
   ]
  },
  {
   "cell_type": "code",
   "execution_count": 1,
   "metadata": {
    "id": "94VMwh7D4BHp"
   },
   "outputs": [],
   "source": [
    "import pandas as pd\n",
    "import numpy as np\n",
    "import matplotlib.pyplot as plt\n",
    "from sklearn import preprocessing\n",
    "from sklearn.model_selection import train_test_split\n",
    "from sklearn.tree import DecisionTreeClassifier\n",
    "from sklearn.linear_model import LogisticRegression\n",
    "from sklearn.metrics import classification_report, confusion_matrix\n",
    "from sklearn import metrics\n",
    "from sklearn.feature_selection import SelectKBest, chi2, f_regression\n",
    "import seaborn as sns\n",
    "from sklearn.feature_selection import RFE\n",
    "from sklearn.ensemble import RandomForestRegressor\n",
    "from matplotlib import pyplot"
   ]
  },
  {
   "cell_type": "code",
   "execution_count": 2,
   "metadata": {
    "colab": {
     "base_uri": "https://localhost:8080/"
    },
    "id": "Tjvy83nT4BDR",
    "outputId": "e41f5112-13c2-41ff-c748-489565592f4b"
   },
   "outputs": [
    {
     "data": {
      "text/plain": [
       "(478, 4146)"
      ]
     },
     "execution_count": 2,
     "metadata": {},
     "output_type": "execute_result"
    }
   ],
   "source": [
    "dataset = pd.read_csv('dataframe_final.csv', index_col=0, low_memory = False)\n",
    "dataset.shape"
   ]
  },
  {
   "cell_type": "code",
   "execution_count": 3,
   "metadata": {
    "colab": {
     "base_uri": "https://localhost:8080/",
     "height": 340
    },
    "id": "C0mVUPZ833ZL",
    "outputId": "346ad2f1-44bf-4107-bae7-6e88f67aef13"
   },
   "outputs": [
    {
     "data": {
      "text/html": [
       "<div>\n",
       "<style scoped>\n",
       "    .dataframe tbody tr th:only-of-type {\n",
       "        vertical-align: middle;\n",
       "    }\n",
       "\n",
       "    .dataframe tbody tr th {\n",
       "        vertical-align: top;\n",
       "    }\n",
       "\n",
       "    .dataframe thead th {\n",
       "        text-align: right;\n",
       "    }\n",
       "</style>\n",
       "<table border=\"1\" class=\"dataframe\">\n",
       "  <thead>\n",
       "    <tr style=\"text-align: right;\">\n",
       "      <th></th>\n",
       "      <th>confirmados_novos</th>\n",
       "      <th>recuperados</th>\n",
       "      <th>obitos</th>\n",
       "      <th>internados_uci</th>\n",
       "      <th>ativos</th>\n",
       "      <th>internados_enfermaria</th>\n",
       "      <th>Max_Temp</th>\n",
       "      <th>Min_Temp</th>\n",
       "      <th>Temperature</th>\n",
       "      <th>Precipitation</th>\n",
       "      <th>...</th>\n",
       "      <th>Vaccinations_United Arab Emirates</th>\n",
       "      <th>Vaccinations_per_Million_United Arab Emirates</th>\n",
       "      <th>Vaccinations_United Kingdom</th>\n",
       "      <th>Vaccinations_per_Million_United Kingdom</th>\n",
       "      <th>Vaccinations_United States</th>\n",
       "      <th>Vaccinations_per_Million_United States</th>\n",
       "      <th>Vaccinations_Venezuela</th>\n",
       "      <th>Vaccinations_per_Million_Venezuela</th>\n",
       "      <th>Vaccinations_Wales</th>\n",
       "      <th>Vaccinations_per_Million_Wales</th>\n",
       "    </tr>\n",
       "  </thead>\n",
       "  <tbody>\n",
       "    <tr>\n",
       "      <th>2020-01-01</th>\n",
       "      <td>0.0</td>\n",
       "      <td>0.0</td>\n",
       "      <td>0.0</td>\n",
       "      <td>0.0</td>\n",
       "      <td>0.0</td>\n",
       "      <td>0.0</td>\n",
       "      <td>0.0</td>\n",
       "      <td>0.0</td>\n",
       "      <td>0.0</td>\n",
       "      <td>0.00</td>\n",
       "      <td>...</td>\n",
       "      <td>0.0</td>\n",
       "      <td>0.0</td>\n",
       "      <td>0.0</td>\n",
       "      <td>0.0</td>\n",
       "      <td>0.0</td>\n",
       "      <td>0.0</td>\n",
       "      <td>0.0</td>\n",
       "      <td>0.0</td>\n",
       "      <td>0.0</td>\n",
       "      <td>0.0</td>\n",
       "    </tr>\n",
       "    <tr>\n",
       "      <th>2020-01-02</th>\n",
       "      <td>0.0</td>\n",
       "      <td>0.0</td>\n",
       "      <td>0.0</td>\n",
       "      <td>0.0</td>\n",
       "      <td>0.0</td>\n",
       "      <td>0.0</td>\n",
       "      <td>0.0</td>\n",
       "      <td>0.0</td>\n",
       "      <td>0.0</td>\n",
       "      <td>0.00</td>\n",
       "      <td>...</td>\n",
       "      <td>0.0</td>\n",
       "      <td>0.0</td>\n",
       "      <td>0.0</td>\n",
       "      <td>0.0</td>\n",
       "      <td>0.0</td>\n",
       "      <td>0.0</td>\n",
       "      <td>0.0</td>\n",
       "      <td>0.0</td>\n",
       "      <td>0.0</td>\n",
       "      <td>0.0</td>\n",
       "    </tr>\n",
       "    <tr>\n",
       "      <th>2020-01-03</th>\n",
       "      <td>0.0</td>\n",
       "      <td>0.0</td>\n",
       "      <td>0.0</td>\n",
       "      <td>0.0</td>\n",
       "      <td>0.0</td>\n",
       "      <td>0.0</td>\n",
       "      <td>16.1</td>\n",
       "      <td>14.0</td>\n",
       "      <td>15.3</td>\n",
       "      <td>0.68</td>\n",
       "      <td>...</td>\n",
       "      <td>0.0</td>\n",
       "      <td>0.0</td>\n",
       "      <td>0.0</td>\n",
       "      <td>0.0</td>\n",
       "      <td>0.0</td>\n",
       "      <td>0.0</td>\n",
       "      <td>0.0</td>\n",
       "      <td>0.0</td>\n",
       "      <td>0.0</td>\n",
       "      <td>0.0</td>\n",
       "    </tr>\n",
       "    <tr>\n",
       "      <th>2020-01-04</th>\n",
       "      <td>808.0</td>\n",
       "      <td>0.0</td>\n",
       "      <td>27.0</td>\n",
       "      <td>42.0</td>\n",
       "      <td>781.0</td>\n",
       "      <td>57.0</td>\n",
       "      <td>12.6</td>\n",
       "      <td>7.5</td>\n",
       "      <td>9.3</td>\n",
       "      <td>18.77</td>\n",
       "      <td>...</td>\n",
       "      <td>0.0</td>\n",
       "      <td>0.0</td>\n",
       "      <td>0.0</td>\n",
       "      <td>0.0</td>\n",
       "      <td>0.0</td>\n",
       "      <td>0.0</td>\n",
       "      <td>0.0</td>\n",
       "      <td>0.0</td>\n",
       "      <td>0.0</td>\n",
       "      <td>0.0</td>\n",
       "    </tr>\n",
       "    <tr>\n",
       "      <th>2020-01-05</th>\n",
       "      <td>295.0</td>\n",
       "      <td>128.0</td>\n",
       "      <td>18.0</td>\n",
       "      <td>-18.0</td>\n",
       "      <td>149.0</td>\n",
       "      <td>-58.0</td>\n",
       "      <td>22.0</td>\n",
       "      <td>15.7</td>\n",
       "      <td>17.9</td>\n",
       "      <td>0.86</td>\n",
       "      <td>...</td>\n",
       "      <td>0.0</td>\n",
       "      <td>0.0</td>\n",
       "      <td>0.0</td>\n",
       "      <td>0.0</td>\n",
       "      <td>0.0</td>\n",
       "      <td>0.0</td>\n",
       "      <td>0.0</td>\n",
       "      <td>0.0</td>\n",
       "      <td>0.0</td>\n",
       "      <td>0.0</td>\n",
       "    </tr>\n",
       "  </tbody>\n",
       "</table>\n",
       "<p>5 rows × 4146 columns</p>\n",
       "</div>"
      ],
      "text/plain": [
       "            confirmados_novos  recuperados  obitos  internados_uci  ativos  \\\n",
       "2020-01-01                0.0          0.0     0.0             0.0     0.0   \n",
       "2020-01-02                0.0          0.0     0.0             0.0     0.0   \n",
       "2020-01-03                0.0          0.0     0.0             0.0     0.0   \n",
       "2020-01-04              808.0          0.0    27.0            42.0   781.0   \n",
       "2020-01-05              295.0        128.0    18.0           -18.0   149.0   \n",
       "\n",
       "            internados_enfermaria  Max_Temp  Min_Temp  Temperature  \\\n",
       "2020-01-01                    0.0       0.0       0.0          0.0   \n",
       "2020-01-02                    0.0       0.0       0.0          0.0   \n",
       "2020-01-03                    0.0      16.1      14.0         15.3   \n",
       "2020-01-04                   57.0      12.6       7.5          9.3   \n",
       "2020-01-05                  -58.0      22.0      15.7         17.9   \n",
       "\n",
       "            Precipitation  ...  Vaccinations_United Arab Emirates  \\\n",
       "2020-01-01           0.00  ...                                0.0   \n",
       "2020-01-02           0.00  ...                                0.0   \n",
       "2020-01-03           0.68  ...                                0.0   \n",
       "2020-01-04          18.77  ...                                0.0   \n",
       "2020-01-05           0.86  ...                                0.0   \n",
       "\n",
       "            Vaccinations_per_Million_United Arab Emirates  \\\n",
       "2020-01-01                                            0.0   \n",
       "2020-01-02                                            0.0   \n",
       "2020-01-03                                            0.0   \n",
       "2020-01-04                                            0.0   \n",
       "2020-01-05                                            0.0   \n",
       "\n",
       "            Vaccinations_United Kingdom  \\\n",
       "2020-01-01                          0.0   \n",
       "2020-01-02                          0.0   \n",
       "2020-01-03                          0.0   \n",
       "2020-01-04                          0.0   \n",
       "2020-01-05                          0.0   \n",
       "\n",
       "            Vaccinations_per_Million_United Kingdom  \\\n",
       "2020-01-01                                      0.0   \n",
       "2020-01-02                                      0.0   \n",
       "2020-01-03                                      0.0   \n",
       "2020-01-04                                      0.0   \n",
       "2020-01-05                                      0.0   \n",
       "\n",
       "            Vaccinations_United States  \\\n",
       "2020-01-01                         0.0   \n",
       "2020-01-02                         0.0   \n",
       "2020-01-03                         0.0   \n",
       "2020-01-04                         0.0   \n",
       "2020-01-05                         0.0   \n",
       "\n",
       "            Vaccinations_per_Million_United States  Vaccinations_Venezuela  \\\n",
       "2020-01-01                                     0.0                     0.0   \n",
       "2020-01-02                                     0.0                     0.0   \n",
       "2020-01-03                                     0.0                     0.0   \n",
       "2020-01-04                                     0.0                     0.0   \n",
       "2020-01-05                                     0.0                     0.0   \n",
       "\n",
       "            Vaccinations_per_Million_Venezuela  Vaccinations_Wales  \\\n",
       "2020-01-01                                 0.0                 0.0   \n",
       "2020-01-02                                 0.0                 0.0   \n",
       "2020-01-03                                 0.0                 0.0   \n",
       "2020-01-04                                 0.0                 0.0   \n",
       "2020-01-05                                 0.0                 0.0   \n",
       "\n",
       "            Vaccinations_per_Million_Wales  \n",
       "2020-01-01                             0.0  \n",
       "2020-01-02                             0.0  \n",
       "2020-01-03                             0.0  \n",
       "2020-01-04                             0.0  \n",
       "2020-01-05                             0.0  \n",
       "\n",
       "[5 rows x 4146 columns]"
      ]
     },
     "execution_count": 3,
     "metadata": {},
     "output_type": "execute_result"
    }
   ],
   "source": [
    "dataset.head()"
   ]
  },
  {
   "cell_type": "markdown",
   "metadata": {
    "id": "Bf6lCjul4Obi"
   },
   "source": [
    "## pearson correlation"
   ]
  },
  {
   "cell_type": "code",
   "execution_count": null,
   "metadata": {
    "colab": {
     "base_uri": "https://localhost:8080/",
     "height": 1000
    },
    "id": "lVhqbVFn4JUP",
    "outputId": "cfdb489d-2d6d-4615-d2eb-b493e0915efa"
   },
   "outputs": [],
   "source": [
    "#Using Pearson Correlation\n",
    "#plt.figure(figsize=(40,40))\n",
    "cor = dataset.corr()\n",
    "#sns.heatmap(cor, annot=True, cmap=plt.cm.Reds)\n",
    "#plt.show()\n",
    "#Correlation with output variable\n",
    "cor_target = abs(cor['obitos'])\n",
    "#Selecting highly correlated features\n",
    "relevant_features = cor_target[cor_target>0.5]\n",
    "len(relevant_features)"
   ]
  },
  {
   "cell_type": "code",
   "execution_count": null,
   "metadata": {
    "tags": []
   },
   "outputs": [],
   "source": [
    "relevant_features"
   ]
  },
  {
   "cell_type": "markdown",
   "metadata": {
    "id": "XHEAA3MA7C-I"
   },
   "source": [
    "Como entendemos que temos muitas features, após observar os resultados das correlações de pearson, fizemos um filtro preliminar de features, eliminando features cuja correlação fosse menor que +/-0.50."
   ]
  },
  {
   "cell_type": "code",
   "execution_count": null,
   "metadata": {
    "id": "tMzBbk_p7V_1"
   },
   "outputs": [],
   "source": [
    "col = [column for column in dataset.columns if (column not in relevant_features.index)]\n",
    "dataset = dataset.drop(columns=col, axis=1)"
   ]
  },
  {
   "cell_type": "markdown",
   "metadata": {
    "id": "_X1ZTKZX4gpu"
   },
   "source": [
    "## Feature selection com SelectKBest"
   ]
  },
  {
   "cell_type": "code",
   "execution_count": null,
   "metadata": {
    "id": "6dG0K86A4jF1"
   },
   "outputs": [],
   "source": [
    "df_data = dataset.drop(columns='obitos')\n",
    "df_label = dataset['obitos']"
   ]
  },
  {
   "cell_type": "code",
   "execution_count": null,
   "metadata": {
    "id": "5sJ0Mjpo4jsE"
   },
   "outputs": [],
   "source": [
    "# Feature extraction\n",
    "columns = []\n",
    "test = SelectKBest(f_regression, k=70)\n",
    "fit = test.fit_transform(abs(df_data), df_label)\n",
    "for i in range(0, len(test.get_support())):\n",
    "    if test.get_support()[i]:\n",
    "        columns.append(dataset.columns[i])"
   ]
  },
  {
   "cell_type": "code",
   "execution_count": null,
   "metadata": {
    "id": "5sJ0Mjpo4jsE"
   },
   "outputs": [],
   "source": [
    "len(columns)"
   ]
  },
  {
   "cell_type": "code",
   "execution_count": null,
   "metadata": {
    "colab": {
     "base_uri": "https://localhost:8080/"
    },
    "id": "yepYgrbT99gC",
    "outputId": "11d71c6b-0efe-45e0-b1cc-a9ec0716d70b"
   },
   "outputs": [],
   "source": [
    "fit[:19]"
   ]
  },
  {
   "cell_type": "code",
   "execution_count": null,
   "metadata": {
    "colab": {
     "base_uri": "https://localhost:8080/",
     "height": 1000
    },
    "id": "FC2rsZ0A-SOK",
    "outputId": "d0747417-a74c-46f7-87cd-6693a16ce028",
    "tags": []
   },
   "outputs": [],
   "source": [
    "df_data[:19]"
   ]
  },
  {
   "cell_type": "markdown",
   "metadata": {
    "id": "bSnIzIEh-oPg"
   },
   "source": [
    "Resultados:\n",
    "\n"
   ]
  },
  {
   "cell_type": "markdown",
   "metadata": {
    "id": "whPPoMrsC0cG"
   },
   "source": [
    "## Feature selection of Lag Variables com Random Forest Regressor"
   ]
  },
  {
   "cell_type": "markdown",
   "metadata": {
    "id": "lLy2E1SVDRC2"
   },
   "source": [
    "We can also use feature selection to automatically identify and select those input features that are most predictive.\n",
    "\n",
    "A popular method for feature selection is called Recursive Feature Selection (RFE).\n",
    "\n",
    "RFE works by creating predictive models, weighting features, and pruning those with the smallest weights, then repeating the process until a desired number of features are left.\n",
    "\n",
    "The code below uses RFE with a random forest predictive model and sets the desired number of input features to 10.\n",
    "\n",
    "(A bar graph is also created showing the feature selection rank (smaller is better) for each input feature.)"
   ]
  },
  {
   "cell_type": "code",
   "execution_count": null,
   "metadata": {
    "colab": {
     "base_uri": "https://localhost:8080/",
     "height": 453
    },
    "id": "2jvjIPQUBI7N",
    "outputId": "9363f03a-8caf-4e60-9f45-6546a836c5ed"
   },
   "outputs": [],
   "source": [
    "# separate into input and output variables\n",
    "array = dataset.values\n",
    "# perform feature selection\n",
    "rfe = RFE(RandomForestRegressor(n_estimators=500, random_state=1), n_features_to_select=70)\n",
    "fit = rfe.fit(df_data, df_label)\n",
    "# report selected features\n",
    "print('Selected Features:')\n",
    "names = dataset.columns.values[0:-1]\n",
    "columns_1 = []\n",
    "for i in range(len(fit.support_)):\n",
    "    if fit.support_[i]:\n",
    "        columns_1.append(names[i])\n",
    "        print(names[i])\n",
    "# plot feature rank\n",
    "#names = dataset.columns.values[0:-1]\n",
    "#ticks = [i for i in range(len(names))]\n",
    "#pyplot.bar(ticks, fit.ranking_)\n",
    "#pyplot.xticks(ticks, names)\n",
    "#pyplot.show()"
   ]
  },
  {
   "cell_type": "code",
   "execution_count": null,
   "metadata": {},
   "outputs": [],
   "source": [
    "len(columns_1)"
   ]
  },
  {
   "cell_type": "markdown",
   "metadata": {
    "id": "wxLxe-RUEDfd"
   },
   "source": [
    "## Escolha final de features:\n",
    "Após fazer estes dois métodos de selecção de features, e visto que o seus resultados fazem bastante overlap, decidimos escolher as features resultantes iguais, bem como manter as diferentes. "
   ]
  },
  {
   "cell_type": "code",
   "execution_count": 13,
   "metadata": {
    "colab": {
     "base_uri": "https://localhost:8080/"
    },
    "id": "GbmFeoXkEr5j",
    "outputId": "ae9e4fa6-9524-44f0-a110-fc3c98969b4f"
   },
   "outputs": [
    {
     "data": {
      "text/plain": [
       "Index(['recuperados', 'Relative_Humidity', 'total_testes', 'testes_pcr',\n",
       "       'total_cases_Andorra', 'new_cases_smoothed_Andorra',\n",
       "       'total_cases_per_million_Andorra',\n",
       "       'new_cases_smoothed_per_million_Andorra', 'new_tests_smoothed_Andorra',\n",
       "       'new_tests_smoothed_per_thousand_Andorra',\n",
       "       ...\n",
       "       'new_tests_smoothed_per_thousand_United States',\n",
       "       'positive_rate_United States', 'total_cases_Vatican',\n",
       "       'total_cases_per_million_Vatican', 'Vaccinations_Gibraltar',\n",
       "       'Vaccinations_per_Million_Gibraltar', 'Vaccinations_Monaco',\n",
       "       'Vaccinations_per_Million_Monaco', 'Vaccinations_United Arab Emirates',\n",
       "       'Vaccinations_per_Million_United Arab Emirates'],\n",
       "      dtype='object', length=469)"
      ]
     },
     "execution_count": 13,
     "metadata": {},
     "output_type": "execute_result"
    }
   ],
   "source": [
    "df_data.columns"
   ]
  },
  {
   "cell_type": "code",
   "execution_count": 59,
   "metadata": {},
   "outputs": [],
   "source": [
    "final_columns = columns.copy()\n",
    "\n",
    "for i in columns_1:\n",
    "    if i not in columns:\n",
    "        final_columns.append(i)"
   ]
  },
  {
   "cell_type": "code",
   "execution_count": 62,
   "metadata": {
    "colab": {
     "base_uri": "https://localhost:8080/"
    },
    "id": "C6o7ObOEEgLF",
    "outputId": "4cf6dccb-c7dc-4c30-94e0-0456f22b5e98"
   },
   "outputs": [
    {
     "data": {
      "text/plain": [
       "(1249, 113)"
      ]
     },
     "execution_count": 62,
     "metadata": {},
     "output_type": "execute_result"
    }
   ],
   "source": [
    "columns_to_drop = []\n",
    "for i in df_data.columns:\n",
    "    if i not in final_columns:\n",
    "        columns_to_drop.append(i)\n",
    "df_data = df_data.drop(columns=columns_to_drop, axis=1)\n",
    "df_data.shape"
   ]
  },
  {
   "cell_type": "code",
   "execution_count": 63,
   "metadata": {
    "colab": {
     "base_uri": "https://localhost:8080/"
    },
    "id": "kLW8rwevGN0C",
    "outputId": "7e0b8db0-eb15-4ccd-b45f-18a5ce7c1059"
   },
   "outputs": [
    {
     "data": {
      "text/plain": [
       "Index(['recuperados', 'new_cases_smoothed_per_million_Andorra',\n",
       "       'new_tests_smoothed_Andorra', 'new_deaths_Austria',\n",
       "       'new_deaths_per_million_Austria', 'new_tests_smoothed_Belgium',\n",
       "       'new_cases_smoothed_per_million_Canada',\n",
       "       'new_tests_smoothed_per_thousand_Croatia', 'new_cases_Czechia',\n",
       "       'new_cases_per_million_Czechia',\n",
       "       ...\n",
       "       'new_cases_smoothed_United States', 'new_deaths_United States',\n",
       "       'new_cases_per_million_United States',\n",
       "       'new_cases_smoothed_per_million_United States',\n",
       "       'new_deaths_per_million_United States',\n",
       "       'new_deaths_smoothed_per_million_United States',\n",
       "       'icu_patients_United States', 'icu_patients_per_million_United States',\n",
       "       'hosp_patients_United States', 'new_tests_per_thousand_United States'],\n",
       "      dtype='object', length=113)"
      ]
     },
     "execution_count": 63,
     "metadata": {},
     "output_type": "execute_result"
    }
   ],
   "source": [
    "df_data.columns"
   ]
  },
  {
   "cell_type": "code",
   "execution_count": null,
   "metadata": {},
   "outputs": [],
   "source": [
    "df_data.to_csv(\"dataframe_explored.csv\")"
   ]
  }
 ],
 "metadata": {
  "colab": {
   "collapsed_sections": [],
   "name": "Covid_exploration.ipynb",
   "provenance": []
  },
  "kernelspec": {
   "display_name": "Python 3",
   "language": "python",
   "name": "python3"
  },
  "language_info": {
   "codemirror_mode": {
    "name": "ipython",
    "version": 3
   },
   "file_extension": ".py",
   "mimetype": "text/x-python",
   "name": "python",
   "nbconvert_exporter": "python",
   "pygments_lexer": "ipython3",
   "version": "3.8.9"
  }
 },
 "nbformat": 4,
 "nbformat_minor": 4
}
