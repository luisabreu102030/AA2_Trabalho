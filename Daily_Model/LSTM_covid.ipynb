{
  "nbformat": 4,
  "nbformat_minor": 0,
  "metadata": {
    "colab": {
      "name": "LSTM_covid.ipynb",
      "provenance": []
    },
    "kernelspec": {
      "name": "python3",
      "display_name": "Python 3"
    },
    "language_info": {
      "name": "python"
    }
  },
  "cells": [
    {
      "cell_type": "code",
      "metadata": {
        "id": "tzswUEYGTvCB"
      },
      "source": [
        "import pandas as pd\n",
        "import numpy as np\n",
        "import tensorflow as tf\n",
        "from sklearn.preprocessing import MinMaxScaler\n",
        "from sklearn.model_selection import TimeSeriesSplit\n",
        "import matplotlib.pyplot as plt\n",
        "\n",
        "#for replicability purposes\n",
        "tf.random.set_seed(91195003)\n",
        "#for an easy reset backend session state\n",
        "tf.keras.backend.clear_session()"
      ],
      "execution_count": 120,
      "outputs": []
    },
    {
      "cell_type": "code",
      "metadata": {
        "id": "2WwKeV4zU4Sr"
      },
      "source": [
        "#Load dataset\n",
        "def load_dataset(path):\n",
        "  return pd.read_csv(path)"
      ],
      "execution_count": 121,
      "outputs": []
    },
    {
      "cell_type": "code",
      "metadata": {
        "id": "hpdMiB0QU7VW"
      },
      "source": [
        "#split data into training and validation sets\n",
        "def split_data(training, perc=10):\n",
        "  train_idx = np.arange(0, int(len(training)*(100-perc)/100))\n",
        "  val_idx = np.arange(int(len(training)*(100-perc)/100+1), len(training))\n",
        "  return train_idx, val_idx"
      ],
      "execution_count": 122,
      "outputs": []
    },
    {
      "cell_type": "code",
      "metadata": {
        "id": "gDDJXtDxU7Sh"
      },
      "source": [
        "# Prepare data to be predicted\n",
        "def prepare_data(df):\n",
        "  df_aux = df.drop(columns=['Wind_Speed','Wind_Direction','Visibility','Cloud_Cover','Relative_Humidity','Rain','Clear','Partially_cloudy',\n",
        "                            'confirmados_arsalentejo','confirmados_acores','confirmados_madeira','confirmados_novos','internados_uci','obitos_arsnorte',\n",
        "                                'obitos_arslvt','obitos_arsalentejo',\n",
        "       'obitos_arsalgarve', 'obitos_acores', 'obitos_madeira','ativos','confirmados_10_19','confirmados_70_79',\n",
        "       'confirmados_80_plus', 'obitos_0_9', 'obitos_10_19', 'obitos_20_29',\n",
        "       'obitos_30_39', 'obitos_40_49', 'obitos_50_59', 'obitos_60_69',\n",
        "       'obitos_70_79', 'obitos_80_plus', 'Max_Temp', 'Min_Temp', 'Temperature',\n",
        "       'Precipitation'], inplace=False)\n",
        "  df_aux = df_aux.set_index('Date')\n",
        "  return df_aux"
      ],
      "execution_count": 123,
      "outputs": []
    },
    {
      "cell_type": "code",
      "metadata": {
        "id": "loVkFZLOU7P8"
      },
      "source": [
        "\n",
        "#Normalize the data\n",
        "def data_normalization(df, norm_range=(-1, 1)):\n",
        "  #[-1, 1] for LSTM due to the internal use of tanh by the memory cell\n",
        "  scaler = MinMaxScaler(feature_range=norm_range)\n",
        "  df[['confirmados']] = scaler.fit_transform(df[['confirmados']])\n",
        "  df[['confirmados_arsnorte']] = scaler.fit_transform(df[['confirmados_arsnorte']])\n",
        "  df[['confirmados_arscentro']] = scaler.fit_transform(df[['confirmados_arscentro']])\n",
        "  df[['confirmados_arslvt']] = scaler.fit_transform(df[['confirmados_arslvt']])\n",
        "  df[['confirmados_arsalgarve']] = scaler.fit_transform(df[['confirmados_arsalgarve']])\n",
        "  df[['recuperados']] = scaler.fit_transform(df[['recuperados']])\n",
        "  df[['obitos_arscentro']] = scaler.fit_transform(df[['obitos_arscentro']])\n",
        "  df[['internados_enfermaria']] = scaler.fit_transform(df[['internados_enfermaria']])\n",
        "  df[['confirmados_0_9']] = scaler.fit_transform(df[['confirmados_0_9']])\n",
        "  df[['confirmados_20_29']] = scaler.fit_transform(df[['confirmados_20_29']])\n",
        "  df[['confirmados_30_39']] = scaler.fit_transform(df[['confirmados_30_39']])\n",
        "  df[['confirmados_40_49']] = scaler.fit_transform(df[['confirmados_40_49']])\n",
        "  df[['confirmados_50_59']] = scaler.fit_transform(df[['confirmados_50_59']])\n",
        "  df[['confirmados_60_69']] = scaler.fit_transform(df[['confirmados_60_69']])\n",
        "  df[['obitos']] = scaler.fit_transform(df[['obitos']])\n",
        "\n",
        "  return scaler"
      ],
      "execution_count": 124,
      "outputs": []
    },
    {
      "cell_type": "code",
      "metadata": {
        "id": "Ii43y3UiU7NM"
      },
      "source": [
        "#plot learning curve\n",
        "def plot_learning_curves(history, epochs):\n",
        "  loss=history.history['loss']\n",
        "  val_loss=history.history['val_loss']\n",
        "  epochs_range = range(epochs)\n",
        "  #creating figure\n",
        "  plt.figure(figsize=(8,8))\n",
        "  plt.subplot(1,2,2)\n",
        "  plt.plot(epochs_range,loss,label='Training Loss')\n",
        "  plt.plot(epochs_range,val_loss,label='Validation Loss')\n",
        "  plt.legend(loc='upper right')\n",
        "  plt.title('Training/Validation Loss')\n",
        "  plt.show()"
      ],
      "execution_count": 125,
      "outputs": []
    },
    {
      "cell_type": "code",
      "metadata": {
        "id": "u5ttgH3aU7K0"
      },
      "source": [
        "#Plot time series data\n",
        "def plot_confirmed_cases(data):\n",
        "  plt.figure(figsize=(8,6))\n",
        "  plt.plot(range(len(data)), data)\n",
        "  plt.title('Confirmed Deaths')\n",
        "  plt.ylabel('Cases')\n",
        "  plt.xlabel('Days')\n",
        "  plt.show()"
      ],
      "execution_count": 126,
      "outputs": []
    },
    {
      "cell_type": "code",
      "metadata": {
        "id": "36GmcfcTU7IE"
      },
      "source": [
        "#Preparing the dataset for the LSTM\n",
        "def to_supervised(df, timesteps):\n",
        "  data = df.values\n",
        "  X, y = list(), list()\n",
        "  #iterate over the training set to create X and y\n",
        "  dataset_size = len(data)\n",
        "  for curr_pos in range(dataset_size):\n",
        "    #end of the input sequence is the current position + the number of timesteps of the input sequence\n",
        "    input_index = curr_pos + timesteps\n",
        "    #end of the labels corresponds to the end of the input sequence + 1\n",
        "    label_index = input_index + 1\n",
        "    #if we have enough data for this sequence\n",
        "    if label_index < dataset_size:\n",
        "      X.append(data[curr_pos:input_index, :])\n",
        "      y.append(data[input_index:label_index, 10])\n",
        "  #using np.float32 for GPU performance\n",
        "  return np.array(X).astype('float32'), np.array(y).astype('float32')"
      ],
      "execution_count": 127,
      "outputs": []
    },
    {
      "cell_type": "code",
      "metadata": {
        "id": "V_vdk9_mU7DN"
      },
      "source": [
        "#Building the model\n",
        "def rmse(y_true, y_pred):\n",
        "  return tf.keras.backend.sqrt(tf.keras.backend.mean(tf.keras.backend.square(y_pred - y_true)))\n",
        "\n",
        "def build_model(timesteps, features, h_neurons=64, activation='tanh'):\n",
        "  model = tf.keras.models.Sequential()\n",
        "  model.add(tf.keras.layers.LSTM(h_neurons, activation=activation, input_shape=(timesteps, features), return_sequences=True))\n",
        "  #Add a new layer\n",
        "  model.add(tf.keras.layers.LSTM(32, activation=activation ,return_sequences=False))\n",
        "  #\n",
        "  model.add(tf.keras.layers.Dense(h_neurons, activation=activation))\n",
        "  model.add(tf.keras.layers.Dense(1, activation='linear'))\n",
        "  #model summary (and save it as PNG)\n",
        "  tf.keras.utils.plot_model(model, 'covid_model.png', show_shapes=True)\n",
        "  return model"
      ],
      "execution_count": 128,
      "outputs": []
    },
    {
      "cell_type": "code",
      "metadata": {
        "id": "UJZzLdTpU7At"
      },
      "source": [
        "#Compiling and fit the model\n",
        "def compile_and_fit(model, epochs, batch_size):\n",
        "  #compile\n",
        "  model.compile(loss = rmse, optimizer = tf.keras.optimizers.Adam(), metrics = ['mae', rmse])\n",
        "  #fit\n",
        "  hist_list = list()\n",
        "  loss_list = list()\n",
        "\n",
        "  #callback\n",
        "  #saving in Keras HDF5 (or h5), a binary data format\n",
        "  callbacks = [tf.keras.callbacks.ModelCheckpoint(\n",
        "        filepath='my_model_{epoch}_{val_loss:.3f}.h5',#path where to save model\n",
        "        save_best_only=True,#overwrite the current checkpoint if and only if\n",
        "        monitor='val_loss',#the val_loss score has improved\n",
        "        save_weights_only=False,#if True, only the weigths are saved\n",
        "        verbose=1,#verbosity mode\n",
        "        period=5 #save ony at the fifth epoch (5 em 5 epocas)\n",
        "        )#,\n",
        "    #interrupt training if loss stops improving for over 2 epochs\n",
        "    #tf.keras.callbacks.EarlyStopping(patience=9, monitor='cost')\n",
        "    ]\n",
        "\n",
        "  #Time Series Cross Validator\n",
        "  tscv = TimeSeriesSplit(n_splits=cv_splits)\n",
        "  for train_index, test_index in tscv.split(X):\n",
        "    train_idx, val_idx = split_data(train_index, perc=10) #further split into training and validation sets\n",
        "    #build data\n",
        "    X_train, y_train = X[train_idx], y[train_idx]\n",
        "    X_val, y_val = X[val_idx], y[val_idx]\n",
        "    X_test, y_test = X[test_index], y[test_index]\n",
        "\n",
        "    #print(\"x_val::::\",X_val,\"\\n\",\"y_val:\",y_val,\"\\n\")\n",
        "\n",
        "    history = model.fit(X_train, y_train, validation_data=(X_val, y_val),epochs=epochs, batch_size=batch_size, shuffle=False, callbacks=callbacks)\n",
        "    metrics = model.evaluate(X_test, y_test)\n",
        "\n",
        "\n",
        "    plot_learning_curves(history, epochs)\n",
        "    hist_list.append(history)\n",
        "\n",
        "\n",
        "  return model, hist_list"
      ],
      "execution_count": 129,
      "outputs": []
    },
    {
      "cell_type": "code",
      "metadata": {
        "id": "pGU472BXU69z"
      },
      "source": [
        "  # Recursive Multi-Step Forecast!!!\n",
        "def forecast(model, df, timesteps, multisteps, scaler):\n",
        "    input_seq = np.array(df[-timesteps:].values)  # getting the last sequence of known value\n",
        "    inp = input_seq\n",
        "    # print(\"Input_seq: \",inp)\n",
        "    forecasts = list()\n",
        "\n",
        "    # multisteps tells us how many iterations we want to perform, i.e., how many days we want to predict\n",
        "    for step in range(1, multisteps + 1):\n",
        "      inp = inp.reshape(1, timesteps, n_variate)\n",
        "      yhat = model.predict(inp)  # dá o valor predito normalizado\n",
        "      yhat_desnormalized = scaler.inverse_transform(yhat)  # dá valor predito desnormalizado\n",
        "      forecasts.append(yhat_desnormalized)  # adicionar previsao à lista final de previsões\n",
        "\n",
        "    return forecasts"
      ],
      "execution_count": 130,
      "outputs": []
    },
    {
      "cell_type": "code",
      "metadata": {
        "id": "PfvXGxIUU64L"
      },
      "source": [
        "def plot_forecast(data, forecasts):\n",
        "\n",
        "    plt.figure(figsize=(8, 6))\n",
        "    plt.plot(range(len(data)), data['obitos'], color='green', label='True value')\n",
        "    plt.plot(range(len(data) - 1, len(data) + len(forecasts) - 1), forecasts, color='red', label='Forecasts')\n",
        "    plt.title('Number of deaths')\n",
        "    plt.ylabel('Value')\n",
        "    plt.xlabel('Days')\n",
        "    plt.legend()\n",
        "    plt.show()"
      ],
      "execution_count": 131,
      "outputs": []
    },
    {
      "cell_type": "code",
      "metadata": {
        "colab": {
          "base_uri": "https://localhost:8080/",
          "height": 1000
        },
        "id": "PCGWbOG7VT5c",
        "outputId": "4446f7b4-a9e7-41d6-b9bb-d71032a810ff"
      },
      "source": [
        "################################\n",
        "################################\n",
        "########                ########\n",
        "######## Main Execution ########\n",
        "########                ########\n",
        "################################\n",
        "################################\n",
        "\n",
        "#Number os variables to use\n",
        "n_variate = 15\n",
        "#the dataframes\n",
        "path=r'daily_covid.csv'\n",
        "df_raw = load_dataset(path)\n",
        "df_data = prepare_data(df_raw)\n",
        "df = df_data.copy()\n",
        "\n",
        "print(df.columns)\n",
        "\n",
        "print(df.shape)\n",
        "\n",
        "scaler = data_normalization(df) #scaling data to [-1, 1]\n",
        "\n",
        "\n",
        "##Optimization\n",
        "\n",
        "tunning_dict = {\n",
        "                  1: {'timesteps' : 7, 'multisteps' : 1, 'cv_splits': 3, 'epochs' : 10,  'batch_size' : 5 }#,\n",
        "                  #2: {'timesteps' : 7, 'multisteps' : 1, 'cv_splits' : 3, 'epochs' : 50,  'batch_size' : 5 },\n",
        "                  #3: {'timesteps' : 7, 'multisteps' : 1, 'cv_splits' : 3, 'epochs' : 100,  'batch_size' : 5 },\n",
        "\n",
        "                  #\n",
        "                  #4: {'timesteps' : 8, 'multisteps' : 1, 'cv_splits': 3, 'epochs' : 60,  'batch_size' : 5 },\n",
        "                  #5: {'timesteps' : 8, 'multisteps' : 1, 'cv_splits' : 3, 'epochs' : 90,  'batch_size' : 5 },\n",
        "                  #6: {'timesteps' : 8, 'multisteps' : 1, 'cv_splits' : 3, 'epochs' : 120,  'batch_size' : 5 },\n",
        "                  #\n",
        "                  #7: {'timesteps' : 10, 'multisteps' : 1, 'cv_splits': 3, 'epochs' : 50,  'batch_size' : 8 },\n",
        "                  #8: {'timesteps' : 10, 'multisteps' : 1, 'cv_splits' : 3, 'epochs' : 90,  'batch_size' : 8 },\n",
        "                  #9: {'timesteps' : 10, 'multisteps' : 1, 'cv_splits' : 3, 'epochs' : 120,  'batch_size' : 8 }\n",
        "\n",
        "  }\n",
        "  # record da history de cada modelo\n",
        "record = {}\n",
        "\n",
        "#tunning the model cycle\n",
        "for t in tunning_dict:\n",
        "   # print(record[r])\n",
        "   # fitting the model\n",
        "   timesteps = tunning_dict[t]['timesteps']\n",
        "   epochs = tunning_dict[t]['epochs']\n",
        "   batch_size = tunning_dict[t]['batch_size']\n",
        "   multisteps = tunning_dict[t]['multisteps']\n",
        "   cv_splits = tunning_dict[t]['cv_splits']\n",
        "   # print(timesteps,epochs,batch_size,cv_splits)\n",
        "\n",
        "   X, y = to_supervised(df, timesteps)\n",
        "\n",
        "   model = build_model(timesteps, n_variate)\n",
        "   model, history = compile_and_fit(model, epochs, batch_size)\n",
        "   # print(\"df: \",df.shape,\" timesteps\",timesteps,\" multisteps \",multisteps)\n",
        "   forecasts = forecast(model, df, timesteps, multisteps, scaler)\n",
        "\n",
        "   print(forecasts)\n",
        "\n",
        "   prev = []\n",
        "\n",
        "    # plot do valor previsto da ação de Open\n",
        "    #for f in forecasts:\n",
        "    #  prev.append(f[0][0])\n",
        "\n",
        "    #print(prev)\n",
        "    #plot_forecast(df_raw, prev)\n",
        "\n",
        "\n",
        "   record[t] = history\n",
        "\n",
        "\n",
        "  #Put the resulting metrics in a file\n",
        "id_tunning = 1\n",
        "id_split = 1\n",
        "\n",
        "final_dict = {}\n",
        "\n",
        "for r in record:\n",
        "    # print(tunning_dict[1]['epochs'])\n",
        "    loss = []\n",
        "    mae = []\n",
        "    rmse = []\n",
        "    val_loss = []\n",
        "    val_mae = []\n",
        "    val_rmse = []\n",
        "\n",
        "    for h in record[r]:\n",
        "      # print(\"Tunning ID:  \",id_tunning,\" Split ID: \",id_split)\n",
        "      # plot_learning_curves(h, tunning_dict[id_tunning]['epochs'])\n",
        "      # ['loss', 'mae', 'rmse', 'val_loss', 'val_mae', 'val_rmse']\n",
        "      # print(\"loss: \",sum(h.history['loss'])/len(h.history['loss']),\" MAE: \",sum(h.history['mae'])/len(h.history['mae']),\" RMSE: \",sum(h.history['rmse'])/len(h.history['rmse']),\" VAL_LOSS: \",sum(h.history['val_loss'])/len(h.history['val_loss']),\" VAL_MAE: \",sum(h.history['val_mae'])/len(h.history['val_mae']),\" VAL_RMSE: \",sum(h.history['val_rmse'])/len(h.history['val_rmse']))\n",
        "      loss.append(sum(h.history['loss']) / len(h.history['loss']))\n",
        "      mae.append(sum(h.history['mae']) / len(h.history['mae']))\n",
        "      rmse.append(sum(h.history['rmse']) / len(h.history['rmse']))\n",
        "      val_loss.append(sum(h.history['val_loss']) / len(h.history['val_loss']))\n",
        "      val_mae.append(sum(h.history['val_mae']) / len(h.history['val_mae']))\n",
        "      val_rmse.append(sum(h.history['val_rmse']) / len(h.history['val_rmse']))\n",
        "      id_split += 1\n",
        "    id_split = 1\n",
        "\n",
        "    final_dict[id_tunning] = [sum(loss) / len(loss), sum(mae) / len(mae), sum(rmse) / len(rmse),\n",
        "                              sum(val_loss) / len(val_loss), sum(val_mae) / len(val_mae), sum(val_rmse) / len(val_rmse)]\n",
        "\n",
        "    id_tunning = id_tunning + 1\n",
        "\n",
        "\n"
      ],
      "execution_count": 132,
      "outputs": [
        {
          "output_type": "stream",
          "text": [
            "Index(['confirmados', 'confirmados_arsnorte', 'confirmados_arscentro',\n",
            "       'confirmados_arslvt', 'confirmados_arsalgarve', 'recuperados', 'obitos',\n",
            "       'obitos_arscentro', 'internados_enfermaria', 'confirmados_0_9',\n",
            "       'confirmados_20_29', 'confirmados_30_39', 'confirmados_40_49',\n",
            "       'confirmados_50_59', 'confirmados_60_69'],\n",
            "      dtype='object')\n",
            "(422, 15)\n",
            "WARNING:tensorflow:`period` argument is deprecated. Please use `save_freq` to specify the frequency in number of batches seen.\n",
            "Epoch 1/10\n",
            "19/19 [==============================] - 5s 72ms/step - loss: 0.4389 - mae: 0.4389 - rmse: 0.4388 - val_loss: 0.0781 - val_mae: 0.0781 - val_rmse: 0.0781\n",
            "Epoch 2/10\n",
            "19/19 [==============================] - 0s 11ms/step - loss: 0.0228 - mae: 0.0228 - rmse: 0.0228 - val_loss: 0.0228 - val_mae: 0.0228 - val_rmse: 0.0228\n",
            "Epoch 3/10\n",
            "19/19 [==============================] - 0s 11ms/step - loss: 0.0208 - mae: 0.0208 - rmse: 0.0208 - val_loss: 0.0240 - val_mae: 0.0240 - val_rmse: 0.0240\n",
            "Epoch 4/10\n",
            "19/19 [==============================] - 0s 11ms/step - loss: 0.0337 - mae: 0.0337 - rmse: 0.0337 - val_loss: 0.0318 - val_mae: 0.0318 - val_rmse: 0.0318\n",
            "Epoch 5/10\n",
            "19/19 [==============================] - 0s 12ms/step - loss: 0.0129 - mae: 0.0128 - rmse: 0.0129 - val_loss: 0.0166 - val_mae: 0.0165 - val_rmse: 0.0166\n",
            "\n",
            "Epoch 00005: val_loss improved from inf to 0.01658, saving model to my_model_5_0.017.h5\n",
            "Epoch 6/10\n",
            "19/19 [==============================] - 0s 12ms/step - loss: 0.0117 - mae: 0.0117 - rmse: 0.0117 - val_loss: 0.0147 - val_mae: 0.0146 - val_rmse: 0.0147\n",
            "Epoch 7/10\n",
            "19/19 [==============================] - 0s 11ms/step - loss: 0.0387 - mae: 0.0387 - rmse: 0.0387 - val_loss: 0.0036 - val_mae: 0.0034 - val_rmse: 0.0036\n",
            "Epoch 8/10\n",
            "19/19 [==============================] - 0s 11ms/step - loss: 0.0286 - mae: 0.0285 - rmse: 0.0285 - val_loss: 0.0278 - val_mae: 0.0278 - val_rmse: 0.0278\n",
            "Epoch 9/10\n",
            "19/19 [==============================] - 0s 11ms/step - loss: 0.0265 - mae: 0.0265 - rmse: 0.0265 - val_loss: 0.0077 - val_mae: 0.0076 - val_rmse: 0.0077\n",
            "Epoch 10/10\n",
            "19/19 [==============================] - 0s 12ms/step - loss: 0.0417 - mae: 0.0417 - rmse: 0.0417 - val_loss: 0.0069 - val_mae: 0.0068 - val_rmse: 0.0069\n",
            "\n",
            "Epoch 00010: val_loss improved from 0.01658 to 0.00691, saving model to my_model_10_0.007.h5\n",
            "4/4 [==============================] - 1s 5ms/step - loss: 0.0366 - mae: 0.0356 - rmse: 0.0447\n"
          ],
          "name": "stdout"
        },
        {
          "output_type": "display_data",
          "data": {
            "image/png": "[encoded data removed]",
            "text/plain": [
              "<Figure size 576x576 with 1 Axes>"
            ]
          },
          "metadata": {
            "tags": [],
            "needs_background": "light"
          }
        },
        {
          "output_type": "stream",
          "text": [
            "Epoch 1/10\n",
            "38/38 [==============================] - 0s 11ms/step - loss: 0.0207 - mae: 0.0206 - rmse: 0.0207 - val_loss: 0.0226 - val_mae: 0.0225 - val_rmse: 0.0226\n",
            "Epoch 2/10\n",
            "38/38 [==============================] - 0s 10ms/step - loss: 0.0440 - mae: 0.0440 - rmse: 0.0435 - val_loss: 0.0157 - val_mae: 0.0155 - val_rmse: 0.0157\n",
            "Epoch 3/10\n",
            "38/38 [==============================] - 0s 10ms/step - loss: 0.0674 - mae: 0.0673 - rmse: 0.0664 - val_loss: 0.0297 - val_mae: 0.0296 - val_rmse: 0.0297\n",
            "Epoch 4/10\n",
            "38/38 [==============================] - 0s 9ms/step - loss: 0.0249 - mae: 0.0248 - rmse: 0.0246 - val_loss: 0.0100 - val_mae: 0.0096 - val_rmse: 0.0100\n",
            "Epoch 5/10\n",
            "38/38 [==============================] - 0s 9ms/step - loss: 0.0402 - mae: 0.0401 - rmse: 0.0398 - val_loss: 0.0087 - val_mae: 0.0084 - val_rmse: 0.0087\n",
            "\n",
            "Epoch 00005: val_loss did not improve from 0.00691\n",
            "Epoch 6/10\n",
            "38/38 [==============================] - 0s 10ms/step - loss: 0.0525 - mae: 0.0525 - rmse: 0.0520 - val_loss: 0.0399 - val_mae: 0.0398 - val_rmse: 0.0399\n",
            "Epoch 7/10\n",
            "38/38 [==============================] - 0s 10ms/step - loss: 0.0264 - mae: 0.0264 - rmse: 0.0262 - val_loss: 0.0125 - val_mae: 0.0123 - val_rmse: 0.0125\n",
            "Epoch 8/10\n",
            "38/38 [==============================] - 0s 10ms/step - loss: 0.0423 - mae: 0.0422 - rmse: 0.0416 - val_loss: 0.0085 - val_mae: 0.0082 - val_rmse: 0.0085\n",
            "Epoch 9/10\n",
            "38/38 [==============================] - 0s 10ms/step - loss: 0.0443 - mae: 0.0443 - rmse: 0.0438 - val_loss: 0.0098 - val_mae: 0.0095 - val_rmse: 0.0098\n",
            "Epoch 10/10\n",
            "38/38 [==============================] - 0s 9ms/step - loss: 0.0450 - mae: 0.0449 - rmse: 0.0445 - val_loss: 0.0171 - val_mae: 0.0169 - val_rmse: 0.0171\n",
            "\n",
            "Epoch 00010: val_loss did not improve from 0.00691\n",
            "4/4 [==============================] - 0s 7ms/step - loss: 0.2701 - mae: 0.2651 - rmse: 0.2987\n"
          ],
          "name": "stdout"
        },
        {
          "output_type": "display_data",
          "data": {
            "image/png": "[encoded data removed]",
            "text/plain": [
              "<Figure size 576x576 with 1 Axes>"
            ]
          },
          "metadata": {
            "tags": [],
            "needs_background": "light"
          }
        },
        {
          "output_type": "stream",
          "text": [
            "Epoch 1/10\n",
            "56/56 [==============================] - 1s 10ms/step - loss: 0.0427 - mae: 0.0425 - rmse: 0.0428 - val_loss: 0.1457 - val_mae: 0.1449 - val_rmse: 0.1608\n",
            "Epoch 2/10\n",
            "56/56 [==============================] - 1s 9ms/step - loss: 0.1609 - mae: 0.1605 - rmse: 0.1604 - val_loss: 0.1253 - val_mae: 0.1244 - val_rmse: 0.1394\n",
            "Epoch 3/10\n",
            "56/56 [==============================] - 1s 9ms/step - loss: 0.2416 - mae: 0.2415 - rmse: 0.2410 - val_loss: 0.1493 - val_mae: 0.1488 - val_rmse: 0.1616\n",
            "Epoch 4/10\n",
            "56/56 [==============================] - 1s 9ms/step - loss: 0.2071 - mae: 0.2070 - rmse: 0.2068 - val_loss: 0.1551 - val_mae: 0.1548 - val_rmse: 0.1645\n",
            "Epoch 5/10\n",
            "56/56 [==============================] - 1s 9ms/step - loss: 0.1579 - mae: 0.1577 - rmse: 0.1573 - val_loss: 0.0694 - val_mae: 0.0686 - val_rmse: 0.0820\n",
            "\n",
            "Epoch 00005: val_loss did not improve from 0.00691\n",
            "Epoch 6/10\n",
            "56/56 [==============================] - 1s 9ms/step - loss: 0.1614 - mae: 0.1613 - rmse: 0.1610 - val_loss: 0.0416 - val_mae: 0.0404 - val_rmse: 0.0515\n",
            "Epoch 7/10\n",
            "56/56 [==============================] - 0s 9ms/step - loss: 0.1588 - mae: 0.1586 - rmse: 0.1583 - val_loss: 0.0434 - val_mae: 0.0420 - val_rmse: 0.0536\n",
            "Epoch 8/10\n",
            "56/56 [==============================] - 1s 10ms/step - loss: 0.1211 - mae: 0.1210 - rmse: 0.1209 - val_loss: 0.0469 - val_mae: 0.0457 - val_rmse: 0.0573\n",
            "Epoch 9/10\n",
            "56/56 [==============================] - 1s 9ms/step - loss: 0.1280 - mae: 0.1279 - rmse: 0.1277 - val_loss: 0.0713 - val_mae: 0.0694 - val_rmse: 0.0849\n",
            "Epoch 10/10\n",
            "56/56 [==============================] - 0s 9ms/step - loss: 0.1455 - mae: 0.1454 - rmse: 0.1451 - val_loss: 0.1123 - val_mae: 0.1115 - val_rmse: 0.1255\n",
            "\n",
            "Epoch 00010: val_loss did not improve from 0.00691\n",
            "4/4 [==============================] - 0s 5ms/step - loss: 0.8127 - mae: 0.8035 - rmse: 0.8679\n"
          ],
          "name": "stdout"
        },
        {
          "output_type": "display_data",
          "data": {
            "image/png": "[encoded data removed]",
            "text/plain": [
              "<Figure size 576x576 with 1 Axes>"
            ]
          },
          "metadata": {
            "tags": [],
            "needs_background": "light"
          }
        },
        {
          "output_type": "stream",
          "text": [
            "[array([[7623.8433]], dtype=float32)]\n"
          ],
          "name": "stdout"
        }
      ]
    },
    {
      "cell_type": "code",
      "metadata": {
        "colab": {
          "base_uri": "https://localhost:8080/",
          "height": 151
        },
        "id": "SeBVe4pbWKQU",
        "outputId": "15c15864-b966-4e80-add0-bcd688d559c8"
      },
      "source": [
        "for f in final_dict:\n",
        "    print(\"Loss | MAE | RMSE | VAL_LOSS | VAL_MAE | VAL_RMSE\")\n",
        "    print(\"ID tunning: \",f, \" Valores: \",final_dict[f],\"\\n\")\n",
        "\n",
        "final_df = pd.DataFrame.from_dict(final_dict, orient='index')\n",
        "final_df.columns = ['Loss','MAE','RMSE','VAL_LOSS','VAL_MAE','VAL_RMSE']\n",
        "final_df"
      ],
      "execution_count": 133,
      "outputs": [
        {
          "output_type": "stream",
          "text": [
            "Loss | MAE | RMSE | VAL_LOSS | VAL_MAE | VAL_RMSE\n",
            "ID tunning:  1  Valores:  [0.07942939950153231, 0.07935897170876463, 0.07908178130164742, 0.045624028208355115, 0.04521075935723881, 0.04965185138086478] \n",
            "\n"
          ],
          "name": "stdout"
        },
        {
          "output_type": "execute_result",
          "data": {
            "text/html": [
              "<div>\n",
              "<style scoped>\n",
              "    .dataframe tbody tr th:only-of-type {\n",
              "        vertical-align: middle;\n",
              "    }\n",
              "\n",
              "    .dataframe tbody tr th {\n",
              "        vertical-align: top;\n",
              "    }\n",
              "\n",
              "    .dataframe thead th {\n",
              "        text-align: right;\n",
              "    }\n",
              "</style>\n",
              "<table border=\"1\" class=\"dataframe\">\n",
              "  <thead>\n",
              "    <tr style=\"text-align: right;\">\n",
              "      <th></th>\n",
              "      <th>Loss</th>\n",
              "      <th>MAE</th>\n",
              "      <th>RMSE</th>\n",
              "      <th>VAL_LOSS</th>\n",
              "      <th>VAL_MAE</th>\n",
              "      <th>VAL_RMSE</th>\n",
              "    </tr>\n",
              "  </thead>\n",
              "  <tbody>\n",
              "    <tr>\n",
              "      <th>1</th>\n",
              "      <td>0.079429</td>\n",
              "      <td>0.079359</td>\n",
              "      <td>0.079082</td>\n",
              "      <td>0.045624</td>\n",
              "      <td>0.045211</td>\n",
              "      <td>0.049652</td>\n",
              "    </tr>\n",
              "  </tbody>\n",
              "</table>\n",
              "</div>"
            ],
            "text/plain": [
              "       Loss       MAE      RMSE  VAL_LOSS   VAL_MAE  VAL_RMSE\n",
              "1  0.079429  0.079359  0.079082  0.045624  0.045211  0.049652"
            ]
          },
          "metadata": {
            "tags": []
          },
          "execution_count": 133
        }
      ]
    },
    {
      "cell_type": "code",
      "metadata": {
        "id": "m6tp64P9VT26"
      },
      "source": [
        "#Results metrics to a file\n",
        "final_df.to_csv(r\"resultados_lstm_covid.csv\",index=True)"
      ],
      "execution_count": 135,
      "outputs": []
    },
    {
      "cell_type": "code",
      "metadata": {
        "id": "Y9csqBuMVT0T"
      },
      "source": [
        ""
      ],
      "execution_count": 134,
      "outputs": []
    }
  ]
}