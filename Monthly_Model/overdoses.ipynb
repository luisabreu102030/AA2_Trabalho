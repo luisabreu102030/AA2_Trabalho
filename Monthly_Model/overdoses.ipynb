{
 "cells": [
  {
   "cell_type": "code",
   "execution_count": 1,
   "id": "7b1b72af-4ac2-488d-b1dc-bd79e61bcb3f",
   "metadata": {},
   "outputs": [],
   "source": [
    "import numpy as np\n",
    "import pandas as pd\n",
    "from datetime import datetime"
   ]
  },
  {
   "cell_type": "markdown",
   "id": "4bce990a-c298-4e20-b3e0-f36c00cbe897",
   "metadata": {},
   "source": [
    "**Overdoses**"
   ]
  },
  {
   "cell_type": "code",
   "execution_count": 2,
   "id": "c4679021-c210-4f4a-9d3f-45058fac3467",
   "metadata": {
    "tags": []
   },
   "outputs": [],
   "source": [
    "overdoses = pd.read_csv(\"./datasets_monthly/VSRR_Provisional_Drug_Overdose_Death_Counts.csv\", sep = \",\")\n",
    "#overdoses"
   ]
  },
  {
   "cell_type": "code",
   "execution_count": 3,
   "id": "edc91e50-f12e-45a7-be2c-6320927c6f72",
   "metadata": {},
   "outputs": [],
   "source": [
    "overdoses1 = overdoses.loc[(overdoses[\"State Name\"] == \"United States\") & (overdoses[\"Indicator\"] != \"Percent with drugs specified\") & (overdoses[\"Indicator\"] != \"Number of Deaths\")]\n",
    "#overdoses1"
   ]
  },
  {
   "cell_type": "code",
   "execution_count": 4,
   "id": "43f6a975-6ac6-4e6e-b6a6-de8699d6d4c8",
   "metadata": {
    "tags": []
   },
   "outputs": [
    {
     "data": {
      "text/plain": [
       "Year           int64\n",
       "Month         object\n",
       "Indicator     object\n",
       "Data Value     int64\n",
       "dtype: object"
      ]
     },
     "execution_count": 4,
     "metadata": {},
     "output_type": "execute_result"
    }
   ],
   "source": [
    "overdoses1 = overdoses1.drop(columns=[\"State\", \"Period\", \"Percent Complete\", \"Percent Pending Investigation\", \"State Name\", \"Footnote\", \"Footnote Symbol\", \"Predicted Value\"])\n",
    "\n",
    "overdoses1 = overdoses1.astype({'Data Value': 'int64'})\n",
    "\n",
    "overdoses1.dtypes"
   ]
  },
  {
   "cell_type": "code",
   "execution_count": 5,
   "id": "fafd29ae-d9a0-49f9-9632-d0e9e8691e0e",
   "metadata": {
    "tags": []
   },
   "outputs": [],
   "source": [
    "overdoses2 = overdoses1\n",
    "months = []\n",
    "for i in overdoses2['Month'].index:\n",
    "    months.append(datetime.strptime(overdoses2.loc[i, 'Month'], \"%B\").month)\n",
    "overdoses2['Month'] = months\n",
    "overdoses2['Date'] = pd.to_datetime(overdoses2[['Year', 'Month']].assign(DAY=1))\n",
    "overdoses2 = overdoses2.drop(columns=['Year', 'Month'])\n",
    "overdoses2 = overdoses2.pivot(index = ['Date'], columns ='Indicator', values = 'Data Value')\n",
    "\n",
    "overdoses2.head(60)\n",
    "overdoses2.to_csv('./overdoses.csv', index = True)"
   ]
  },
  {
   "cell_type": "code",
   "execution_count": null,
   "id": "69db0b2b-f2b5-4a06-8629-1727a8a9d89b",
   "metadata": {},
   "outputs": [],
   "source": []
  }
 ],
 "metadata": {
  "kernelspec": {
   "display_name": "Python 3",
   "language": "python",
   "name": "python3"
  },
  "language_info": {
   "codemirror_mode": {
    "name": "ipython",
    "version": 3
   },
   "file_extension": ".py",
   "mimetype": "text/x-python",
   "name": "python",
   "nbconvert_exporter": "python",
   "pygments_lexer": "ipython3",
   "version": "3.8.9"
  }
 },
 "nbformat": 4,
 "nbformat_minor": 5
}
