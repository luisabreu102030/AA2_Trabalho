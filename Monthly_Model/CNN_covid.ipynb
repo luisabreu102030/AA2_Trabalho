{
 "cells": [
  {
   "cell_type": "code",
   "execution_count": 1,
   "metadata": {
    "id": "xwrshXUCGqKB"
   },
   "outputs": [],
   "source": [
    "import pandas as pd\n",
    "import numpy as np\n",
    "import tensorflow as tf\n",
    "from sklearn.preprocessing import MinMaxScaler\n",
    "from sklearn.model_selection import TimeSeriesSplit\n",
    "import matplotlib.pyplot as plt"
   ]
  },
  {
   "cell_type": "code",
   "execution_count": 2,
   "metadata": {
    "id": "R37ImDhtGzq1"
   },
   "outputs": [],
   "source": [
    "#for replicability purposes\n",
    "tf.random.set_seed(91195003)\n",
    "np.random.seed(91195003)\n",
    "\n",
    "#for an easy reset backend session state\n",
    "tf.keras.backend.clear_session()"
   ]
  },
  {
   "cell_type": "code",
   "execution_count": 3,
   "metadata": {
    "id": "hyyvaRbYGzoh"
   },
   "outputs": [],
   "source": [
    "#load dataset\n",
    "def load_dataset(path):\n",
    "    return pd.read_csv(path)"
   ]
  },
  {
   "cell_type": "code",
   "execution_count": 4,
   "metadata": {
    "id": "JsSFWZKdGzmK"
   },
   "outputs": [],
   "source": [
    "#split data into training and validation sets\n",
    "def split_data(training, perc=10):\n",
    "    train_idx = np.arange(0,int(len(training)*(100-perc)/100))\n",
    "    val_idx = np.arange(int(len(training)* (100-perc)/100+1),len(training))\n",
    "    return train_idx, val_idx\n"
   ]
  },
  {
   "cell_type": "code",
   "execution_count": 23,
   "metadata": {
    "id": "Aq8WR83nGzjw"
   },
   "outputs": [],
   "source": [
    "#preparing the data for the LSTM\n",
    "def prepare_data(df):\n",
    "    df_raw = df\n",
    "    #Get pair to evaluate for time series\n",
    "    #We are going to predict the opening value for each day\n",
    "    df_raw[\"Data\"] = pd.to_datetime(df_raw[\"Data\"])\n",
    "    df_raw = df_raw.sort_values(\"Data\")\n",
    "    df_raw = df_raw.set_index(\"Data\")\n",
    "    df_raw = df_raw.reindex(columns=['confirmados_arsnorte', 'confirmados_arscentro', 'confirmados_arslvt',\n",
    "       'confirmados_arsalentejo', 'confirmados_arsalgarve',\n",
    "       'confirmados_acores', 'confirmados_madeira', 'confirmados_novos',\n",
    "       'recuperados', 'obitos', 'internados', 'internados_uci',\n",
    "       'confirmados_0_9_f', 'confirmados_0_9_m', 'confirmados_10_19_f',\n",
    "       'confirmados_10_19_m', 'confirmados_20_29_f', 'confirmados_20_29_m',\n",
    "       'confirmados_30_39_f', 'confirmados_30_39_m', 'confirmados_40_49_f',\n",
    "       'confirmados_40_49_m', 'confirmados_50_59_f', 'confirmados_50_59_m',\n",
    "       'confirmados_60_69_f', 'confirmados_60_69_m', 'confirmados_70_79_f',\n",
    "       'confirmados_70_79_m', 'confirmados_80_plus_f', 'confirmados_80_plus_m',\n",
    "       'obitos_arsnorte', 'obitos_arscentro', 'obitos_arslvt',\n",
    "       'obitos_arsalentejo', 'obitos_arsalgarve', 'obitos_acores',\n",
    "       'obitos_madeira', 'obitos_0_9_f', 'obitos_0_9_m', 'obitos_10_19_f',\n",
    "       'obitos_10_19_m', 'obitos_20_29_f', 'obitos_20_29_m', 'obitos_30_39_f',\n",
    "       'obitos_30_39_m', 'obitos_40_49_f', 'obitos_40_49_m', 'obitos_50_59_f',\n",
    "       'obitos_50_59_m', 'obitos_60_69_f', 'obitos_60_69_m', 'obitos_70_79_f',\n",
    "       'obitos_70_79_m', 'obitos_80_plus_f', 'obitos_80_plus_m', 'ativos',\n",
    "       'internados_enfermaria', 'Max_Temp', 'Min_Temp', 'Temperature',\n",
    "       'Precipitation', 'Wind_Speed', 'Wind_Direction', 'Visibility',\n",
    "       'Cloud_Cover', 'Relative_Humidity', 'Rain', 'Clear',\n",
    "       'Partially_cloudy'])\n",
    "    # drop de features com correlação alta a outras\n",
    "    df_raw = df_raw.drop(df_raw.columns.difference(['obitos','confirmados_arsnorte' ,'confirmados_arscentro', 'confirmados_arslvt', 'confirmados_arsalgarve', 'confirmados_acores', 'confirmados_madeira', 'confirmados_novos', 'recuperados', 'internados', 'obitos_arsnorte', 'obitos_arscentro', 'obitos_arsalentejo', 'obitos_80_plus_m', 'Wind_Direction', 'Visibility', 'obitos_0_9_m', 'Cloud_Cover', 'Partially_cloudy']), axis =1)\n",
    "    # df_raw = df_raw.drop(columns=[ 'obitos_0_9_f', 'obitos_10_19_f', 'obitos_10_19_m', 'obitos_20_29_f', 'obitos_20_29_m',\n",
    "    #                               'ativos', 'Partially_cloudy', 'commercial_flights'])\n",
    "    return df_raw\n"
   ]
  },
  {
   "cell_type": "code",
   "execution_count": 6,
   "metadata": {
    "id": "NSkFYsxBGzhJ"
   },
   "outputs": [],
   "source": [
    "def data_normalization(df, norm_range=(-1, 1)):\n",
    "    #[-1, 1] for LSTM due to the internal use of tanh by the memory cell\n",
    "    scaler = MinMaxScaler(feature_range=norm_range)\n",
    "    colunas = [x for x in df.columns if x != 'obitos']\n",
    "    print(colunas)\n",
    "    for col in colunas:\n",
    "        df[[col]] = scaler.fit_transform(df[[col]])\n",
    "    df[['obitos']] = scaler.fit_transform(df[['obitos']])\n",
    "    \n",
    "    return scaler"
   ]
  },
  {
   "cell_type": "code",
   "execution_count": 7,
   "metadata": {
    "id": "EvFxeqa-GzYx"
   },
   "outputs": [],
   "source": [
    "#plot learning curve\n",
    "def plot_learning_curves(history, epochs):\n",
    "    #accuracies and losses\n",
    "    #dict_keys(['loss', 'mae', 'rmse', 'val_loss', 'val_mae', 'val_rmse'])\n",
    "    loss=history.history['loss']\n",
    "    val_loss=history.history['val_loss']\n",
    "    epochs_range = range(epochs)\n",
    "    #creating figure\n",
    "    plt.figure(figsize=(8,8))\n",
    "    plt.subplot(1,2,2)\n",
    "    plt.plot(epochs_range,loss,label='Training Loss')\n",
    "    plt.plot(epochs_range,val_loss,label='Validation Loss')\n",
    "    plt.legend(loc='upper right')\n",
    "    plt.title('Training/Validation Loss')\n",
    "    plt.show()\n"
   ]
  },
  {
   "cell_type": "code",
   "execution_count": 8,
   "metadata": {
    "id": "Jn07dHs2Gzeo"
   },
   "outputs": [],
   "source": [
    "#Plot time series data\n",
    "def plot_confirmed_cases(data):\n",
    "    plt.figure(figsize=(8,6))\n",
    "    plt.plot(range(len(data)), data)\n",
    "    plt.title('Dataset Features')\n",
    "    plt.ylabel('Valores')\n",
    "    plt.xlabel('Semanas')\n",
    "    plt.show()"
   ]
  },
  {
   "cell_type": "code",
   "execution_count": 9,
   "metadata": {
    "id": "n4IvSe24GzRB"
   },
   "outputs": [],
   "source": [
    "#Preparing the dataset for the CNN\n",
    "def to_supervised(df, timesteps):\n",
    "    data = df.values\n",
    "    X,y = list(), list()\n",
    "    #iterate over the training set to create X and y\n",
    "    dataset_size = len(data)\n",
    "    for curr_pos in range(dataset_size):\n",
    "        #end of the input sequence is the current position + the number of the timesteps of the input sequence\n",
    "        input_index = curr_pos + timesteps\n",
    "        #end of the labels corresponds to the end of the input sequence + 1\n",
    "        label_index = input_index + 1\n",
    "        #if we have enough data for this sequence\n",
    "        if label_index < dataset_size:\n",
    "            X.append(data[curr_pos:input_index,:])\n",
    "            y.append(data[input_index:label_index,0])\n",
    "        #using np.flot32 for GPU performance\n",
    "    return np.array(X).astype('float32'), np.array(y).astype('float32')"
   ]
  },
  {
   "cell_type": "code",
   "execution_count": 10,
   "metadata": {
    "id": "xYrGYxS9HChC"
   },
   "outputs": [],
   "source": [
    "#Building the model\n",
    "def rmse(y_true, y_pred):\n",
    "    return tf.keras.backend.sqrt(tf.keras.backend.mean(tf.keras.backend.square(y_pred - y_true)))\n"
   ]
  },
  {
   "cell_type": "code",
   "execution_count": 11,
   "metadata": {
    "id": "dhzJKkf0HCeq"
   },
   "outputs": [],
   "source": [
    "def build_model(timesteps, features, filters= 16, kernel_size=5, pool_size =2 ):\n",
    "    #using the functional API\n",
    "    inputs = tf.keras.layers.Input(shape=(timesteps, features))\n",
    "    #microarchitecture\n",
    "    x = tf.keras.layers.Conv1D(filters=filters, kernel_size = kernel_size, activation='relu', data_format = 'channels_last')(inputs)\n",
    "    x = tf.keras.layers.AveragePooling1D(pool_size = pool_size, data_format = 'channels_first')(x)\n",
    "    #last layers\n",
    "    x = tf.keras.layers.Flatten()(x)\n",
    "    x = tf.keras.layers.Dense(filters)(x)\n",
    "    outputs = tf.keras.layers.Dense(1)(x)\n",
    "    #the model\n",
    "    cnnModel = tf.keras.Model(inputs=inputs, outputs=outputs, name='cnn_model')\n",
    "    tf.keras.utils.plot_model(cnnModel,'cnnmodel.png', show_shapes=True)\n",
    "    return cnnModel"
   ]
  },
  {
   "cell_type": "code",
   "execution_count": 12,
   "metadata": {
    "id": "rmXqliMFHCcR"
   },
   "outputs": [],
   "source": [
    "def compile_and_fit(model, epochs, batch_size):\n",
    "    #compile\n",
    "    model.compile(loss=rmse, optimizer = tf.keras.optimizers.Adam(), metrics = ['mae',rmse])\n",
    "    #fit\n",
    "    hist_list = list()\n",
    "    loss_list = list()\n",
    "    #Time Series Cross Validator\n",
    "    tscv = TimeSeriesSplit(n_splits=cv_splits)\n",
    "    for train_index, test_index in tscv.split(X):\n",
    "        train_idx, val_idx = split_data(train_index, perc=10) #further split into training and validation sets\n",
    "        #build data\n",
    "        X_train, y_train = X[train_idx], y[train_idx]\n",
    "        X_val, y_val = X[val_idx], y[val_idx]\n",
    "        X_test, y_test = X[test_index], y[test_index]\n",
    "        history = model.fit(X_train, y_train, validation_data=(X_val, y_val), epochs=epochs, batch_size=batch_size,shuffle=False)\n",
    "        metrics = model.evaluate(X_test, y_test)\n",
    "\n",
    "        plot_learning_curves(history, epochs)\n",
    "        hist_list.append(history)\n",
    "\n",
    "    return model, hist_list"
   ]
  },
  {
   "cell_type": "code",
   "execution_count": 13,
   "metadata": {
    "id": "1qRDuAWIHCZy"
   },
   "outputs": [],
   "source": [
    "def forecast(model, df, timesteps, multisteps, scaler):\n",
    "    input_seq = df[-timesteps:].values #getting the last sequence of known value\n",
    "    inp = input_seq\n",
    "    forecasts = list()\n",
    "    print(inp)\n",
    "    #multistep tells us how many iterations we want to perform\n",
    "    #i. e. how many days we want to predict\n",
    "    for step in range(1, multisteps+1):\n",
    "        #implement\n",
    "        inp = inp.reshape(1, timesteps, n_variate)\n",
    "        pred = model.predict(inp)\n",
    "        yhat_inversed = scaler.inverse_transform(pred)\n",
    "        forecasts.append(yhat_inversed)\n",
    "        #prepare new input to forecast the next day\n",
    "        # inp = np.append(inp[0], pred)        \n",
    "        # inp = inp[-timesteps:]\n",
    "        # list_pred = [pred[0][i] for i in range(len(pred[0]))]\n",
    "        # print('list_yhat:')\n",
    "        # print(list_pred)\n",
    "        # inp= np.append(inp[0],[list_pred],axis=0) #adiciona previsão recente ao input\n",
    "        # inp = inp[-timesteps:]#vai ao input buscar os ultimos timesteps registados\n",
    "        # print(step)\n",
    "        print(step)\n",
    "            \n",
    "    return forecasts"
   ]
  },
  {
   "cell_type": "code",
   "execution_count": 14,
   "metadata": {
    "id": "V5cxiRFhHI2z"
   },
   "outputs": [],
   "source": [
    "def plot_forecast(data, forecasts):\n",
    "    plt.figure(figsize=(8,6))\n",
    "    plt.plot(range(len(data)),data[\"obitos\"], color='green', label='Confirmed')\n",
    "        \n",
    "    fi=[]\n",
    "    for f in forecasts:\n",
    "        fi.append(f[0][0])\n",
    "        print('Previsão:' + str(f))\n",
    "    print(fi)\n",
    "        \n",
    "    plt.plot(range(len(data)-1,len(data)+len(fi)-1), fi, color='red', label='Forecasts')\n",
    "    \n",
    "    plt.title('Mortes por covid')\n",
    "    plt.ylabel('Mortes')\n",
    "    plt.xlabel('Meses')\n",
    "    plt.legend()\n",
    "    plt.show()"
   ]
  },
  {
   "cell_type": "code",
   "execution_count": 24,
   "metadata": {
    "colab": {
     "base_uri": "https://localhost:8080/",
     "height": 1000
    },
    "id": "e4XvximOHIxZ",
    "outputId": "b2dcd49b-8d30-4e7e-86d6-8827229a527f"
   },
   "outputs": [
    {
     "data": {
      "image/png": "[encoded data removed]",
      "text/plain": [
       "<Figure size 576x432 with 1 Axes>"
      ]
     },
     "metadata": {
      "needs_background": "light"
     },
     "output_type": "display_data"
    },
    {
     "name": "stdout",
     "output_type": "stream",
     "text": [
      "['confirmados_arsnorte', 'confirmados_arscentro', 'confirmados_arslvt', 'confirmados_arsalgarve', 'confirmados_acores', 'confirmados_madeira', 'confirmados_novos', 'recuperados', 'internados', 'obitos_arsnorte', 'obitos_arscentro', 'obitos_arsalentejo', 'obitos_0_9_m', 'obitos_80_plus_m', 'Wind_Direction', 'Visibility', 'Cloud_Cover', 'Partially_cloudy']\n",
      "('Failed to import pydot. You must `pip install pydot` and install graphviz (https://graphviz.gitlab.io/download/), ', 'for `pydotprint` to work.')\n",
      "Epoch 1/10\n",
      "1/1 [==============================] - 1s 1s/step - loss: 0.4821 - mae: 0.4814 - rmse: 0.4821\n",
      "Epoch 2/10\n",
      "1/1 [==============================] - 0s 53ms/step - loss: 0.4321 - mae: 0.4313 - rmse: 0.4321\n",
      "Epoch 3/10\n",
      "1/1 [==============================] - 0s 58ms/step - loss: 0.3825 - mae: 0.3815 - rmse: 0.3825\n",
      "Epoch 4/10\n",
      "1/1 [==============================] - 0s 50ms/step - loss: 0.3329 - mae: 0.3318 - rmse: 0.3329\n",
      "Epoch 5/10\n",
      "1/1 [==============================] - 0s 55ms/step - loss: 0.2835 - mae: 0.2822 - rmse: 0.2835\n",
      "Epoch 6/10\n",
      "1/1 [==============================] - 0s 63ms/step - loss: 0.2343 - mae: 0.2326 - rmse: 0.2343\n",
      "Epoch 7/10\n",
      "1/1 [==============================] - 0s 53ms/step - loss: 0.1860 - mae: 0.1837 - rmse: 0.1860\n",
      "Epoch 8/10\n",
      "1/1 [==============================] - 0s 50ms/step - loss: 0.1392 - mae: 0.1357 - rmse: 0.1392\n",
      "Epoch 9/10\n",
      "1/1 [==============================] - 0s 62ms/step - loss: 0.0931 - mae: 0.0874 - rmse: 0.0931\n",
      "Epoch 10/10\n",
      "1/1 [==============================] - 0s 53ms/step - loss: 0.0477 - mae: 0.0367 - rmse: 0.0477\n",
      "1/1 [==============================] - 0s 228ms/step - loss: 0.5886 - mae: 0.4554 - rmse: 0.5886\n"
     ]
    },
    {
     "ename": "KeyError",
     "evalue": "'val_loss'",
     "output_type": "error",
     "traceback": [
      "\u001b[1;31m---------------------------------------------------------------------------\u001b[0m",
      "\u001b[1;31mKeyError\u001b[0m                                  Traceback (most recent call last)",
      "\u001b[1;32m<ipython-input-24-88373564283f>\u001b[0m in \u001b[0;36m<module>\u001b[1;34m\u001b[0m\n\u001b[0;32m     53\u001b[0m \u001b[1;33m\u001b[0m\u001b[0m\n\u001b[0;32m     54\u001b[0m     \u001b[0mmodel\u001b[0m \u001b[1;33m=\u001b[0m \u001b[0mbuild_model\u001b[0m\u001b[1;33m(\u001b[0m\u001b[0mtimesteps\u001b[0m\u001b[1;33m,\u001b[0m \u001b[0mn_variate\u001b[0m\u001b[1;33m)\u001b[0m\u001b[1;33m\u001b[0m\u001b[1;33m\u001b[0m\u001b[0m\n\u001b[1;32m---> 55\u001b[1;33m     \u001b[0mmodel\u001b[0m\u001b[1;33m,\u001b[0m \u001b[0mhistory\u001b[0m \u001b[1;33m=\u001b[0m \u001b[0mcompile_and_fit\u001b[0m\u001b[1;33m(\u001b[0m\u001b[0mmodel\u001b[0m\u001b[1;33m,\u001b[0m \u001b[0mepochs\u001b[0m\u001b[1;33m,\u001b[0m \u001b[0mbatch_size\u001b[0m\u001b[1;33m)\u001b[0m\u001b[1;33m\u001b[0m\u001b[1;33m\u001b[0m\u001b[0m\n\u001b[0m\u001b[0;32m     56\u001b[0m     \u001b[1;31m# print(\"df: \",df.shape,\" timesteps\",timesteps,\" multisteps \",multisteps)\u001b[0m\u001b[1;33m\u001b[0m\u001b[1;33m\u001b[0m\u001b[1;33m\u001b[0m\u001b[0m\n\u001b[0;32m     57\u001b[0m     \u001b[0mforecasts\u001b[0m \u001b[1;33m=\u001b[0m \u001b[0mforecast\u001b[0m\u001b[1;33m(\u001b[0m\u001b[0mmodel\u001b[0m\u001b[1;33m,\u001b[0m \u001b[0mdf\u001b[0m\u001b[1;33m,\u001b[0m \u001b[0mtimesteps\u001b[0m\u001b[1;33m,\u001b[0m \u001b[0mmultisteps\u001b[0m\u001b[1;33m,\u001b[0m \u001b[0mscaler\u001b[0m\u001b[1;33m)\u001b[0m\u001b[1;33m\u001b[0m\u001b[1;33m\u001b[0m\u001b[0m\n",
      "\u001b[1;32m<ipython-input-12-b6555b8ecd75>\u001b[0m in \u001b[0;36mcompile_and_fit\u001b[1;34m(model, epochs, batch_size)\u001b[0m\n\u001b[0;32m     16\u001b[0m         \u001b[0mmetrics\u001b[0m \u001b[1;33m=\u001b[0m \u001b[0mmodel\u001b[0m\u001b[1;33m.\u001b[0m\u001b[0mevaluate\u001b[0m\u001b[1;33m(\u001b[0m\u001b[0mX_test\u001b[0m\u001b[1;33m,\u001b[0m \u001b[0my_test\u001b[0m\u001b[1;33m)\u001b[0m\u001b[1;33m\u001b[0m\u001b[1;33m\u001b[0m\u001b[0m\n\u001b[0;32m     17\u001b[0m \u001b[1;33m\u001b[0m\u001b[0m\n\u001b[1;32m---> 18\u001b[1;33m         \u001b[0mplot_learning_curves\u001b[0m\u001b[1;33m(\u001b[0m\u001b[0mhistory\u001b[0m\u001b[1;33m,\u001b[0m \u001b[0mepochs\u001b[0m\u001b[1;33m)\u001b[0m\u001b[1;33m\u001b[0m\u001b[1;33m\u001b[0m\u001b[0m\n\u001b[0m\u001b[0;32m     19\u001b[0m         \u001b[0mhist_list\u001b[0m\u001b[1;33m.\u001b[0m\u001b[0mappend\u001b[0m\u001b[1;33m(\u001b[0m\u001b[0mhistory\u001b[0m\u001b[1;33m)\u001b[0m\u001b[1;33m\u001b[0m\u001b[1;33m\u001b[0m\u001b[0m\n\u001b[0;32m     20\u001b[0m \u001b[1;33m\u001b[0m\u001b[0m\n",
      "\u001b[1;32m<ipython-input-7-90f69b4cfe1a>\u001b[0m in \u001b[0;36mplot_learning_curves\u001b[1;34m(history, epochs)\u001b[0m\n\u001b[0;32m      4\u001b[0m     \u001b[1;31m#dict_keys(['loss', 'mae', 'rmse', 'val_loss', 'val_mae', 'val_rmse'])\u001b[0m\u001b[1;33m\u001b[0m\u001b[1;33m\u001b[0m\u001b[1;33m\u001b[0m\u001b[0m\n\u001b[0;32m      5\u001b[0m     \u001b[0mloss\u001b[0m\u001b[1;33m=\u001b[0m\u001b[0mhistory\u001b[0m\u001b[1;33m.\u001b[0m\u001b[0mhistory\u001b[0m\u001b[1;33m[\u001b[0m\u001b[1;34m'loss'\u001b[0m\u001b[1;33m]\u001b[0m\u001b[1;33m\u001b[0m\u001b[1;33m\u001b[0m\u001b[0m\n\u001b[1;32m----> 6\u001b[1;33m     \u001b[0mval_loss\u001b[0m\u001b[1;33m=\u001b[0m\u001b[0mhistory\u001b[0m\u001b[1;33m.\u001b[0m\u001b[0mhistory\u001b[0m\u001b[1;33m[\u001b[0m\u001b[1;34m'val_loss'\u001b[0m\u001b[1;33m]\u001b[0m\u001b[1;33m\u001b[0m\u001b[1;33m\u001b[0m\u001b[0m\n\u001b[0m\u001b[0;32m      7\u001b[0m     \u001b[0mepochs_range\u001b[0m \u001b[1;33m=\u001b[0m \u001b[0mrange\u001b[0m\u001b[1;33m(\u001b[0m\u001b[0mepochs\u001b[0m\u001b[1;33m)\u001b[0m\u001b[1;33m\u001b[0m\u001b[1;33m\u001b[0m\u001b[0m\n\u001b[0;32m      8\u001b[0m     \u001b[1;31m#creating figure\u001b[0m\u001b[1;33m\u001b[0m\u001b[1;33m\u001b[0m\u001b[1;33m\u001b[0m\u001b[0m\n",
      "\u001b[1;31mKeyError\u001b[0m: 'val_loss'"
     ]
    }
   ],
   "source": [
    "################################\n",
    "################################\n",
    "########                ########\n",
    "######## Main Execution ########\n",
    "########                ########\n",
    "################################\n",
    "################################\n",
    "\n",
    "n_variate = 4 #1, 2, 3  # number of features used by the model (using conf. cases to predict conf. cases) \n",
    "\n",
    "#the dataframes\n",
    "\n",
    "df_raw = load_dataset('data_covid.csv')\n",
    "df_data = prepare_data(df_raw)\n",
    "df = df_data.copy()\n",
    "n_variate = len(df.columns)\n",
    "plot_confirmed_cases(df_data) #the plot you saw previously\n",
    "scaler = data_normalization(df) #scaling data to [-1,1]\n",
    "\n",
    "\n",
    "##Optimization\n",
    "\n",
    "tunning_dict = {\n",
    "                  1: {'timesteps' : 5, 'multisteps' : 1, 'cv_splits': 3, 'epochs' : 10,  'batch_size' : 5 }#,\n",
    "                  #2: {'timesteps' : 7, 'multisteps' : 1, 'cv_splits' : 3, 'epochs' : 50,  'batch_size' : 5 },\n",
    "                  #3: {'timesteps' : 7, 'multisteps' : 1, 'cv_splits' : 3, 'epochs' : 100,  'batch_size' : 5 },\n",
    "\n",
    "                  #\n",
    "                  #4: {'timesteps' : 8, 'multisteps' : 1, 'cv_splits': 3, 'epochs' : 60,  'batch_size' : 5 },\n",
    "                  #5: {'timesteps' : 8, 'multisteps' : 1, 'cv_splits' : 3, 'epochs' : 90,  'batch_size' : 5 },\n",
    "                  #6: {'timesteps' : 8, 'multisteps' : 1, 'cv_splits' : 3, 'epochs' : 120,  'batch_size' : 5 },\n",
    "                  #\n",
    "                  #7: {'timesteps' : 10, 'multisteps' : 1, 'cv_splits': 3, 'epochs' : 50,  'batch_size' : 8 },\n",
    "                  #8: {'timesteps' : 10, 'multisteps' : 1, 'cv_splits' : 3, 'epochs' : 90,  'batch_size' : 8 },\n",
    "                  #9: {'timesteps' : 10, 'multisteps' : 1, 'cv_splits' : 3, 'epochs' : 120,  'batch_size' : 8 }\n",
    "\n",
    "  }\n",
    "  # record da history de cada modelo\n",
    "record = {}\n",
    "\n",
    "#tunning the model cycle\n",
    "for t in tunning_dict:\n",
    "    # print(record[r])\n",
    "    # fitting the model\n",
    "    timesteps = tunning_dict[t]['timesteps']\n",
    "    epochs = tunning_dict[t]['epochs']\n",
    "    batch_size = tunning_dict[t]['batch_size']\n",
    "    multisteps = tunning_dict[t]['multisteps']\n",
    "    cv_splits = tunning_dict[t]['cv_splits']\n",
    "    # print(timesteps,epochs,batch_size,cv_splits)\n",
    "\n",
    "    X, y = to_supervised(df, timesteps)\n",
    "\n",
    "    model = build_model(timesteps, n_variate)\n",
    "    model, history = compile_and_fit(model, epochs, batch_size)\n",
    "    # print(\"df: \",df.shape,\" timesteps\",timesteps,\" multisteps \",multisteps)\n",
    "    forecasts = forecast(model, df, timesteps, multisteps, scaler)\n",
    "    plot_forecast(df_data, forecasts)\n",
    "    print(forecasts)\n",
    "\n",
    "    prev = []\n",
    "\n",
    "    record[t] = history\n",
    "\n",
    "\n",
    "#Put the resulting metrics in a file\n",
    "id_tunning = 1\n",
    "id_split = 1\n",
    "\n",
    "final_dict = {}\n",
    "\n",
    "for r in record:\n",
    "    # print(tunning_dict[1]['epochs'])\n",
    "    loss = []\n",
    "    mae = []\n",
    "    rmse = []\n",
    "    val_loss = []\n",
    "    val_mae = []\n",
    "    val_rmse = []\n",
    "\n",
    "    for h in record[r]:\n",
    "        # print(\"Tunning ID:  \",id_tunning,\" Split ID: \",id_split)\n",
    "        # plot_learning_curves(h, tunning_dict[id_tunning]['epochs'])\n",
    "        # ['loss', 'mae', 'rmse', 'val_loss', 'val_mae', 'val_rmse']\n",
    "        # print(\"loss: \",sum(h.history['loss'])/len(h.history['loss']),\" MAE: \",sum(h.history['mae'])/len(h.history['mae']),\" RMSE: \",sum(h.history['rmse'])/len(h.history['rmse']),\" VAL_LOSS: \",sum(h.history['val_loss'])/len(h.history['val_loss']),\" VAL_MAE: \",sum(h.history['val_mae'])/len(h.history['val_mae']),\" VAL_RMSE: \",sum(h.history['val_rmse'])/len(h.history['val_rmse']))\n",
    "        loss.append(sum(h.history['loss']) / len(h.history['loss']))\n",
    "        mae.append(sum(h.history['mae']) / len(h.history['mae']))\n",
    "        rmse.append(sum(h.history['rmse']) / len(h.history['rmse']))\n",
    "        val_loss.append(sum(h.history['val_loss']) / len(h.history['val_loss']))\n",
    "        val_mae.append(sum(h.history['val_mae']) / len(h.history['val_mae']))\n",
    "        val_rmse.append(sum(h.history['val_rmse']) / len(h.history['val_rmse']))\n",
    "        id_split += 1\n",
    "    id_split = 1\n",
    "\n",
    "    final_dict[id_tunning] = [sum(loss) / len(loss), sum(mae) / len(mae), sum(rmse) / len(rmse),\n",
    "                              sum(val_loss) / len(val_loss), sum(val_mae) / len(val_mae), sum(val_rmse) / len(val_rmse)]\n",
    "\n",
    "    id_tunning = id_tunning + 1"
   ]
  },
  {
   "cell_type": "code",
   "execution_count": null,
   "metadata": {
    "colab": {
     "base_uri": "https://localhost:8080/",
     "height": 147
    },
    "id": "rZv60QJ9QdKR",
    "outputId": "4295c992-e73c-431c-833e-a44c260f17d3"
   },
   "outputs": [
    {
     "name": "stdout",
     "output_type": "stream",
     "text": [
      "Loss | MAE | RMSE | VAL_LOSS | VAL_MAE | VAL_RMSE\n",
      "ID tunning:  1  Valores:  [0.10086262313028177, 0.0875071513156096, 0.09776540212333203, 0.1426882608483235, 0.12633008857568107, 0.1426882608483235] \n",
      "\n"
     ]
    },
    {
     "data": {
      "text/html": [
       "<div>\n",
       "<style scoped>\n",
       "    .dataframe tbody tr th:only-of-type {\n",
       "        vertical-align: middle;\n",
       "    }\n",
       "\n",
       "    .dataframe tbody tr th {\n",
       "        vertical-align: top;\n",
       "    }\n",
       "\n",
       "    .dataframe thead th {\n",
       "        text-align: right;\n",
       "    }\n",
       "</style>\n",
       "<table border=\"1\" class=\"dataframe\">\n",
       "  <thead>\n",
       "    <tr style=\"text-align: right;\">\n",
       "      <th></th>\n",
       "      <th>Loss</th>\n",
       "      <th>MAE</th>\n",
       "      <th>RMSE</th>\n",
       "      <th>VAL_LOSS</th>\n",
       "      <th>VAL_MAE</th>\n",
       "      <th>VAL_RMSE</th>\n",
       "    </tr>\n",
       "  </thead>\n",
       "  <tbody>\n",
       "    <tr>\n",
       "      <th>1</th>\n",
       "      <td>0.100863</td>\n",
       "      <td>0.087507</td>\n",
       "      <td>0.097765</td>\n",
       "      <td>0.142688</td>\n",
       "      <td>0.12633</td>\n",
       "      <td>0.142688</td>\n",
       "    </tr>\n",
       "  </tbody>\n",
       "</table>\n",
       "</div>"
      ],
      "text/plain": [
       "       Loss       MAE      RMSE  VAL_LOSS  VAL_MAE  VAL_RMSE\n",
       "1  0.100863  0.087507  0.097765  0.142688  0.12633  0.142688"
      ]
     },
     "execution_count": 81,
     "metadata": {
      "tags": []
     },
     "output_type": "execute_result"
    }
   ],
   "source": [
    "for f in final_dict:\n",
    "print(\"Loss | MAE | RMSE | VAL_LOSS | VAL_MAE | VAL_RMSE\")\n",
    "    print(\"ID tunning: \",f, \" Valores: \",final_dict[f],\"\\n\")\n",
    "\n",
    "final_df = pd.DataFrame.from_dict(final_dict, orient='index')\n",
    "final_df.columns = ['Loss','MAE','RMSE','VAL_LOSS','VAL_MAE','VAL_RMSE']\n",
    "final_df"
   ]
  },
  {
   "cell_type": "code",
   "execution_count": null,
   "metadata": {
    "id": "GucZeeiMQc8B"
   },
   "outputs": [],
   "source": [
    "#Results metrics to a file\n",
    "final_df.to_csv(r\"resultados_cnn_covid.csv\",index=True)"
   ]
  }
 ],
 "metadata": {
  "colab": {
   "collapsed_sections": [],
   "name": "portugal_CNN_AA2.ipynb",
   "provenance": []
  },
  "kernelspec": {
   "display_name": "Python 3",
   "language": "python",
   "name": "python3"
  },
  "language_info": {
   "codemirror_mode": {
    "name": "ipython",
    "version": 3
   },
   "file_extension": ".py",
   "mimetype": "text/x-python",
   "name": "python",
   "nbconvert_exporter": "python",
   "pygments_lexer": "ipython3",
   "version": "3.8.9"
  }
 },
 "nbformat": 4,
 "nbformat_minor": 4
}
